{
 "cells": [
  {
   "cell_type": "code",
   "execution_count": 5,
   "metadata": {
    "collapsed": true
   },
   "outputs": [],
   "source": [
    "import pandas as pd\n",
    "import numpy as np\n",
    "from pandas.tseries.offsets import *"
   ]
  },
  {
   "cell_type": "code",
   "execution_count": 1,
   "metadata": {
    "collapsed": false
   },
   "outputs": [
    {
     "data": {
      "text/plain": [
       "DatetimeIndex(['2011-01-01 00:00:00', '2011-01-01 01:00:00',\n",
       "               '2011-01-01 02:00:00', '2011-01-01 03:00:00',\n",
       "               '2011-01-01 04:00:00'],\n",
       "              dtype='datetime64[ns]', freq='H')"
      ]
     },
     "execution_count": 1,
     "metadata": {},
     "output_type": "execute_result"
    }
   ],
   "source": [
    "\n",
    "rng = pd.date_range('1/1/2011',periods=72,freq='H')\n",
    "rng[:5]"
   ]
  },
  {
   "cell_type": "code",
   "execution_count": 3,
   "metadata": {
    "collapsed": false
   },
   "outputs": [
    {
     "data": {
      "text/plain": [
       "2011-01-01 00:00:00   -0.802980\n",
       "2011-01-01 01:00:00   -0.202517\n",
       "2011-01-01 02:00:00    0.403520\n",
       "2011-01-01 03:00:00   -0.913172\n",
       "2011-01-01 04:00:00    0.468549\n",
       "Freq: H, dtype: float64"
      ]
     },
     "execution_count": 3,
     "metadata": {},
     "output_type": "execute_result"
    }
   ],
   "source": [
    "ts = pd.Series(np.random.randn(len(rng)), index=rng)\n",
    "ts.head()"
   ]
  },
  {
   "cell_type": "code",
   "execution_count": 5,
   "metadata": {
    "collapsed": false
   },
   "outputs": [
    {
     "data": {
      "text/plain": [
       "2011-01-01 00:00:00   -0.802980\n",
       "2011-01-01 00:45:00   -0.802980\n",
       "2011-01-01 01:30:00   -0.202517\n",
       "2011-01-01 02:15:00    0.403520\n",
       "2011-01-01 03:00:00   -0.913172\n",
       "Freq: 45T, dtype: float64"
      ]
     },
     "execution_count": 5,
     "metadata": {},
     "output_type": "execute_result"
    }
   ],
   "source": [
    "# 将间隔频率改为45分钟，前向填充\n",
    "converted = ts.asfreq('45Min', method='pad')\n",
    "converted.head()"
   ]
  },
  {
   "cell_type": "code",
   "execution_count": 7,
   "metadata": {
    "collapsed": false
   },
   "outputs": [
    {
     "data": {
      "text/plain": [
       "2011-01-01    0.031038\n",
       "2011-01-02    0.014778\n",
       "2011-01-03   -0.035678\n",
       "Freq: D, dtype: float64"
      ]
     },
     "execution_count": 7,
     "metadata": {},
     "output_type": "execute_result"
    }
   ],
   "source": [
    "# 计算每一天的均值\n",
    "ts.resample('D').mean()"
   ]
  },
  {
   "cell_type": "code",
   "execution_count": 9,
   "metadata": {
    "collapsed": false,
    "scrolled": true
   },
   "outputs": [
    {
     "data": {
      "text/plain": [
       "Timestamp('2012-05-01 00:00:00')"
      ]
     },
     "execution_count": 9,
     "metadata": {},
     "output_type": "execute_result"
    }
   ],
   "source": [
    "pd.Timestamp(pd.datetime(2012,5,1))"
   ]
  },
  {
   "cell_type": "code",
   "execution_count": 12,
   "metadata": {
    "collapsed": false
   },
   "outputs": [
    {
     "data": {
      "text/plain": [
       "Timestamp('2012-05-01 00:00:00')"
      ]
     },
     "execution_count": 12,
     "metadata": {},
     "output_type": "execute_result"
    }
   ],
   "source": [
    "pd.Timestamp('2012-05-01')"
   ]
  },
  {
   "cell_type": "markdown",
   "metadata": {},
   "source": []
  },
  {
   "cell_type": "code",
   "execution_count": 11,
   "metadata": {
    "collapsed": false
   },
   "outputs": [
    {
     "data": {
      "text/plain": [
       "Period('2012-01', 'M')"
      ]
     },
     "execution_count": 11,
     "metadata": {},
     "output_type": "execute_result"
    }
   ],
   "source": [
    "# 时间段\n",
    "pd.Period('2012-01')"
   ]
  },
  {
   "cell_type": "code",
   "execution_count": 13,
   "metadata": {
    "collapsed": false
   },
   "outputs": [
    {
     "data": {
      "text/plain": [
       "Period('2012-05-01', 'D')"
      ]
     },
     "execution_count": 13,
     "metadata": {},
     "output_type": "execute_result"
    }
   ],
   "source": [
    "pd.Period('2012-05', freq='D')"
   ]
  },
  {
   "cell_type": "code",
   "execution_count": 14,
   "metadata": {
    "collapsed": false
   },
   "outputs": [
    {
     "data": {
      "text/plain": [
       "pandas.tseries.index.DatetimeIndex"
      ]
     },
     "execution_count": 14,
     "metadata": {},
     "output_type": "execute_result"
    }
   ],
   "source": [
    "dates = [pd.Timestamp('2012-01-01'),pd.Timestamp('2012-01-02'),pd.Timestamp('2012-01-03')]\n",
    "ts = pd.Series(np.random.randn(3), dates)\n",
    "type(ts.index)"
   ]
  },
  {
   "cell_type": "code",
   "execution_count": 15,
   "metadata": {
    "collapsed": false
   },
   "outputs": [
    {
     "data": {
      "text/plain": [
       "DatetimeIndex(['2012-01-01', '2012-01-02', '2012-01-03'], dtype='datetime64[ns]', freq=None)"
      ]
     },
     "execution_count": 15,
     "metadata": {},
     "output_type": "execute_result"
    }
   ],
   "source": [
    "ts.index"
   ]
  },
  {
   "cell_type": "code",
   "execution_count": 16,
   "metadata": {
    "collapsed": false
   },
   "outputs": [
    {
     "data": {
      "text/plain": [
       "2012-01-01   -1.078890\n",
       "2012-01-02   -0.219157\n",
       "2012-01-03    1.106422\n",
       "dtype: float64"
      ]
     },
     "execution_count": 16,
     "metadata": {},
     "output_type": "execute_result"
    }
   ],
   "source": [
    "ts"
   ]
  },
  {
   "cell_type": "code",
   "execution_count": 17,
   "metadata": {
    "collapsed": false
   },
   "outputs": [
    {
     "data": {
      "text/plain": [
       "pandas.tseries.period.PeriodIndex"
      ]
     },
     "execution_count": 17,
     "metadata": {},
     "output_type": "execute_result"
    }
   ],
   "source": [
    "periods = [pd.Period('2012-01'),pd.Period('2012-02'),pd.Period('2012-03')]\n",
    "ts = pd.Series(np.random.randn(3), periods)\n",
    "type(ts.index)"
   ]
  },
  {
   "cell_type": "code",
   "execution_count": 18,
   "metadata": {
    "collapsed": false
   },
   "outputs": [
    {
     "data": {
      "text/plain": [
       "PeriodIndex(['2012-01', '2012-02', '2012-03'], dtype='int64', freq='M')"
      ]
     },
     "execution_count": 18,
     "metadata": {},
     "output_type": "execute_result"
    }
   ],
   "source": [
    "ts.index"
   ]
  },
  {
   "cell_type": "code",
   "execution_count": 19,
   "metadata": {
    "collapsed": false
   },
   "outputs": [
    {
     "data": {
      "text/plain": [
       "2012-01    0.602544\n",
       "2012-02   -1.358596\n",
       "2012-03    0.863196\n",
       "Freq: M, dtype: float64"
      ]
     },
     "execution_count": 19,
     "metadata": {},
     "output_type": "execute_result"
    }
   ],
   "source": [
    "ts"
   ]
  },
  {
   "cell_type": "markdown",
   "metadata": {},
   "source": [
    "## 转为时间戳"
   ]
  },
  {
   "cell_type": "code",
   "execution_count": 20,
   "metadata": {
    "collapsed": false,
    "scrolled": true
   },
   "outputs": [
    {
     "data": {
      "text/plain": [
       "0   2009-07-31\n",
       "1   2010-01-10\n",
       "2          NaT\n",
       "dtype: datetime64[ns]"
      ]
     },
     "execution_count": 20,
     "metadata": {},
     "output_type": "execute_result"
    }
   ],
   "source": [
    "# Series 转为 Series\n",
    "pd.to_datetime(pd.Series(['Jul 31, 2009','2010-01-10',None]))"
   ]
  },
  {
   "cell_type": "code",
   "execution_count": 21,
   "metadata": {
    "collapsed": false
   },
   "outputs": [
    {
     "data": {
      "text/plain": [
       "DatetimeIndex(['2005-11-23', '2010-12-31'], dtype='datetime64[ns]', freq=None)"
      ]
     },
     "execution_count": 21,
     "metadata": {},
     "output_type": "execute_result"
    }
   ],
   "source": [
    "# list 转为 DatetimeIndex\n",
    "pd.to_datetime(['2005/11/23','2010.12.31'])"
   ]
  },
  {
   "cell_type": "code",
   "execution_count": 22,
   "metadata": {
    "collapsed": false
   },
   "outputs": [
    {
     "data": {
      "text/plain": [
       "DatetimeIndex(['2012-01-04 10:00:00'], dtype='datetime64[ns]', freq=None)"
      ]
     },
     "execution_count": 22,
     "metadata": {},
     "output_type": "execute_result"
    }
   ],
   "source": [
    "pd.to_datetime(['04-01-2012 10:00'], dayfirst=True)"
   ]
  },
  {
   "cell_type": "code",
   "execution_count": 26,
   "metadata": {
    "collapsed": false
   },
   "outputs": [
    {
     "data": {
      "text/plain": [
       "DatetimeIndex(['2010-01-04 10:00:00', '2014-01-14 00:00:00'], dtype='datetime64[ns]', freq=None)"
      ]
     },
     "execution_count": 26,
     "metadata": {},
     "output_type": "execute_result"
    }
   ],
   "source": [
    "pd.to_datetime(['04-01-2010 10:00', '01-14-2014'],dayfirst=True)"
   ]
  },
  {
   "cell_type": "markdown",
   "metadata": {},
   "source": [
    "pd.to_datetime 和 pd.Timestamp 都可以把时间转化为时间戳，但前者可接受参数dayfirst 或 format"
   ]
  },
  {
   "cell_type": "code",
   "execution_count": 24,
   "metadata": {
    "collapsed": false
   },
   "outputs": [
    {
     "data": {
      "text/plain": [
       "Timestamp('2010-11-12 00:00:00')"
      ]
     },
     "execution_count": 24,
     "metadata": {},
     "output_type": "execute_result"
    }
   ],
   "source": [
    "pd.to_datetime('2010/11/12')#"
   ]
  },
  {
   "cell_type": "code",
   "execution_count": 25,
   "metadata": {
    "collapsed": false
   },
   "outputs": [
    {
     "data": {
      "text/plain": [
       "Timestamp('2010-11-12 00:00:00')"
      ]
     },
     "execution_count": 25,
     "metadata": {},
     "output_type": "execute_result"
    }
   ],
   "source": [
    "pd.Timestamp('2010/11/12')"
   ]
  },
  {
   "cell_type": "code",
   "execution_count": 27,
   "metadata": {
    "collapsed": false
   },
   "outputs": [
    {
     "data": {
      "text/plain": [
       "0   2015-02-04 02:00:00\n",
       "1   2016-03-05 03:00:00\n",
       "dtype: datetime64[ns]"
      ]
     },
     "execution_count": 27,
     "metadata": {},
     "output_type": "execute_result"
    }
   ],
   "source": [
    "df = pd.DataFrame({'year':[2015,2016],\n",
    "                  'month':[2,3],\n",
    "                  'day':[4,5],\n",
    "                  'hour':[2,3]})\n",
    "pd.to_datetime(df)"
   ]
  },
  {
   "cell_type": "code",
   "execution_count": 28,
   "metadata": {
    "collapsed": false
   },
   "outputs": [
    {
     "data": {
      "text/plain": [
       "0   2015-02-04\n",
       "1   2016-03-05\n",
       "dtype: datetime64[ns]"
      ]
     },
     "execution_count": 28,
     "metadata": {},
     "output_type": "execute_result"
    }
   ],
   "source": [
    "# 可以仅用需要的列\n",
    "pd.to_datetime(df[['year','month','day']])"
   ]
  },
  {
   "cell_type": "markdown",
   "metadata": {},
   "source": [
    "## 无效日期"
   ]
  },
  {
   "cell_type": "code",
   "execution_count": 30,
   "metadata": {
    "collapsed": true
   },
   "outputs": [
    {
     "ename": "ValueError",
     "evalue": "Unknown string format",
     "output_type": "error",
     "traceback": [
      "\u001b[0;31m\u001b[0m",
      "\u001b[0;31mValueError\u001b[0mTraceback (most recent call last)",
      "\u001b[0;32m<ipython-input-30-5fd83a64394d>\u001b[0m in \u001b[0;36m<module>\u001b[0;34m()\u001b[0m\n\u001b[0;32m----> 1\u001b[0;31m \u001b[0mpd\u001b[0m\u001b[1;33m.\u001b[0m\u001b[0mto_datetime\u001b[0m\u001b[1;33m(\u001b[0m\u001b[1;33m[\u001b[0m\u001b[1;34m'2009'\u001b[0m\u001b[1;33m,\u001b[0m\u001b[1;34m'asd'\u001b[0m\u001b[1;33m]\u001b[0m\u001b[1;33m,\u001b[0m\u001b[0merrors\u001b[0m\u001b[1;33m=\u001b[0m\u001b[1;34m'raise'\u001b[0m\u001b[1;33m)\u001b[0m\u001b[1;33m\u001b[0m\u001b[0m\n\u001b[0m",
      "\u001b[0;32mC:\\Users\\Administrator\\Anaconda2\\lib\\site-packages\\pandas\\util\\decorators.pyc\u001b[0m in \u001b[0;36mwrapper\u001b[0;34m(*args, **kwargs)\u001b[0m\n\u001b[1;32m     89\u001b[0m                 \u001b[1;32melse\u001b[0m\u001b[1;33m:\u001b[0m\u001b[1;33m\u001b[0m\u001b[0m\n\u001b[1;32m     90\u001b[0m                     \u001b[0mkwargs\u001b[0m\u001b[1;33m[\u001b[0m\u001b[0mnew_arg_name\u001b[0m\u001b[1;33m]\u001b[0m \u001b[1;33m=\u001b[0m \u001b[0mnew_arg_value\u001b[0m\u001b[1;33m\u001b[0m\u001b[0m\n\u001b[0;32m---> 91\u001b[0;31m             \u001b[1;32mreturn\u001b[0m \u001b[0mfunc\u001b[0m\u001b[1;33m(\u001b[0m\u001b[1;33m*\u001b[0m\u001b[0margs\u001b[0m\u001b[1;33m,\u001b[0m \u001b[1;33m**\u001b[0m\u001b[0mkwargs\u001b[0m\u001b[1;33m)\u001b[0m\u001b[1;33m\u001b[0m\u001b[0m\n\u001b[0m\u001b[1;32m     92\u001b[0m         \u001b[1;32mreturn\u001b[0m \u001b[0mwrapper\u001b[0m\u001b[1;33m\u001b[0m\u001b[0m\n\u001b[1;32m     93\u001b[0m     \u001b[1;32mreturn\u001b[0m \u001b[0m_deprecate_kwarg\u001b[0m\u001b[1;33m\u001b[0m\u001b[0m\n",
      "\u001b[0;32mC:\\Users\\Administrator\\Anaconda2\\lib\\site-packages\\pandas\\tseries\\tools.pyc\u001b[0m in \u001b[0;36mto_datetime\u001b[0;34m(arg, errors, dayfirst, yearfirst, utc, box, format, exact, coerce, unit, infer_datetime_format)\u001b[0m\n\u001b[1;32m    289\u001b[0m                         \u001b[0myearfirst\u001b[0m\u001b[1;33m=\u001b[0m\u001b[0myearfirst\u001b[0m\u001b[1;33m,\u001b[0m\u001b[1;33m\u001b[0m\u001b[0m\n\u001b[1;32m    290\u001b[0m                         \u001b[0mutc\u001b[0m\u001b[1;33m=\u001b[0m\u001b[0mutc\u001b[0m\u001b[1;33m,\u001b[0m \u001b[0mbox\u001b[0m\u001b[1;33m=\u001b[0m\u001b[0mbox\u001b[0m\u001b[1;33m,\u001b[0m \u001b[0mformat\u001b[0m\u001b[1;33m=\u001b[0m\u001b[0mformat\u001b[0m\u001b[1;33m,\u001b[0m \u001b[0mexact\u001b[0m\u001b[1;33m=\u001b[0m\u001b[0mexact\u001b[0m\u001b[1;33m,\u001b[0m\u001b[1;33m\u001b[0m\u001b[0m\n\u001b[0;32m--> 291\u001b[0;31m                         unit=unit, infer_datetime_format=infer_datetime_format)\n\u001b[0m\u001b[1;32m    292\u001b[0m \u001b[1;33m\u001b[0m\u001b[0m\n\u001b[1;32m    293\u001b[0m \u001b[1;33m\u001b[0m\u001b[0m\n",
      "\u001b[0;32mC:\\Users\\Administrator\\Anaconda2\\lib\\site-packages\\pandas\\tseries\\tools.pyc\u001b[0m in \u001b[0;36m_to_datetime\u001b[0;34m(arg, errors, dayfirst, yearfirst, utc, box, format, exact, unit, freq, infer_datetime_format)\u001b[0m\n\u001b[1;32m    425\u001b[0m         \u001b[1;32mreturn\u001b[0m \u001b[0m_convert_listlike\u001b[0m\u001b[1;33m(\u001b[0m\u001b[0marg\u001b[0m\u001b[1;33m,\u001b[0m \u001b[0mbox\u001b[0m\u001b[1;33m,\u001b[0m \u001b[0mformat\u001b[0m\u001b[1;33m,\u001b[0m \u001b[0mname\u001b[0m\u001b[1;33m=\u001b[0m\u001b[0marg\u001b[0m\u001b[1;33m.\u001b[0m\u001b[0mname\u001b[0m\u001b[1;33m)\u001b[0m\u001b[1;33m\u001b[0m\u001b[0m\n\u001b[1;32m    426\u001b[0m     \u001b[1;32melif\u001b[0m \u001b[0mcom\u001b[0m\u001b[1;33m.\u001b[0m\u001b[0mis_list_like\u001b[0m\u001b[1;33m(\u001b[0m\u001b[0marg\u001b[0m\u001b[1;33m)\u001b[0m\u001b[1;33m:\u001b[0m\u001b[1;33m\u001b[0m\u001b[0m\n\u001b[0;32m--> 427\u001b[0;31m         \u001b[1;32mreturn\u001b[0m \u001b[0m_convert_listlike\u001b[0m\u001b[1;33m(\u001b[0m\u001b[0marg\u001b[0m\u001b[1;33m,\u001b[0m \u001b[0mbox\u001b[0m\u001b[1;33m,\u001b[0m \u001b[0mformat\u001b[0m\u001b[1;33m)\u001b[0m\u001b[1;33m\u001b[0m\u001b[0m\n\u001b[0m\u001b[1;32m    428\u001b[0m \u001b[1;33m\u001b[0m\u001b[0m\n\u001b[1;32m    429\u001b[0m     \u001b[1;32mreturn\u001b[0m \u001b[0m_convert_listlike\u001b[0m\u001b[1;33m(\u001b[0m\u001b[0mnp\u001b[0m\u001b[1;33m.\u001b[0m\u001b[0marray\u001b[0m\u001b[1;33m(\u001b[0m\u001b[1;33m[\u001b[0m\u001b[0marg\u001b[0m\u001b[1;33m]\u001b[0m\u001b[1;33m)\u001b[0m\u001b[1;33m,\u001b[0m \u001b[0mbox\u001b[0m\u001b[1;33m,\u001b[0m \u001b[0mformat\u001b[0m\u001b[1;33m)\u001b[0m\u001b[1;33m[\u001b[0m\u001b[1;36m0\u001b[0m\u001b[1;33m]\u001b[0m\u001b[1;33m\u001b[0m\u001b[0m\n",
      "\u001b[0;32mC:\\Users\\Administrator\\Anaconda2\\lib\\site-packages\\pandas\\tseries\\tools.pyc\u001b[0m in \u001b[0;36m_convert_listlike\u001b[0;34m(arg, box, format, name)\u001b[0m\n\u001b[1;32m    410\u001b[0m                 \u001b[1;32mreturn\u001b[0m \u001b[0mDatetimeIndex\u001b[0m\u001b[1;33m.\u001b[0m\u001b[0m_simple_new\u001b[0m\u001b[1;33m(\u001b[0m\u001b[0mvalues\u001b[0m\u001b[1;33m,\u001b[0m \u001b[0mname\u001b[0m\u001b[1;33m=\u001b[0m\u001b[0mname\u001b[0m\u001b[1;33m,\u001b[0m \u001b[0mtz\u001b[0m\u001b[1;33m=\u001b[0m\u001b[0mtz\u001b[0m\u001b[1;33m)\u001b[0m\u001b[1;33m\u001b[0m\u001b[0m\n\u001b[1;32m    411\u001b[0m             \u001b[1;32mexcept\u001b[0m \u001b[1;33m(\u001b[0m\u001b[0mValueError\u001b[0m\u001b[1;33m,\u001b[0m \u001b[0mTypeError\u001b[0m\u001b[1;33m)\u001b[0m\u001b[1;33m:\u001b[0m\u001b[1;33m\u001b[0m\u001b[0m\n\u001b[0;32m--> 412\u001b[0;31m                 \u001b[1;32mraise\u001b[0m \u001b[0me\u001b[0m\u001b[1;33m\u001b[0m\u001b[0m\n\u001b[0m\u001b[1;32m    413\u001b[0m \u001b[1;33m\u001b[0m\u001b[0m\n\u001b[1;32m    414\u001b[0m     \u001b[1;32mif\u001b[0m \u001b[0marg\u001b[0m \u001b[1;32mis\u001b[0m \u001b[0mNone\u001b[0m\u001b[1;33m:\u001b[0m\u001b[1;33m\u001b[0m\u001b[0m\n",
      "\u001b[0;31mValueError\u001b[0m: Unknown string format"
     ]
    }
   ],
   "source": [
    "pd.to_datetime(['2009','asd'],errors='raise')"
   ]
  },
  {
   "cell_type": "code",
   "execution_count": 31,
   "metadata": {
    "collapsed": false
   },
   "outputs": [
    {
     "data": {
      "text/plain": [
       "array(['2009', 'asd'], dtype=object)"
      ]
     },
     "execution_count": 31,
     "metadata": {},
     "output_type": "execute_result"
    }
   ],
   "source": [
    "pd.to_datetime(['2009','asd'],errors='ignore')"
   ]
  },
  {
   "cell_type": "code",
   "execution_count": 32,
   "metadata": {
    "collapsed": false
   },
   "outputs": [
    {
     "data": {
      "text/plain": [
       "DatetimeIndex(['2009-01-01', 'NaT'], dtype='datetime64[ns]', freq=None)"
      ]
     },
     "execution_count": 32,
     "metadata": {},
     "output_type": "execute_result"
    }
   ],
   "source": [
    "pd.to_datetime(['2009','asd'],errors='coerce')#当解析不出来时用Nat代替"
   ]
  },
  {
   "cell_type": "markdown",
   "metadata": {},
   "source": [
    "## 纪元时间戳"
   ]
  },
  {
   "cell_type": "code",
   "execution_count": 33,
   "metadata": {
    "collapsed": false
   },
   "outputs": [
    {
     "data": {
      "text/plain": [
       "DatetimeIndex(['2012-10-08 18:15:05', '2012-10-09 18:15:05',\n",
       "               '2012-10-10 18:15:05', '2012-10-11 18:15:05',\n",
       "               '2012-10-12 18:15:05'],\n",
       "              dtype='datetime64[ns]', freq=None)"
      ]
     },
     "execution_count": 33,
     "metadata": {},
     "output_type": "execute_result"
    }
   ],
   "source": [
    "pd.to_datetime([1349720105, 1349806505, 1349892905,1349979305, 1350065705], unit='s')"
   ]
  },
  {
   "cell_type": "code",
   "execution_count": 34,
   "metadata": {
    "collapsed": false
   },
   "outputs": [
    {
     "data": {
      "text/plain": [
       "DatetimeIndex(['1970-01-16 14:55:20.105000', '1970-01-16 14:56:46.505000',\n",
       "               '1970-01-16 14:58:12.905000', '1970-01-16 14:59:39.305000',\n",
       "               '1970-01-16 15:01:05.705000'],\n",
       "              dtype='datetime64[ns]', freq=None)"
      ]
     },
     "execution_count": 34,
     "metadata": {},
     "output_type": "execute_result"
    }
   ],
   "source": [
    "pd.to_datetime([1349720105, 1349806505, 1349892905,1349979305, 1350065705], unit='ms')"
   ]
  },
  {
   "cell_type": "code",
   "execution_count": 35,
   "metadata": {
    "collapsed": false
   },
   "outputs": [
    {
     "data": {
      "text/plain": [
       "DatetimeIndex(['1970-01-01 00:00:00.000000001'], dtype='datetime64[ns]', freq=None)"
      ]
     },
     "execution_count": 35,
     "metadata": {},
     "output_type": "execute_result"
    }
   ],
   "source": [
    "pd.to_datetime([1])"
   ]
  },
  {
   "cell_type": "code",
   "execution_count": 36,
   "metadata": {
    "collapsed": false
   },
   "outputs": [
    {
     "data": {
      "text/plain": [
       "DatetimeIndex(['1970-01-01 00:00:01', '1970-01-01 00:00:03'], dtype='datetime64[ns]', freq=None)"
      ]
     },
     "execution_count": 36,
     "metadata": {},
     "output_type": "execute_result"
    }
   ],
   "source": [
    "pd.to_datetime([1,3.14],unit='s')"
   ]
  },
  {
   "cell_type": "markdown",
   "metadata": {},
   "source": [
    "## 生成随机时间戳"
   ]
  },
  {
   "cell_type": "code",
   "execution_count": 39,
   "metadata": {
    "collapsed": false
   },
   "outputs": [
    {
     "data": {
      "text/plain": [
       "DatetimeIndex(['2012-05-01', '2012-05-02', '2012-05-03'], dtype='datetime64[ns]', freq=None)"
      ]
     },
     "execution_count": 39,
     "metadata": {},
     "output_type": "execute_result"
    }
   ],
   "source": [
    "dates = [pd.datetime(2012,5,1), pd.datetime(2012,5,2), pd.datetime(2012,5,3)]\n",
    "index = pd.DatetimeIndex(dates)\n",
    "index"
   ]
  },
  {
   "cell_type": "code",
   "execution_count": 40,
   "metadata": {
    "collapsed": false
   },
   "outputs": [
    {
     "data": {
      "text/plain": [
       "DatetimeIndex(['2012-05-01', '2012-05-02', '2012-05-03'], dtype='datetime64[ns]', freq=None)"
      ]
     },
     "execution_count": 40,
     "metadata": {},
     "output_type": "execute_result"
    }
   ],
   "source": [
    "index = pd.Index(dates)\n",
    "index"
   ]
  },
  {
   "cell_type": "code",
   "execution_count": 41,
   "metadata": {
    "collapsed": false
   },
   "outputs": [
    {
     "data": {
      "text/plain": [
       "DatetimeIndex(['2000-01-31', '2000-02-29', '2000-03-31', '2000-04-30',\n",
       "               '2000-05-31', '2000-06-30', '2000-07-31', '2000-08-31',\n",
       "               '2000-09-30', '2000-10-31',\n",
       "               ...\n",
       "               '2082-07-31', '2082-08-31', '2082-09-30', '2082-10-31',\n",
       "               '2082-11-30', '2082-12-31', '2083-01-31', '2083-02-28',\n",
       "               '2083-03-31', '2083-04-30'],\n",
       "              dtype='datetime64[ns]', length=1000, freq='M')"
      ]
     },
     "execution_count": 41,
     "metadata": {},
     "output_type": "execute_result"
    }
   ],
   "source": [
    "index = pd.date_range('2000-1-1',periods=1000, freq='M')\n",
    "index"
   ]
  },
  {
   "cell_type": "markdown",
   "metadata": {},
   "source": [
    "bdate_range is a business day"
   ]
  },
  {
   "cell_type": "code",
   "execution_count": 43,
   "metadata": {
    "collapsed": false
   },
   "outputs": [
    {
     "data": {
      "text/plain": [
       "DatetimeIndex(['2016-01-01', '2016-01-04', '2016-01-05', '2016-01-06',\n",
       "               '2016-01-07', '2016-01-08', '2016-01-11', '2016-01-12',\n",
       "               '2016-01-13', '2016-01-14',\n",
       "               ...\n",
       "               '2016-12-02', '2016-12-05', '2016-12-06', '2016-12-07',\n",
       "               '2016-12-08', '2016-12-09', '2016-12-12', '2016-12-13',\n",
       "               '2016-12-14', '2016-12-15'],\n",
       "              dtype='datetime64[ns]', length=250, freq='B')"
      ]
     },
     "execution_count": 43,
     "metadata": {},
     "output_type": "execute_result"
    }
   ],
   "source": [
    "index = pd.bdate_range('2016-01-01',periods=250) #business day\n",
    "index"
   ]
  },
  {
   "cell_type": "code",
   "execution_count": 42,
   "metadata": {
    "collapsed": false
   },
   "outputs": [
    {
     "data": {
      "text/plain": [
       "DatetimeIndex(['2011-01-01', '2011-01-02', '2011-01-03', '2011-01-04',\n",
       "               '2011-01-05', '2011-01-06', '2011-01-07', '2011-01-08',\n",
       "               '2011-01-09', '2011-01-10',\n",
       "               ...\n",
       "               '2011-12-23', '2011-12-24', '2011-12-25', '2011-12-26',\n",
       "               '2011-12-27', '2011-12-28', '2011-12-29', '2011-12-30',\n",
       "               '2011-12-31', '2012-01-01'],\n",
       "              dtype='datetime64[ns]', length=366, freq='D')"
      ]
     },
     "execution_count": 42,
     "metadata": {},
     "output_type": "execute_result"
    }
   ],
   "source": [
    "start = pd.datetime(2011, 1, 1)\n",
    "end = pd.datetime(2012, 1, 1)\n",
    "rng = pd.date_range(start, end)\n",
    "rng"
   ]
  },
  {
   "cell_type": "code",
   "execution_count": 46,
   "metadata": {
    "collapsed": false
   },
   "outputs": [
    {
     "data": {
      "text/plain": [
       "DatetimeIndex(['2011-01-03', '2011-01-04', '2011-01-05', '2011-01-06',\n",
       "               '2011-01-07', '2011-01-10', '2011-01-11', '2011-01-12',\n",
       "               '2011-01-13', '2011-01-14',\n",
       "               ...\n",
       "               '2011-12-19', '2011-12-20', '2011-12-21', '2011-12-22',\n",
       "               '2011-12-23', '2011-12-26', '2011-12-27', '2011-12-28',\n",
       "               '2011-12-29', '2011-12-30'],\n",
       "              dtype='datetime64[ns]', length=260, freq='B')"
      ]
     },
     "execution_count": 46,
     "metadata": {},
     "output_type": "execute_result"
    }
   ],
   "source": [
    "rng = pd.bdate_range(start, end)\n",
    "rng"
   ]
  },
  {
   "cell_type": "code",
   "execution_count": 47,
   "metadata": {
    "collapsed": false
   },
   "outputs": [
    {
     "data": {
      "text/plain": [
       "DatetimeIndex(['2011-01-31', '2011-02-28', '2011-03-31', '2011-04-29',\n",
       "               '2011-05-31', '2011-06-30', '2011-07-29', '2011-08-31',\n",
       "               '2011-09-30', '2011-10-31', '2011-11-30', '2011-12-30'],\n",
       "              dtype='datetime64[ns]', freq='BM')"
      ]
     },
     "execution_count": 47,
     "metadata": {},
     "output_type": "execute_result"
    }
   ],
   "source": [
    "pd.date_range(start, end, freq='BM')"
   ]
  },
  {
   "cell_type": "code",
   "execution_count": 48,
   "metadata": {
    "collapsed": false
   },
   "outputs": [
    {
     "data": {
      "text/plain": [
       "DatetimeIndex(['2011-01-02', '2011-01-09', '2011-01-16', '2011-01-23',\n",
       "               '2011-01-30', '2011-02-06', '2011-02-13', '2011-02-20',\n",
       "               '2011-02-27', '2011-03-06', '2011-03-13', '2011-03-20',\n",
       "               '2011-03-27', '2011-04-03', '2011-04-10', '2011-04-17',\n",
       "               '2011-04-24', '2011-05-01', '2011-05-08', '2011-05-15',\n",
       "               '2011-05-22', '2011-05-29', '2011-06-05', '2011-06-12',\n",
       "               '2011-06-19', '2011-06-26', '2011-07-03', '2011-07-10',\n",
       "               '2011-07-17', '2011-07-24', '2011-07-31', '2011-08-07',\n",
       "               '2011-08-14', '2011-08-21', '2011-08-28', '2011-09-04',\n",
       "               '2011-09-11', '2011-09-18', '2011-09-25', '2011-10-02',\n",
       "               '2011-10-09', '2011-10-16', '2011-10-23', '2011-10-30',\n",
       "               '2011-11-06', '2011-11-13', '2011-11-20', '2011-11-27',\n",
       "               '2011-12-04', '2011-12-11', '2011-12-18', '2011-12-25',\n",
       "               '2012-01-01'],\n",
       "              dtype='datetime64[ns]', freq='W-SUN')"
      ]
     },
     "execution_count": 48,
     "metadata": {},
     "output_type": "execute_result"
    }
   ],
   "source": [
    "pd.date_range(start,end,freq='W')"
   ]
  },
  {
   "cell_type": "markdown",
   "metadata": {},
   "source": [
    "## Datetime Index"
   ]
  },
  {
   "cell_type": "code",
   "execution_count": 43,
   "metadata": {
    "collapsed": false
   },
   "outputs": [
    {
     "data": {
      "text/plain": [
       "DatetimeIndex(['2011-01-31', '2011-02-28', '2011-03-31', '2011-04-29',\n",
       "               '2011-05-31', '2011-06-30', '2011-07-29', '2011-08-31',\n",
       "               '2011-09-30', '2011-10-31', '2011-11-30', '2011-12-30'],\n",
       "              dtype='datetime64[ns]', freq='BM')"
      ]
     },
     "execution_count": 43,
     "metadata": {},
     "output_type": "execute_result"
    }
   ],
   "source": [
    "rng = pd.date_range(start, end, freq='BM')\n",
    "ts = pd.Series(np.random.randn(len(rng)), index=rng)\n",
    "ts.index"
   ]
  },
  {
   "cell_type": "code",
   "execution_count": 51,
   "metadata": {
    "collapsed": false
   },
   "outputs": [
    {
     "data": {
      "text/plain": [
       "DatetimeIndex(['2011-01-31', '2011-02-28', '2011-03-31', '2011-04-29',\n",
       "               '2011-05-31'],\n",
       "              dtype='datetime64[ns]', freq='BM')"
      ]
     },
     "execution_count": 51,
     "metadata": {},
     "output_type": "execute_result"
    }
   ],
   "source": [
    "ts[:5].index"
   ]
  },
  {
   "cell_type": "code",
   "execution_count": 52,
   "metadata": {
    "collapsed": false
   },
   "outputs": [
    {
     "data": {
      "text/plain": [
       "DatetimeIndex(['2011-01-31', '2011-03-31', '2011-05-31', '2011-07-29',\n",
       "               '2011-09-30', '2011-11-30'],\n",
       "              dtype='datetime64[ns]', freq='2BM')"
      ]
     },
     "execution_count": 52,
     "metadata": {},
     "output_type": "execute_result"
    }
   ],
   "source": [
    "ts[::2].index"
   ]
  },
  {
   "cell_type": "code",
   "execution_count": 53,
   "metadata": {
    "collapsed": false
   },
   "outputs": [
    {
     "data": {
      "text/plain": [
       "-1.3890001039235427"
      ]
     },
     "execution_count": 53,
     "metadata": {},
     "output_type": "execute_result"
    }
   ],
   "source": [
    "ts['1/31/2011']"
   ]
  },
  {
   "cell_type": "code",
   "execution_count": 54,
   "metadata": {
    "collapsed": false
   },
   "outputs": [
    {
     "data": {
      "text/plain": [
       "2011-12-30   -1.815709\n",
       "Freq: BM, dtype: float64"
      ]
     },
     "execution_count": 54,
     "metadata": {},
     "output_type": "execute_result"
    }
   ],
   "source": [
    "ts[pd.datetime(2011,12,25):]"
   ]
  },
  {
   "cell_type": "code",
   "execution_count": 56,
   "metadata": {
    "collapsed": false
   },
   "outputs": [
    {
     "data": {
      "text/plain": [
       "2011-10-31   -1.530486\n",
       "2011-11-30    1.032298\n",
       "2011-12-30   -1.815709\n",
       "Freq: BM, dtype: float64"
      ]
     },
     "execution_count": 56,
     "metadata": {},
     "output_type": "execute_result"
    }
   ],
   "source": [
    "ts['10/31/2011':'12/31/2011']"
   ]
  },
  {
   "cell_type": "code",
   "execution_count": 57,
   "metadata": {
    "collapsed": false
   },
   "outputs": [
    {
     "data": {
      "text/plain": [
       "2011-01-31   -1.389000\n",
       "2011-02-28   -1.590800\n",
       "2011-03-31   -1.299550\n",
       "2011-04-29   -0.868057\n",
       "2011-05-31   -0.471553\n",
       "2011-06-30   -2.623701\n",
       "2011-07-29   -0.336142\n",
       "2011-08-31   -0.654795\n",
       "2011-09-30   -0.287845\n",
       "2011-10-31   -1.530486\n",
       "2011-11-30    1.032298\n",
       "2011-12-30   -1.815709\n",
       "Freq: BM, dtype: float64"
      ]
     },
     "execution_count": 57,
     "metadata": {},
     "output_type": "execute_result"
    }
   ],
   "source": [
    "ts['2011']"
   ]
  },
  {
   "cell_type": "code",
   "execution_count": 58,
   "metadata": {
    "collapsed": false
   },
   "outputs": [
    {
     "data": {
      "text/plain": [
       "2011-06-30   -2.623701\n",
       "Freq: BM, dtype: float64"
      ]
     },
     "execution_count": 58,
     "metadata": {},
     "output_type": "execute_result"
    }
   ],
   "source": [
    "ts['2011-6']"
   ]
  },
  {
   "cell_type": "code",
   "execution_count": 60,
   "metadata": {
    "collapsed": true
   },
   "outputs": [
    {
     "data": {
      "text/html": [
       "<div>\n",
       "<table border=\"1\" class=\"dataframe\">\n",
       "  <thead>\n",
       "    <tr style=\"text-align: right;\">\n",
       "      <th></th>\n",
       "      <th>A</th>\n",
       "    </tr>\n",
       "  </thead>\n",
       "  <tbody>\n",
       "    <tr>\n",
       "      <th>2013-01-01 00:00:00</th>\n",
       "      <td>0.487937</td>\n",
       "    </tr>\n",
       "    <tr>\n",
       "      <th>2013-01-01 00:01:00</th>\n",
       "      <td>1.863481</td>\n",
       "    </tr>\n",
       "    <tr>\n",
       "      <th>2013-01-01 00:02:00</th>\n",
       "      <td>-2.619854</td>\n",
       "    </tr>\n",
       "    <tr>\n",
       "      <th>2013-01-01 00:03:00</th>\n",
       "      <td>0.688805</td>\n",
       "    </tr>\n",
       "    <tr>\n",
       "      <th>2013-01-01 00:04:00</th>\n",
       "      <td>-0.119478</td>\n",
       "    </tr>\n",
       "    <tr>\n",
       "      <th>2013-01-01 00:05:00</th>\n",
       "      <td>0.846206</td>\n",
       "    </tr>\n",
       "    <tr>\n",
       "      <th>2013-01-01 00:06:00</th>\n",
       "      <td>-0.377208</td>\n",
       "    </tr>\n",
       "    <tr>\n",
       "      <th>2013-01-01 00:07:00</th>\n",
       "      <td>-0.586735</td>\n",
       "    </tr>\n",
       "    <tr>\n",
       "      <th>2013-01-01 00:08:00</th>\n",
       "      <td>-0.015885</td>\n",
       "    </tr>\n",
       "    <tr>\n",
       "      <th>2013-01-01 00:09:00</th>\n",
       "      <td>1.778815</td>\n",
       "    </tr>\n",
       "    <tr>\n",
       "      <th>2013-01-01 00:10:00</th>\n",
       "      <td>-1.331501</td>\n",
       "    </tr>\n",
       "    <tr>\n",
       "      <th>2013-01-01 00:11:00</th>\n",
       "      <td>-0.837579</td>\n",
       "    </tr>\n",
       "    <tr>\n",
       "      <th>2013-01-01 00:12:00</th>\n",
       "      <td>0.515535</td>\n",
       "    </tr>\n",
       "    <tr>\n",
       "      <th>2013-01-01 00:13:00</th>\n",
       "      <td>0.581033</td>\n",
       "    </tr>\n",
       "    <tr>\n",
       "      <th>2013-01-01 00:14:00</th>\n",
       "      <td>-0.968355</td>\n",
       "    </tr>\n",
       "    <tr>\n",
       "      <th>2013-01-01 00:15:00</th>\n",
       "      <td>-0.297646</td>\n",
       "    </tr>\n",
       "    <tr>\n",
       "      <th>2013-01-01 00:16:00</th>\n",
       "      <td>0.391371</td>\n",
       "    </tr>\n",
       "    <tr>\n",
       "      <th>2013-01-01 00:17:00</th>\n",
       "      <td>-1.158404</td>\n",
       "    </tr>\n",
       "    <tr>\n",
       "      <th>2013-01-01 00:18:00</th>\n",
       "      <td>-1.213878</td>\n",
       "    </tr>\n",
       "    <tr>\n",
       "      <th>2013-01-01 00:19:00</th>\n",
       "      <td>2.158113</td>\n",
       "    </tr>\n",
       "    <tr>\n",
       "      <th>2013-01-01 00:20:00</th>\n",
       "      <td>1.085202</td>\n",
       "    </tr>\n",
       "    <tr>\n",
       "      <th>2013-01-01 00:21:00</th>\n",
       "      <td>-0.027928</td>\n",
       "    </tr>\n",
       "    <tr>\n",
       "      <th>2013-01-01 00:22:00</th>\n",
       "      <td>0.754399</td>\n",
       "    </tr>\n",
       "    <tr>\n",
       "      <th>2013-01-01 00:23:00</th>\n",
       "      <td>2.791241</td>\n",
       "    </tr>\n",
       "    <tr>\n",
       "      <th>2013-01-01 00:24:00</th>\n",
       "      <td>0.626600</td>\n",
       "    </tr>\n",
       "    <tr>\n",
       "      <th>2013-01-01 00:25:00</th>\n",
       "      <td>1.068865</td>\n",
       "    </tr>\n",
       "    <tr>\n",
       "      <th>2013-01-01 00:26:00</th>\n",
       "      <td>0.080937</td>\n",
       "    </tr>\n",
       "    <tr>\n",
       "      <th>2013-01-01 00:27:00</th>\n",
       "      <td>0.100607</td>\n",
       "    </tr>\n",
       "    <tr>\n",
       "      <th>2013-01-01 00:28:00</th>\n",
       "      <td>-0.147271</td>\n",
       "    </tr>\n",
       "    <tr>\n",
       "      <th>2013-01-01 00:29:00</th>\n",
       "      <td>0.734609</td>\n",
       "    </tr>\n",
       "    <tr>\n",
       "      <th>...</th>\n",
       "      <td>...</td>\n",
       "    </tr>\n",
       "    <tr>\n",
       "      <th>2013-03-11 10:10:00</th>\n",
       "      <td>-0.250519</td>\n",
       "    </tr>\n",
       "    <tr>\n",
       "      <th>2013-03-11 10:11:00</th>\n",
       "      <td>-1.879425</td>\n",
       "    </tr>\n",
       "    <tr>\n",
       "      <th>2013-03-11 10:12:00</th>\n",
       "      <td>0.002297</td>\n",
       "    </tr>\n",
       "    <tr>\n",
       "      <th>2013-03-11 10:13:00</th>\n",
       "      <td>-0.293725</td>\n",
       "    </tr>\n",
       "    <tr>\n",
       "      <th>2013-03-11 10:14:00</th>\n",
       "      <td>-0.128829</td>\n",
       "    </tr>\n",
       "    <tr>\n",
       "      <th>2013-03-11 10:15:00</th>\n",
       "      <td>-0.528668</td>\n",
       "    </tr>\n",
       "    <tr>\n",
       "      <th>2013-03-11 10:16:00</th>\n",
       "      <td>0.369340</td>\n",
       "    </tr>\n",
       "    <tr>\n",
       "      <th>2013-03-11 10:17:00</th>\n",
       "      <td>-0.666774</td>\n",
       "    </tr>\n",
       "    <tr>\n",
       "      <th>2013-03-11 10:18:00</th>\n",
       "      <td>0.072097</td>\n",
       "    </tr>\n",
       "    <tr>\n",
       "      <th>2013-03-11 10:19:00</th>\n",
       "      <td>-1.441868</td>\n",
       "    </tr>\n",
       "    <tr>\n",
       "      <th>2013-03-11 10:20:00</th>\n",
       "      <td>0.323831</td>\n",
       "    </tr>\n",
       "    <tr>\n",
       "      <th>2013-03-11 10:21:00</th>\n",
       "      <td>-1.295529</td>\n",
       "    </tr>\n",
       "    <tr>\n",
       "      <th>2013-03-11 10:22:00</th>\n",
       "      <td>-1.012058</td>\n",
       "    </tr>\n",
       "    <tr>\n",
       "      <th>2013-03-11 10:23:00</th>\n",
       "      <td>-0.693600</td>\n",
       "    </tr>\n",
       "    <tr>\n",
       "      <th>2013-03-11 10:24:00</th>\n",
       "      <td>-2.269261</td>\n",
       "    </tr>\n",
       "    <tr>\n",
       "      <th>2013-03-11 10:25:00</th>\n",
       "      <td>-1.192505</td>\n",
       "    </tr>\n",
       "    <tr>\n",
       "      <th>2013-03-11 10:26:00</th>\n",
       "      <td>0.325838</td>\n",
       "    </tr>\n",
       "    <tr>\n",
       "      <th>2013-03-11 10:27:00</th>\n",
       "      <td>-0.696223</td>\n",
       "    </tr>\n",
       "    <tr>\n",
       "      <th>2013-03-11 10:28:00</th>\n",
       "      <td>0.970543</td>\n",
       "    </tr>\n",
       "    <tr>\n",
       "      <th>2013-03-11 10:29:00</th>\n",
       "      <td>1.001067</td>\n",
       "    </tr>\n",
       "    <tr>\n",
       "      <th>2013-03-11 10:30:00</th>\n",
       "      <td>0.547560</td>\n",
       "    </tr>\n",
       "    <tr>\n",
       "      <th>2013-03-11 10:31:00</th>\n",
       "      <td>0.234659</td>\n",
       "    </tr>\n",
       "    <tr>\n",
       "      <th>2013-03-11 10:32:00</th>\n",
       "      <td>-1.616009</td>\n",
       "    </tr>\n",
       "    <tr>\n",
       "      <th>2013-03-11 10:33:00</th>\n",
       "      <td>0.755892</td>\n",
       "    </tr>\n",
       "    <tr>\n",
       "      <th>2013-03-11 10:34:00</th>\n",
       "      <td>0.733931</td>\n",
       "    </tr>\n",
       "    <tr>\n",
       "      <th>2013-03-11 10:35:00</th>\n",
       "      <td>-0.988969</td>\n",
       "    </tr>\n",
       "    <tr>\n",
       "      <th>2013-03-11 10:36:00</th>\n",
       "      <td>-0.382441</td>\n",
       "    </tr>\n",
       "    <tr>\n",
       "      <th>2013-03-11 10:37:00</th>\n",
       "      <td>-0.952919</td>\n",
       "    </tr>\n",
       "    <tr>\n",
       "      <th>2013-03-11 10:38:00</th>\n",
       "      <td>0.462186</td>\n",
       "    </tr>\n",
       "    <tr>\n",
       "      <th>2013-03-11 10:39:00</th>\n",
       "      <td>-0.425972</td>\n",
       "    </tr>\n",
       "  </tbody>\n",
       "</table>\n",
       "<p>100000 rows × 1 columns</p>\n",
       "</div>"
      ],
      "text/plain": [
       "                            A\n",
       "2013-01-01 00:00:00  0.487937\n",
       "2013-01-01 00:01:00  1.863481\n",
       "2013-01-01 00:02:00 -2.619854\n",
       "2013-01-01 00:03:00  0.688805\n",
       "2013-01-01 00:04:00 -0.119478\n",
       "2013-01-01 00:05:00  0.846206\n",
       "2013-01-01 00:06:00 -0.377208\n",
       "2013-01-01 00:07:00 -0.586735\n",
       "2013-01-01 00:08:00 -0.015885\n",
       "2013-01-01 00:09:00  1.778815\n",
       "2013-01-01 00:10:00 -1.331501\n",
       "2013-01-01 00:11:00 -0.837579\n",
       "2013-01-01 00:12:00  0.515535\n",
       "2013-01-01 00:13:00  0.581033\n",
       "2013-01-01 00:14:00 -0.968355\n",
       "2013-01-01 00:15:00 -0.297646\n",
       "2013-01-01 00:16:00  0.391371\n",
       "2013-01-01 00:17:00 -1.158404\n",
       "2013-01-01 00:18:00 -1.213878\n",
       "2013-01-01 00:19:00  2.158113\n",
       "2013-01-01 00:20:00  1.085202\n",
       "2013-01-01 00:21:00 -0.027928\n",
       "2013-01-01 00:22:00  0.754399\n",
       "2013-01-01 00:23:00  2.791241\n",
       "2013-01-01 00:24:00  0.626600\n",
       "2013-01-01 00:25:00  1.068865\n",
       "2013-01-01 00:26:00  0.080937\n",
       "2013-01-01 00:27:00  0.100607\n",
       "2013-01-01 00:28:00 -0.147271\n",
       "2013-01-01 00:29:00  0.734609\n",
       "...                       ...\n",
       "2013-03-11 10:10:00 -0.250519\n",
       "2013-03-11 10:11:00 -1.879425\n",
       "2013-03-11 10:12:00  0.002297\n",
       "2013-03-11 10:13:00 -0.293725\n",
       "2013-03-11 10:14:00 -0.128829\n",
       "2013-03-11 10:15:00 -0.528668\n",
       "2013-03-11 10:16:00  0.369340\n",
       "2013-03-11 10:17:00 -0.666774\n",
       "2013-03-11 10:18:00  0.072097\n",
       "2013-03-11 10:19:00 -1.441868\n",
       "2013-03-11 10:20:00  0.323831\n",
       "2013-03-11 10:21:00 -1.295529\n",
       "2013-03-11 10:22:00 -1.012058\n",
       "2013-03-11 10:23:00 -0.693600\n",
       "2013-03-11 10:24:00 -2.269261\n",
       "2013-03-11 10:25:00 -1.192505\n",
       "2013-03-11 10:26:00  0.325838\n",
       "2013-03-11 10:27:00 -0.696223\n",
       "2013-03-11 10:28:00  0.970543\n",
       "2013-03-11 10:29:00  1.001067\n",
       "2013-03-11 10:30:00  0.547560\n",
       "2013-03-11 10:31:00  0.234659\n",
       "2013-03-11 10:32:00 -1.616009\n",
       "2013-03-11 10:33:00  0.755892\n",
       "2013-03-11 10:34:00  0.733931\n",
       "2013-03-11 10:35:00 -0.988969\n",
       "2013-03-11 10:36:00 -0.382441\n",
       "2013-03-11 10:37:00 -0.952919\n",
       "2013-03-11 10:38:00  0.462186\n",
       "2013-03-11 10:39:00 -0.425972\n",
       "\n",
       "[100000 rows x 1 columns]"
      ]
     },
     "execution_count": 60,
     "metadata": {},
     "output_type": "execute_result"
    }
   ],
   "source": [
    "dft = pd.DataFrame(np.random.randn(100000, 1),columns=['A'],\n",
    "                  index = pd.date_range('20130101',periods=100000,freq='T'))\n",
    "dft"
   ]
  },
  {
   "cell_type": "code",
   "execution_count": 61,
   "metadata": {
    "collapsed": true
   },
   "outputs": [
    {
     "data": {
      "text/html": [
       "<div>\n",
       "<table border=\"1\" class=\"dataframe\">\n",
       "  <thead>\n",
       "    <tr style=\"text-align: right;\">\n",
       "      <th></th>\n",
       "      <th>A</th>\n",
       "    </tr>\n",
       "  </thead>\n",
       "  <tbody>\n",
       "    <tr>\n",
       "      <th>2013-01-01 00:00:00</th>\n",
       "      <td>0.487937</td>\n",
       "    </tr>\n",
       "    <tr>\n",
       "      <th>2013-01-01 00:01:00</th>\n",
       "      <td>1.863481</td>\n",
       "    </tr>\n",
       "    <tr>\n",
       "      <th>2013-01-01 00:02:00</th>\n",
       "      <td>-2.619854</td>\n",
       "    </tr>\n",
       "    <tr>\n",
       "      <th>2013-01-01 00:03:00</th>\n",
       "      <td>0.688805</td>\n",
       "    </tr>\n",
       "    <tr>\n",
       "      <th>2013-01-01 00:04:00</th>\n",
       "      <td>-0.119478</td>\n",
       "    </tr>\n",
       "    <tr>\n",
       "      <th>2013-01-01 00:05:00</th>\n",
       "      <td>0.846206</td>\n",
       "    </tr>\n",
       "    <tr>\n",
       "      <th>2013-01-01 00:06:00</th>\n",
       "      <td>-0.377208</td>\n",
       "    </tr>\n",
       "    <tr>\n",
       "      <th>2013-01-01 00:07:00</th>\n",
       "      <td>-0.586735</td>\n",
       "    </tr>\n",
       "    <tr>\n",
       "      <th>2013-01-01 00:08:00</th>\n",
       "      <td>-0.015885</td>\n",
       "    </tr>\n",
       "    <tr>\n",
       "      <th>2013-01-01 00:09:00</th>\n",
       "      <td>1.778815</td>\n",
       "    </tr>\n",
       "    <tr>\n",
       "      <th>2013-01-01 00:10:00</th>\n",
       "      <td>-1.331501</td>\n",
       "    </tr>\n",
       "    <tr>\n",
       "      <th>2013-01-01 00:11:00</th>\n",
       "      <td>-0.837579</td>\n",
       "    </tr>\n",
       "    <tr>\n",
       "      <th>2013-01-01 00:12:00</th>\n",
       "      <td>0.515535</td>\n",
       "    </tr>\n",
       "    <tr>\n",
       "      <th>2013-01-01 00:13:00</th>\n",
       "      <td>0.581033</td>\n",
       "    </tr>\n",
       "    <tr>\n",
       "      <th>2013-01-01 00:14:00</th>\n",
       "      <td>-0.968355</td>\n",
       "    </tr>\n",
       "    <tr>\n",
       "      <th>2013-01-01 00:15:00</th>\n",
       "      <td>-0.297646</td>\n",
       "    </tr>\n",
       "    <tr>\n",
       "      <th>2013-01-01 00:16:00</th>\n",
       "      <td>0.391371</td>\n",
       "    </tr>\n",
       "    <tr>\n",
       "      <th>2013-01-01 00:17:00</th>\n",
       "      <td>-1.158404</td>\n",
       "    </tr>\n",
       "    <tr>\n",
       "      <th>2013-01-01 00:18:00</th>\n",
       "      <td>-1.213878</td>\n",
       "    </tr>\n",
       "    <tr>\n",
       "      <th>2013-01-01 00:19:00</th>\n",
       "      <td>2.158113</td>\n",
       "    </tr>\n",
       "    <tr>\n",
       "      <th>2013-01-01 00:20:00</th>\n",
       "      <td>1.085202</td>\n",
       "    </tr>\n",
       "    <tr>\n",
       "      <th>2013-01-01 00:21:00</th>\n",
       "      <td>-0.027928</td>\n",
       "    </tr>\n",
       "    <tr>\n",
       "      <th>2013-01-01 00:22:00</th>\n",
       "      <td>0.754399</td>\n",
       "    </tr>\n",
       "    <tr>\n",
       "      <th>2013-01-01 00:23:00</th>\n",
       "      <td>2.791241</td>\n",
       "    </tr>\n",
       "    <tr>\n",
       "      <th>2013-01-01 00:24:00</th>\n",
       "      <td>0.626600</td>\n",
       "    </tr>\n",
       "    <tr>\n",
       "      <th>2013-01-01 00:25:00</th>\n",
       "      <td>1.068865</td>\n",
       "    </tr>\n",
       "    <tr>\n",
       "      <th>2013-01-01 00:26:00</th>\n",
       "      <td>0.080937</td>\n",
       "    </tr>\n",
       "    <tr>\n",
       "      <th>2013-01-01 00:27:00</th>\n",
       "      <td>0.100607</td>\n",
       "    </tr>\n",
       "    <tr>\n",
       "      <th>2013-01-01 00:28:00</th>\n",
       "      <td>-0.147271</td>\n",
       "    </tr>\n",
       "    <tr>\n",
       "      <th>2013-01-01 00:29:00</th>\n",
       "      <td>0.734609</td>\n",
       "    </tr>\n",
       "    <tr>\n",
       "      <th>...</th>\n",
       "      <td>...</td>\n",
       "    </tr>\n",
       "    <tr>\n",
       "      <th>2013-03-11 10:10:00</th>\n",
       "      <td>-0.250519</td>\n",
       "    </tr>\n",
       "    <tr>\n",
       "      <th>2013-03-11 10:11:00</th>\n",
       "      <td>-1.879425</td>\n",
       "    </tr>\n",
       "    <tr>\n",
       "      <th>2013-03-11 10:12:00</th>\n",
       "      <td>0.002297</td>\n",
       "    </tr>\n",
       "    <tr>\n",
       "      <th>2013-03-11 10:13:00</th>\n",
       "      <td>-0.293725</td>\n",
       "    </tr>\n",
       "    <tr>\n",
       "      <th>2013-03-11 10:14:00</th>\n",
       "      <td>-0.128829</td>\n",
       "    </tr>\n",
       "    <tr>\n",
       "      <th>2013-03-11 10:15:00</th>\n",
       "      <td>-0.528668</td>\n",
       "    </tr>\n",
       "    <tr>\n",
       "      <th>2013-03-11 10:16:00</th>\n",
       "      <td>0.369340</td>\n",
       "    </tr>\n",
       "    <tr>\n",
       "      <th>2013-03-11 10:17:00</th>\n",
       "      <td>-0.666774</td>\n",
       "    </tr>\n",
       "    <tr>\n",
       "      <th>2013-03-11 10:18:00</th>\n",
       "      <td>0.072097</td>\n",
       "    </tr>\n",
       "    <tr>\n",
       "      <th>2013-03-11 10:19:00</th>\n",
       "      <td>-1.441868</td>\n",
       "    </tr>\n",
       "    <tr>\n",
       "      <th>2013-03-11 10:20:00</th>\n",
       "      <td>0.323831</td>\n",
       "    </tr>\n",
       "    <tr>\n",
       "      <th>2013-03-11 10:21:00</th>\n",
       "      <td>-1.295529</td>\n",
       "    </tr>\n",
       "    <tr>\n",
       "      <th>2013-03-11 10:22:00</th>\n",
       "      <td>-1.012058</td>\n",
       "    </tr>\n",
       "    <tr>\n",
       "      <th>2013-03-11 10:23:00</th>\n",
       "      <td>-0.693600</td>\n",
       "    </tr>\n",
       "    <tr>\n",
       "      <th>2013-03-11 10:24:00</th>\n",
       "      <td>-2.269261</td>\n",
       "    </tr>\n",
       "    <tr>\n",
       "      <th>2013-03-11 10:25:00</th>\n",
       "      <td>-1.192505</td>\n",
       "    </tr>\n",
       "    <tr>\n",
       "      <th>2013-03-11 10:26:00</th>\n",
       "      <td>0.325838</td>\n",
       "    </tr>\n",
       "    <tr>\n",
       "      <th>2013-03-11 10:27:00</th>\n",
       "      <td>-0.696223</td>\n",
       "    </tr>\n",
       "    <tr>\n",
       "      <th>2013-03-11 10:28:00</th>\n",
       "      <td>0.970543</td>\n",
       "    </tr>\n",
       "    <tr>\n",
       "      <th>2013-03-11 10:29:00</th>\n",
       "      <td>1.001067</td>\n",
       "    </tr>\n",
       "    <tr>\n",
       "      <th>2013-03-11 10:30:00</th>\n",
       "      <td>0.547560</td>\n",
       "    </tr>\n",
       "    <tr>\n",
       "      <th>2013-03-11 10:31:00</th>\n",
       "      <td>0.234659</td>\n",
       "    </tr>\n",
       "    <tr>\n",
       "      <th>2013-03-11 10:32:00</th>\n",
       "      <td>-1.616009</td>\n",
       "    </tr>\n",
       "    <tr>\n",
       "      <th>2013-03-11 10:33:00</th>\n",
       "      <td>0.755892</td>\n",
       "    </tr>\n",
       "    <tr>\n",
       "      <th>2013-03-11 10:34:00</th>\n",
       "      <td>0.733931</td>\n",
       "    </tr>\n",
       "    <tr>\n",
       "      <th>2013-03-11 10:35:00</th>\n",
       "      <td>-0.988969</td>\n",
       "    </tr>\n",
       "    <tr>\n",
       "      <th>2013-03-11 10:36:00</th>\n",
       "      <td>-0.382441</td>\n",
       "    </tr>\n",
       "    <tr>\n",
       "      <th>2013-03-11 10:37:00</th>\n",
       "      <td>-0.952919</td>\n",
       "    </tr>\n",
       "    <tr>\n",
       "      <th>2013-03-11 10:38:00</th>\n",
       "      <td>0.462186</td>\n",
       "    </tr>\n",
       "    <tr>\n",
       "      <th>2013-03-11 10:39:00</th>\n",
       "      <td>-0.425972</td>\n",
       "    </tr>\n",
       "  </tbody>\n",
       "</table>\n",
       "<p>100000 rows × 1 columns</p>\n",
       "</div>"
      ],
      "text/plain": [
       "                            A\n",
       "2013-01-01 00:00:00  0.487937\n",
       "2013-01-01 00:01:00  1.863481\n",
       "2013-01-01 00:02:00 -2.619854\n",
       "2013-01-01 00:03:00  0.688805\n",
       "2013-01-01 00:04:00 -0.119478\n",
       "2013-01-01 00:05:00  0.846206\n",
       "2013-01-01 00:06:00 -0.377208\n",
       "2013-01-01 00:07:00 -0.586735\n",
       "2013-01-01 00:08:00 -0.015885\n",
       "2013-01-01 00:09:00  1.778815\n",
       "2013-01-01 00:10:00 -1.331501\n",
       "2013-01-01 00:11:00 -0.837579\n",
       "2013-01-01 00:12:00  0.515535\n",
       "2013-01-01 00:13:00  0.581033\n",
       "2013-01-01 00:14:00 -0.968355\n",
       "2013-01-01 00:15:00 -0.297646\n",
       "2013-01-01 00:16:00  0.391371\n",
       "2013-01-01 00:17:00 -1.158404\n",
       "2013-01-01 00:18:00 -1.213878\n",
       "2013-01-01 00:19:00  2.158113\n",
       "2013-01-01 00:20:00  1.085202\n",
       "2013-01-01 00:21:00 -0.027928\n",
       "2013-01-01 00:22:00  0.754399\n",
       "2013-01-01 00:23:00  2.791241\n",
       "2013-01-01 00:24:00  0.626600\n",
       "2013-01-01 00:25:00  1.068865\n",
       "2013-01-01 00:26:00  0.080937\n",
       "2013-01-01 00:27:00  0.100607\n",
       "2013-01-01 00:28:00 -0.147271\n",
       "2013-01-01 00:29:00  0.734609\n",
       "...                       ...\n",
       "2013-03-11 10:10:00 -0.250519\n",
       "2013-03-11 10:11:00 -1.879425\n",
       "2013-03-11 10:12:00  0.002297\n",
       "2013-03-11 10:13:00 -0.293725\n",
       "2013-03-11 10:14:00 -0.128829\n",
       "2013-03-11 10:15:00 -0.528668\n",
       "2013-03-11 10:16:00  0.369340\n",
       "2013-03-11 10:17:00 -0.666774\n",
       "2013-03-11 10:18:00  0.072097\n",
       "2013-03-11 10:19:00 -1.441868\n",
       "2013-03-11 10:20:00  0.323831\n",
       "2013-03-11 10:21:00 -1.295529\n",
       "2013-03-11 10:22:00 -1.012058\n",
       "2013-03-11 10:23:00 -0.693600\n",
       "2013-03-11 10:24:00 -2.269261\n",
       "2013-03-11 10:25:00 -1.192505\n",
       "2013-03-11 10:26:00  0.325838\n",
       "2013-03-11 10:27:00 -0.696223\n",
       "2013-03-11 10:28:00  0.970543\n",
       "2013-03-11 10:29:00  1.001067\n",
       "2013-03-11 10:30:00  0.547560\n",
       "2013-03-11 10:31:00  0.234659\n",
       "2013-03-11 10:32:00 -1.616009\n",
       "2013-03-11 10:33:00  0.755892\n",
       "2013-03-11 10:34:00  0.733931\n",
       "2013-03-11 10:35:00 -0.988969\n",
       "2013-03-11 10:36:00 -0.382441\n",
       "2013-03-11 10:37:00 -0.952919\n",
       "2013-03-11 10:38:00  0.462186\n",
       "2013-03-11 10:39:00 -0.425972\n",
       "\n",
       "[100000 rows x 1 columns]"
      ]
     },
     "execution_count": 61,
     "metadata": {},
     "output_type": "execute_result"
    }
   ],
   "source": [
    "dft['2013']"
   ]
  },
  {
   "cell_type": "code",
   "execution_count": 62,
   "metadata": {
    "collapsed": true
   },
   "outputs": [
    {
     "data": {
      "text/html": [
       "<div>\n",
       "<table border=\"1\" class=\"dataframe\">\n",
       "  <thead>\n",
       "    <tr style=\"text-align: right;\">\n",
       "      <th></th>\n",
       "      <th>A</th>\n",
       "    </tr>\n",
       "  </thead>\n",
       "  <tbody>\n",
       "    <tr>\n",
       "      <th>2013-01-01 00:00:00</th>\n",
       "      <td>0.487937</td>\n",
       "    </tr>\n",
       "    <tr>\n",
       "      <th>2013-01-01 00:01:00</th>\n",
       "      <td>1.863481</td>\n",
       "    </tr>\n",
       "    <tr>\n",
       "      <th>2013-01-01 00:02:00</th>\n",
       "      <td>-2.619854</td>\n",
       "    </tr>\n",
       "    <tr>\n",
       "      <th>2013-01-01 00:03:00</th>\n",
       "      <td>0.688805</td>\n",
       "    </tr>\n",
       "    <tr>\n",
       "      <th>2013-01-01 00:04:00</th>\n",
       "      <td>-0.119478</td>\n",
       "    </tr>\n",
       "    <tr>\n",
       "      <th>2013-01-01 00:05:00</th>\n",
       "      <td>0.846206</td>\n",
       "    </tr>\n",
       "    <tr>\n",
       "      <th>2013-01-01 00:06:00</th>\n",
       "      <td>-0.377208</td>\n",
       "    </tr>\n",
       "    <tr>\n",
       "      <th>2013-01-01 00:07:00</th>\n",
       "      <td>-0.586735</td>\n",
       "    </tr>\n",
       "    <tr>\n",
       "      <th>2013-01-01 00:08:00</th>\n",
       "      <td>-0.015885</td>\n",
       "    </tr>\n",
       "    <tr>\n",
       "      <th>2013-01-01 00:09:00</th>\n",
       "      <td>1.778815</td>\n",
       "    </tr>\n",
       "    <tr>\n",
       "      <th>2013-01-01 00:10:00</th>\n",
       "      <td>-1.331501</td>\n",
       "    </tr>\n",
       "    <tr>\n",
       "      <th>2013-01-01 00:11:00</th>\n",
       "      <td>-0.837579</td>\n",
       "    </tr>\n",
       "    <tr>\n",
       "      <th>2013-01-01 00:12:00</th>\n",
       "      <td>0.515535</td>\n",
       "    </tr>\n",
       "    <tr>\n",
       "      <th>2013-01-01 00:13:00</th>\n",
       "      <td>0.581033</td>\n",
       "    </tr>\n",
       "    <tr>\n",
       "      <th>2013-01-01 00:14:00</th>\n",
       "      <td>-0.968355</td>\n",
       "    </tr>\n",
       "    <tr>\n",
       "      <th>2013-01-01 00:15:00</th>\n",
       "      <td>-0.297646</td>\n",
       "    </tr>\n",
       "    <tr>\n",
       "      <th>2013-01-01 00:16:00</th>\n",
       "      <td>0.391371</td>\n",
       "    </tr>\n",
       "    <tr>\n",
       "      <th>2013-01-01 00:17:00</th>\n",
       "      <td>-1.158404</td>\n",
       "    </tr>\n",
       "    <tr>\n",
       "      <th>2013-01-01 00:18:00</th>\n",
       "      <td>-1.213878</td>\n",
       "    </tr>\n",
       "    <tr>\n",
       "      <th>2013-01-01 00:19:00</th>\n",
       "      <td>2.158113</td>\n",
       "    </tr>\n",
       "    <tr>\n",
       "      <th>2013-01-01 00:20:00</th>\n",
       "      <td>1.085202</td>\n",
       "    </tr>\n",
       "    <tr>\n",
       "      <th>2013-01-01 00:21:00</th>\n",
       "      <td>-0.027928</td>\n",
       "    </tr>\n",
       "    <tr>\n",
       "      <th>2013-01-01 00:22:00</th>\n",
       "      <td>0.754399</td>\n",
       "    </tr>\n",
       "    <tr>\n",
       "      <th>2013-01-01 00:23:00</th>\n",
       "      <td>2.791241</td>\n",
       "    </tr>\n",
       "    <tr>\n",
       "      <th>2013-01-01 00:24:00</th>\n",
       "      <td>0.626600</td>\n",
       "    </tr>\n",
       "    <tr>\n",
       "      <th>2013-01-01 00:25:00</th>\n",
       "      <td>1.068865</td>\n",
       "    </tr>\n",
       "    <tr>\n",
       "      <th>2013-01-01 00:26:00</th>\n",
       "      <td>0.080937</td>\n",
       "    </tr>\n",
       "    <tr>\n",
       "      <th>2013-01-01 00:27:00</th>\n",
       "      <td>0.100607</td>\n",
       "    </tr>\n",
       "    <tr>\n",
       "      <th>2013-01-01 00:28:00</th>\n",
       "      <td>-0.147271</td>\n",
       "    </tr>\n",
       "    <tr>\n",
       "      <th>2013-01-01 00:29:00</th>\n",
       "      <td>0.734609</td>\n",
       "    </tr>\n",
       "    <tr>\n",
       "      <th>...</th>\n",
       "      <td>...</td>\n",
       "    </tr>\n",
       "    <tr>\n",
       "      <th>2013-02-28 23:30:00</th>\n",
       "      <td>-0.160853</td>\n",
       "    </tr>\n",
       "    <tr>\n",
       "      <th>2013-02-28 23:31:00</th>\n",
       "      <td>-1.198740</td>\n",
       "    </tr>\n",
       "    <tr>\n",
       "      <th>2013-02-28 23:32:00</th>\n",
       "      <td>-1.683346</td>\n",
       "    </tr>\n",
       "    <tr>\n",
       "      <th>2013-02-28 23:33:00</th>\n",
       "      <td>0.245348</td>\n",
       "    </tr>\n",
       "    <tr>\n",
       "      <th>2013-02-28 23:34:00</th>\n",
       "      <td>1.164034</td>\n",
       "    </tr>\n",
       "    <tr>\n",
       "      <th>2013-02-28 23:35:00</th>\n",
       "      <td>-0.378773</td>\n",
       "    </tr>\n",
       "    <tr>\n",
       "      <th>2013-02-28 23:36:00</th>\n",
       "      <td>-0.266863</td>\n",
       "    </tr>\n",
       "    <tr>\n",
       "      <th>2013-02-28 23:37:00</th>\n",
       "      <td>0.174141</td>\n",
       "    </tr>\n",
       "    <tr>\n",
       "      <th>2013-02-28 23:38:00</th>\n",
       "      <td>-0.688052</td>\n",
       "    </tr>\n",
       "    <tr>\n",
       "      <th>2013-02-28 23:39:00</th>\n",
       "      <td>-0.400664</td>\n",
       "    </tr>\n",
       "    <tr>\n",
       "      <th>2013-02-28 23:40:00</th>\n",
       "      <td>-1.230223</td>\n",
       "    </tr>\n",
       "    <tr>\n",
       "      <th>2013-02-28 23:41:00</th>\n",
       "      <td>-0.292579</td>\n",
       "    </tr>\n",
       "    <tr>\n",
       "      <th>2013-02-28 23:42:00</th>\n",
       "      <td>0.981563</td>\n",
       "    </tr>\n",
       "    <tr>\n",
       "      <th>2013-02-28 23:43:00</th>\n",
       "      <td>-1.260219</td>\n",
       "    </tr>\n",
       "    <tr>\n",
       "      <th>2013-02-28 23:44:00</th>\n",
       "      <td>0.759196</td>\n",
       "    </tr>\n",
       "    <tr>\n",
       "      <th>2013-02-28 23:45:00</th>\n",
       "      <td>-0.711847</td>\n",
       "    </tr>\n",
       "    <tr>\n",
       "      <th>2013-02-28 23:46:00</th>\n",
       "      <td>-0.303744</td>\n",
       "    </tr>\n",
       "    <tr>\n",
       "      <th>2013-02-28 23:47:00</th>\n",
       "      <td>-0.259407</td>\n",
       "    </tr>\n",
       "    <tr>\n",
       "      <th>2013-02-28 23:48:00</th>\n",
       "      <td>-0.344319</td>\n",
       "    </tr>\n",
       "    <tr>\n",
       "      <th>2013-02-28 23:49:00</th>\n",
       "      <td>-1.161526</td>\n",
       "    </tr>\n",
       "    <tr>\n",
       "      <th>2013-02-28 23:50:00</th>\n",
       "      <td>-0.793583</td>\n",
       "    </tr>\n",
       "    <tr>\n",
       "      <th>2013-02-28 23:51:00</th>\n",
       "      <td>0.644058</td>\n",
       "    </tr>\n",
       "    <tr>\n",
       "      <th>2013-02-28 23:52:00</th>\n",
       "      <td>0.446865</td>\n",
       "    </tr>\n",
       "    <tr>\n",
       "      <th>2013-02-28 23:53:00</th>\n",
       "      <td>1.371984</td>\n",
       "    </tr>\n",
       "    <tr>\n",
       "      <th>2013-02-28 23:54:00</th>\n",
       "      <td>0.888109</td>\n",
       "    </tr>\n",
       "    <tr>\n",
       "      <th>2013-02-28 23:55:00</th>\n",
       "      <td>0.672319</td>\n",
       "    </tr>\n",
       "    <tr>\n",
       "      <th>2013-02-28 23:56:00</th>\n",
       "      <td>1.989148</td>\n",
       "    </tr>\n",
       "    <tr>\n",
       "      <th>2013-02-28 23:57:00</th>\n",
       "      <td>-0.618196</td>\n",
       "    </tr>\n",
       "    <tr>\n",
       "      <th>2013-02-28 23:58:00</th>\n",
       "      <td>0.790383</td>\n",
       "    </tr>\n",
       "    <tr>\n",
       "      <th>2013-02-28 23:59:00</th>\n",
       "      <td>0.336216</td>\n",
       "    </tr>\n",
       "  </tbody>\n",
       "</table>\n",
       "<p>84960 rows × 1 columns</p>\n",
       "</div>"
      ],
      "text/plain": [
       "                            A\n",
       "2013-01-01 00:00:00  0.487937\n",
       "2013-01-01 00:01:00  1.863481\n",
       "2013-01-01 00:02:00 -2.619854\n",
       "2013-01-01 00:03:00  0.688805\n",
       "2013-01-01 00:04:00 -0.119478\n",
       "2013-01-01 00:05:00  0.846206\n",
       "2013-01-01 00:06:00 -0.377208\n",
       "2013-01-01 00:07:00 -0.586735\n",
       "2013-01-01 00:08:00 -0.015885\n",
       "2013-01-01 00:09:00  1.778815\n",
       "2013-01-01 00:10:00 -1.331501\n",
       "2013-01-01 00:11:00 -0.837579\n",
       "2013-01-01 00:12:00  0.515535\n",
       "2013-01-01 00:13:00  0.581033\n",
       "2013-01-01 00:14:00 -0.968355\n",
       "2013-01-01 00:15:00 -0.297646\n",
       "2013-01-01 00:16:00  0.391371\n",
       "2013-01-01 00:17:00 -1.158404\n",
       "2013-01-01 00:18:00 -1.213878\n",
       "2013-01-01 00:19:00  2.158113\n",
       "2013-01-01 00:20:00  1.085202\n",
       "2013-01-01 00:21:00 -0.027928\n",
       "2013-01-01 00:22:00  0.754399\n",
       "2013-01-01 00:23:00  2.791241\n",
       "2013-01-01 00:24:00  0.626600\n",
       "2013-01-01 00:25:00  1.068865\n",
       "2013-01-01 00:26:00  0.080937\n",
       "2013-01-01 00:27:00  0.100607\n",
       "2013-01-01 00:28:00 -0.147271\n",
       "2013-01-01 00:29:00  0.734609\n",
       "...                       ...\n",
       "2013-02-28 23:30:00 -0.160853\n",
       "2013-02-28 23:31:00 -1.198740\n",
       "2013-02-28 23:32:00 -1.683346\n",
       "2013-02-28 23:33:00  0.245348\n",
       "2013-02-28 23:34:00  1.164034\n",
       "2013-02-28 23:35:00 -0.378773\n",
       "2013-02-28 23:36:00 -0.266863\n",
       "2013-02-28 23:37:00  0.174141\n",
       "2013-02-28 23:38:00 -0.688052\n",
       "2013-02-28 23:39:00 -0.400664\n",
       "2013-02-28 23:40:00 -1.230223\n",
       "2013-02-28 23:41:00 -0.292579\n",
       "2013-02-28 23:42:00  0.981563\n",
       "2013-02-28 23:43:00 -1.260219\n",
       "2013-02-28 23:44:00  0.759196\n",
       "2013-02-28 23:45:00 -0.711847\n",
       "2013-02-28 23:46:00 -0.303744\n",
       "2013-02-28 23:47:00 -0.259407\n",
       "2013-02-28 23:48:00 -0.344319\n",
       "2013-02-28 23:49:00 -1.161526\n",
       "2013-02-28 23:50:00 -0.793583\n",
       "2013-02-28 23:51:00  0.644058\n",
       "2013-02-28 23:52:00  0.446865\n",
       "2013-02-28 23:53:00  1.371984\n",
       "2013-02-28 23:54:00  0.888109\n",
       "2013-02-28 23:55:00  0.672319\n",
       "2013-02-28 23:56:00  1.989148\n",
       "2013-02-28 23:57:00 -0.618196\n",
       "2013-02-28 23:58:00  0.790383\n",
       "2013-02-28 23:59:00  0.336216\n",
       "\n",
       "[84960 rows x 1 columns]"
      ]
     },
     "execution_count": 62,
     "metadata": {},
     "output_type": "execute_result"
    }
   ],
   "source": [
    "dft['2013-1':'2013-2']"
   ]
  },
  {
   "cell_type": "code",
   "execution_count": 64,
   "metadata": {
    "collapsed": false
   },
   "outputs": [
    {
     "data": {
      "text/plain": [
       "A   -0.642778\n",
       "Name: 2013-01-15 12:30:00, dtype: float64"
      ]
     },
     "execution_count": 64,
     "metadata": {},
     "output_type": "execute_result"
    }
   ],
   "source": [
    "dft.loc['2013-1-15 12:30:00'] #不是切片需要用loc"
   ]
  },
  {
   "cell_type": "code",
   "execution_count": 66,
   "metadata": {
    "collapsed": true
   },
   "outputs": [
    {
     "data": {
      "text/html": [
       "<div>\n",
       "<table border=\"1\" class=\"dataframe\">\n",
       "  <thead>\n",
       "    <tr style=\"text-align: right;\">\n",
       "      <th></th>\n",
       "      <th>A</th>\n",
       "    </tr>\n",
       "  </thead>\n",
       "  <tbody>\n",
       "    <tr>\n",
       "      <th>2013-01-15 00:00:00</th>\n",
       "      <td>-1.260134</td>\n",
       "    </tr>\n",
       "    <tr>\n",
       "      <th>2013-01-15 00:01:00</th>\n",
       "      <td>-0.048268</td>\n",
       "    </tr>\n",
       "    <tr>\n",
       "      <th>2013-01-15 00:02:00</th>\n",
       "      <td>0.125487</td>\n",
       "    </tr>\n",
       "    <tr>\n",
       "      <th>2013-01-15 00:03:00</th>\n",
       "      <td>0.606289</td>\n",
       "    </tr>\n",
       "    <tr>\n",
       "      <th>2013-01-15 00:04:00</th>\n",
       "      <td>0.220386</td>\n",
       "    </tr>\n",
       "    <tr>\n",
       "      <th>2013-01-15 00:05:00</th>\n",
       "      <td>0.875749</td>\n",
       "    </tr>\n",
       "    <tr>\n",
       "      <th>2013-01-15 00:06:00</th>\n",
       "      <td>0.109804</td>\n",
       "    </tr>\n",
       "    <tr>\n",
       "      <th>2013-01-15 00:07:00</th>\n",
       "      <td>-0.497066</td>\n",
       "    </tr>\n",
       "    <tr>\n",
       "      <th>2013-01-15 00:08:00</th>\n",
       "      <td>-0.415658</td>\n",
       "    </tr>\n",
       "    <tr>\n",
       "      <th>2013-01-15 00:09:00</th>\n",
       "      <td>0.111308</td>\n",
       "    </tr>\n",
       "    <tr>\n",
       "      <th>2013-01-15 00:10:00</th>\n",
       "      <td>-0.463469</td>\n",
       "    </tr>\n",
       "    <tr>\n",
       "      <th>2013-01-15 00:11:00</th>\n",
       "      <td>0.250700</td>\n",
       "    </tr>\n",
       "    <tr>\n",
       "      <th>2013-01-15 00:12:00</th>\n",
       "      <td>-0.936551</td>\n",
       "    </tr>\n",
       "    <tr>\n",
       "      <th>2013-01-15 00:13:00</th>\n",
       "      <td>-0.107223</td>\n",
       "    </tr>\n",
       "    <tr>\n",
       "      <th>2013-01-15 00:14:00</th>\n",
       "      <td>0.300014</td>\n",
       "    </tr>\n",
       "    <tr>\n",
       "      <th>2013-01-15 00:15:00</th>\n",
       "      <td>0.473759</td>\n",
       "    </tr>\n",
       "    <tr>\n",
       "      <th>2013-01-15 00:16:00</th>\n",
       "      <td>0.768118</td>\n",
       "    </tr>\n",
       "    <tr>\n",
       "      <th>2013-01-15 00:17:00</th>\n",
       "      <td>0.305466</td>\n",
       "    </tr>\n",
       "    <tr>\n",
       "      <th>2013-01-15 00:18:00</th>\n",
       "      <td>0.229492</td>\n",
       "    </tr>\n",
       "    <tr>\n",
       "      <th>2013-01-15 00:19:00</th>\n",
       "      <td>1.485309</td>\n",
       "    </tr>\n",
       "    <tr>\n",
       "      <th>2013-01-15 00:20:00</th>\n",
       "      <td>-0.288873</td>\n",
       "    </tr>\n",
       "    <tr>\n",
       "      <th>2013-01-15 00:21:00</th>\n",
       "      <td>-0.134846</td>\n",
       "    </tr>\n",
       "    <tr>\n",
       "      <th>2013-01-15 00:22:00</th>\n",
       "      <td>0.420659</td>\n",
       "    </tr>\n",
       "    <tr>\n",
       "      <th>2013-01-15 00:23:00</th>\n",
       "      <td>-0.364724</td>\n",
       "    </tr>\n",
       "    <tr>\n",
       "      <th>2013-01-15 00:24:00</th>\n",
       "      <td>-0.806372</td>\n",
       "    </tr>\n",
       "    <tr>\n",
       "      <th>2013-01-15 00:25:00</th>\n",
       "      <td>0.008997</td>\n",
       "    </tr>\n",
       "    <tr>\n",
       "      <th>2013-01-15 00:26:00</th>\n",
       "      <td>-1.076433</td>\n",
       "    </tr>\n",
       "    <tr>\n",
       "      <th>2013-01-15 00:27:00</th>\n",
       "      <td>0.550998</td>\n",
       "    </tr>\n",
       "    <tr>\n",
       "      <th>2013-01-15 00:28:00</th>\n",
       "      <td>0.745883</td>\n",
       "    </tr>\n",
       "    <tr>\n",
       "      <th>2013-01-15 00:29:00</th>\n",
       "      <td>0.670313</td>\n",
       "    </tr>\n",
       "    <tr>\n",
       "      <th>...</th>\n",
       "      <td>...</td>\n",
       "    </tr>\n",
       "    <tr>\n",
       "      <th>2013-01-24 23:31:00</th>\n",
       "      <td>-0.715492</td>\n",
       "    </tr>\n",
       "    <tr>\n",
       "      <th>2013-01-24 23:32:00</th>\n",
       "      <td>0.667295</td>\n",
       "    </tr>\n",
       "    <tr>\n",
       "      <th>2013-01-24 23:33:00</th>\n",
       "      <td>0.448063</td>\n",
       "    </tr>\n",
       "    <tr>\n",
       "      <th>2013-01-24 23:34:00</th>\n",
       "      <td>1.325090</td>\n",
       "    </tr>\n",
       "    <tr>\n",
       "      <th>2013-01-24 23:35:00</th>\n",
       "      <td>-0.324361</td>\n",
       "    </tr>\n",
       "    <tr>\n",
       "      <th>2013-01-24 23:36:00</th>\n",
       "      <td>0.419994</td>\n",
       "    </tr>\n",
       "    <tr>\n",
       "      <th>2013-01-24 23:37:00</th>\n",
       "      <td>-2.767702</td>\n",
       "    </tr>\n",
       "    <tr>\n",
       "      <th>2013-01-24 23:38:00</th>\n",
       "      <td>1.576821</td>\n",
       "    </tr>\n",
       "    <tr>\n",
       "      <th>2013-01-24 23:39:00</th>\n",
       "      <td>1.044086</td>\n",
       "    </tr>\n",
       "    <tr>\n",
       "      <th>2013-01-24 23:40:00</th>\n",
       "      <td>-0.770452</td>\n",
       "    </tr>\n",
       "    <tr>\n",
       "      <th>2013-01-24 23:41:00</th>\n",
       "      <td>1.703089</td>\n",
       "    </tr>\n",
       "    <tr>\n",
       "      <th>2013-01-24 23:42:00</th>\n",
       "      <td>0.926328</td>\n",
       "    </tr>\n",
       "    <tr>\n",
       "      <th>2013-01-24 23:43:00</th>\n",
       "      <td>0.177148</td>\n",
       "    </tr>\n",
       "    <tr>\n",
       "      <th>2013-01-24 23:44:00</th>\n",
       "      <td>0.475152</td>\n",
       "    </tr>\n",
       "    <tr>\n",
       "      <th>2013-01-24 23:45:00</th>\n",
       "      <td>-0.209658</td>\n",
       "    </tr>\n",
       "    <tr>\n",
       "      <th>2013-01-24 23:46:00</th>\n",
       "      <td>-0.428545</td>\n",
       "    </tr>\n",
       "    <tr>\n",
       "      <th>2013-01-24 23:47:00</th>\n",
       "      <td>1.941018</td>\n",
       "    </tr>\n",
       "    <tr>\n",
       "      <th>2013-01-24 23:48:00</th>\n",
       "      <td>0.813504</td>\n",
       "    </tr>\n",
       "    <tr>\n",
       "      <th>2013-01-24 23:49:00</th>\n",
       "      <td>0.506180</td>\n",
       "    </tr>\n",
       "    <tr>\n",
       "      <th>2013-01-24 23:50:00</th>\n",
       "      <td>2.327631</td>\n",
       "    </tr>\n",
       "    <tr>\n",
       "      <th>2013-01-24 23:51:00</th>\n",
       "      <td>1.875877</td>\n",
       "    </tr>\n",
       "    <tr>\n",
       "      <th>2013-01-24 23:52:00</th>\n",
       "      <td>0.084172</td>\n",
       "    </tr>\n",
       "    <tr>\n",
       "      <th>2013-01-24 23:53:00</th>\n",
       "      <td>0.058998</td>\n",
       "    </tr>\n",
       "    <tr>\n",
       "      <th>2013-01-24 23:54:00</th>\n",
       "      <td>0.132150</td>\n",
       "    </tr>\n",
       "    <tr>\n",
       "      <th>2013-01-24 23:55:00</th>\n",
       "      <td>-1.202930</td>\n",
       "    </tr>\n",
       "    <tr>\n",
       "      <th>2013-01-24 23:56:00</th>\n",
       "      <td>0.101637</td>\n",
       "    </tr>\n",
       "    <tr>\n",
       "      <th>2013-01-24 23:57:00</th>\n",
       "      <td>-0.333396</td>\n",
       "    </tr>\n",
       "    <tr>\n",
       "      <th>2013-01-24 23:58:00</th>\n",
       "      <td>-0.596259</td>\n",
       "    </tr>\n",
       "    <tr>\n",
       "      <th>2013-01-24 23:59:00</th>\n",
       "      <td>-0.773956</td>\n",
       "    </tr>\n",
       "    <tr>\n",
       "      <th>2013-01-25 00:00:00</th>\n",
       "      <td>0.556374</td>\n",
       "    </tr>\n",
       "  </tbody>\n",
       "</table>\n",
       "<p>14401 rows × 1 columns</p>\n",
       "</div>"
      ],
      "text/plain": [
       "                            A\n",
       "2013-01-15 00:00:00 -1.260134\n",
       "2013-01-15 00:01:00 -0.048268\n",
       "2013-01-15 00:02:00  0.125487\n",
       "2013-01-15 00:03:00  0.606289\n",
       "2013-01-15 00:04:00  0.220386\n",
       "2013-01-15 00:05:00  0.875749\n",
       "2013-01-15 00:06:00  0.109804\n",
       "2013-01-15 00:07:00 -0.497066\n",
       "2013-01-15 00:08:00 -0.415658\n",
       "2013-01-15 00:09:00  0.111308\n",
       "2013-01-15 00:10:00 -0.463469\n",
       "2013-01-15 00:11:00  0.250700\n",
       "2013-01-15 00:12:00 -0.936551\n",
       "2013-01-15 00:13:00 -0.107223\n",
       "2013-01-15 00:14:00  0.300014\n",
       "2013-01-15 00:15:00  0.473759\n",
       "2013-01-15 00:16:00  0.768118\n",
       "2013-01-15 00:17:00  0.305466\n",
       "2013-01-15 00:18:00  0.229492\n",
       "2013-01-15 00:19:00  1.485309\n",
       "2013-01-15 00:20:00 -0.288873\n",
       "2013-01-15 00:21:00 -0.134846\n",
       "2013-01-15 00:22:00  0.420659\n",
       "2013-01-15 00:23:00 -0.364724\n",
       "2013-01-15 00:24:00 -0.806372\n",
       "2013-01-15 00:25:00  0.008997\n",
       "2013-01-15 00:26:00 -1.076433\n",
       "2013-01-15 00:27:00  0.550998\n",
       "2013-01-15 00:28:00  0.745883\n",
       "2013-01-15 00:29:00  0.670313\n",
       "...                       ...\n",
       "2013-01-24 23:31:00 -0.715492\n",
       "2013-01-24 23:32:00  0.667295\n",
       "2013-01-24 23:33:00  0.448063\n",
       "2013-01-24 23:34:00  1.325090\n",
       "2013-01-24 23:35:00 -0.324361\n",
       "2013-01-24 23:36:00  0.419994\n",
       "2013-01-24 23:37:00 -2.767702\n",
       "2013-01-24 23:38:00  1.576821\n",
       "2013-01-24 23:39:00  1.044086\n",
       "2013-01-24 23:40:00 -0.770452\n",
       "2013-01-24 23:41:00  1.703089\n",
       "2013-01-24 23:42:00  0.926328\n",
       "2013-01-24 23:43:00  0.177148\n",
       "2013-01-24 23:44:00  0.475152\n",
       "2013-01-24 23:45:00 -0.209658\n",
       "2013-01-24 23:46:00 -0.428545\n",
       "2013-01-24 23:47:00  1.941018\n",
       "2013-01-24 23:48:00  0.813504\n",
       "2013-01-24 23:49:00  0.506180\n",
       "2013-01-24 23:50:00  2.327631\n",
       "2013-01-24 23:51:00  1.875877\n",
       "2013-01-24 23:52:00  0.084172\n",
       "2013-01-24 23:53:00  0.058998\n",
       "2013-01-24 23:54:00  0.132150\n",
       "2013-01-24 23:55:00 -1.202930\n",
       "2013-01-24 23:56:00  0.101637\n",
       "2013-01-24 23:57:00 -0.333396\n",
       "2013-01-24 23:58:00 -0.596259\n",
       "2013-01-24 23:59:00 -0.773956\n",
       "2013-01-25 00:00:00  0.556374\n",
       "\n",
       "[14401 rows x 1 columns]"
      ]
     },
     "execution_count": 66,
     "metadata": {},
     "output_type": "execute_result"
    }
   ],
   "source": [
    "dft.truncate(before='2013-1-15',after='2013-1-25')#按范围切片"
   ]
  },
  {
   "cell_type": "code",
   "execution_count": 71,
   "metadata": {
    "collapsed": false
   },
   "outputs": [
    {
     "data": {
      "text/plain": [
       "DatetimeIndex(['2011-01-31', '2011-03-31', '2011-07-29'], dtype='datetime64[ns]', freq=None)"
      ]
     },
     "execution_count": 71,
     "metadata": {},
     "output_type": "execute_result"
    }
   ],
   "source": [
    "ts[[0,2,6]].index #ts是series可以用[[]], dft是Dataframe不可以用[[]]"
   ]
  },
  {
   "cell_type": "code",
   "execution_count": 74,
   "metadata": {
    "collapsed": false
   },
   "outputs": [
    {
     "data": {
      "text/plain": [
       "DatetimeIndex(['2013-01-01 00:00:00', '2013-01-01 00:02:00',\n",
       "               '2013-01-01 00:06:00'],\n",
       "              dtype='datetime64[ns]', freq=None)"
      ]
     },
     "execution_count": 74,
     "metadata": {},
     "output_type": "execute_result"
    }
   ],
   "source": [
    "dft.ix[[0,2,6],:].index"
   ]
  },
  {
   "cell_type": "code",
   "execution_count": 76,
   "metadata": {
    "collapsed": false
   },
   "outputs": [
    {
     "data": {
      "text/plain": [
       "datetime.datetime(2008, 8, 18, 9, 0)"
      ]
     },
     "execution_count": 76,
     "metadata": {},
     "output_type": "execute_result"
    }
   ],
   "source": [
    "d = pd.datetime(2008,8,18,9)\n",
    "d"
   ]
  },
  {
   "cell_type": "markdown",
   "metadata": {},
   "source": [
    "### from pandas.tseries.offsets import *\n",
    "### pandas.tseries.offsets "
   ]
  },
  {
   "cell_type": "code",
   "execution_count": 80,
   "metadata": {
    "collapsed": false
   },
   "outputs": [
    {
     "data": {
      "text/plain": [
       "Timestamp('2008-12-18 09:00:00')"
      ]
     },
     "execution_count": 80,
     "metadata": {},
     "output_type": "execute_result"
    }
   ],
   "source": [
    "\n",
    "d + DateOffset(months=4)"
   ]
  },
  {
   "cell_type": "code",
   "execution_count": 81,
   "metadata": {
    "collapsed": false
   },
   "outputs": [
    {
     "data": {
      "text/plain": [
       "Timestamp('2008-08-11 09:00:00')"
      ]
     },
     "execution_count": 81,
     "metadata": {},
     "output_type": "execute_result"
    }
   ],
   "source": [
    "d - 5*BDay()"
   ]
  },
  {
   "cell_type": "code",
   "execution_count": 82,
   "metadata": {
    "collapsed": false
   },
   "outputs": [
    {
     "data": {
      "text/plain": [
       "Timestamp('2008-08-29 09:00:00')"
      ]
     },
     "execution_count": 82,
     "metadata": {},
     "output_type": "execute_result"
    }
   ],
   "source": [
    "d + BMonthEnd()"
   ]
  },
  {
   "cell_type": "markdown",
   "metadata": {},
   "source": [
    "## Parametric offsets"
   ]
  },
  {
   "cell_type": "code",
   "execution_count": 6,
   "metadata": {
    "collapsed": false
   },
   "outputs": [
    {
     "data": {
      "text/plain": [
       "Timestamp('2016-06-28 09:18:00')"
      ]
     },
     "execution_count": 6,
     "metadata": {},
     "output_type": "execute_result"
    }
   ],
   "source": [
    "d = pd.datetime(2016,6,21,9,18)\n",
    "d + Week()"
   ]
  },
  {
   "cell_type": "code",
   "execution_count": 7,
   "metadata": {
    "collapsed": false
   },
   "outputs": [
    {
     "data": {
      "text/plain": [
       "Timestamp('2016-06-24 09:18:00')"
      ]
     },
     "execution_count": 7,
     "metadata": {},
     "output_type": "execute_result"
    }
   ],
   "source": [
    "d + Week(weekday=4)"
   ]
  },
  {
   "cell_type": "code",
   "execution_count": 8,
   "metadata": {
    "collapsed": false
   },
   "outputs": [
    {
     "data": {
      "text/plain": [
       "Timestamp('2016-12-31 09:18:00')"
      ]
     },
     "execution_count": 8,
     "metadata": {},
     "output_type": "execute_result"
    }
   ],
   "source": [
    "d + YearEnd()"
   ]
  },
  {
   "cell_type": "code",
   "execution_count": 9,
   "metadata": {
    "collapsed": false
   },
   "outputs": [
    {
     "data": {
      "text/plain": [
       "DatetimeIndex(['2012-01-01', '2012-01-02', '2012-01-03'], dtype='datetime64[ns]', freq='D')"
      ]
     },
     "execution_count": 9,
     "metadata": {},
     "output_type": "execute_result"
    }
   ],
   "source": [
    "rng = pd.date_range('2012-01-01','2012-01-03')\n",
    "s = pd.Series(rng)\n",
    "rng"
   ]
  },
  {
   "cell_type": "code",
   "execution_count": 10,
   "metadata": {
    "collapsed": false
   },
   "outputs": [
    {
     "data": {
      "text/plain": [
       "DatetimeIndex(['2012-03-01', '2012-03-02', '2012-03-03'], dtype='datetime64[ns]', freq='D')"
      ]
     },
     "execution_count": 10,
     "metadata": {},
     "output_type": "execute_result"
    }
   ],
   "source": [
    "rng + DateOffset(months=2)"
   ]
  },
  {
   "cell_type": "code",
   "execution_count": 16,
   "metadata": {
    "collapsed": false
   },
   "outputs": [],
   "source": [
    " t = s - Day(2)"
   ]
  },
  {
   "cell_type": "code",
   "execution_count": 17,
   "metadata": {
    "collapsed": false
   },
   "outputs": [
    {
     "data": {
      "text/plain": [
       "0   2 days\n",
       "1   2 days\n",
       "2   2 days\n",
       "dtype: timedelta64[ns]"
      ]
     },
     "execution_count": 17,
     "metadata": {},
     "output_type": "execute_result"
    }
   ],
   "source": [
    "td = s - t\n",
    "td"
   ]
  },
  {
   "cell_type": "code",
   "execution_count": 18,
   "metadata": {
    "collapsed": false
   },
   "outputs": [
    {
     "data": {
      "text/plain": [
       "0   2 days 00:15:00\n",
       "1   2 days 00:15:00\n",
       "2   2 days 00:15:00\n",
       "dtype: timedelta64[ns]"
      ]
     },
     "execution_count": 18,
     "metadata": {},
     "output_type": "execute_result"
    }
   ],
   "source": [
    "td + Minute(15)"
   ]
  },
  {
   "cell_type": "code",
   "execution_count": 23,
   "metadata": {
    "collapsed": false
   },
   "outputs": [
    {
     "data": {
      "text/plain": [
       "Timestamp('2013-05-05 00:00:00')"
      ]
     },
     "execution_count": 23,
     "metadata": {},
     "output_type": "execute_result"
    }
   ],
   "source": [
    "from pandas.tseries.offsets import CustomBusinessDay\n",
    "weekmask_egypt = 'Sun Mon Tue Wed Thu'\n",
    "holidays = ['2012-05-01', pd.datetime(2013, 5, 1), np.datetime64('2014-05-01')]\n",
    "bday_egypt = CustomBusinessDay(holidays=holidays, weekmask=weekmask_egypt)\n",
    "dt = pd.datetime(2013,4,30)\n",
    "dt + 2 * bday_egypt"
   ]
  },
  {
   "cell_type": "code",
   "execution_count": 25,
   "metadata": {
    "collapsed": false
   },
   "outputs": [
    {
     "data": {
      "text/plain": [
       "2013-04-30    Tue\n",
       "2013-05-02    Thu\n",
       "2013-05-05    Sun\n",
       "2013-05-06    Mon\n",
       "2013-05-07    Tue\n",
       "Freq: C, dtype: object"
      ]
     },
     "execution_count": 25,
     "metadata": {},
     "output_type": "execute_result"
    }
   ],
   "source": [
    "#映射周名\n",
    "dts = pd.date_range(dt, periods=5, freq=bday_egypt)\n",
    "pd.Series(dts.weekday, dts).map(pd.Series('Mon Tue Wed Thu Fri Sat Sun'.split()))"
   ]
  },
  {
   "cell_type": "code",
   "execution_count": 26,
   "metadata": {
    "collapsed": false
   },
   "outputs": [
    {
     "data": {
      "text/plain": [
       "Timestamp('2014-01-21 00:00:00')"
      ]
     },
     "execution_count": 26,
     "metadata": {},
     "output_type": "execute_result"
    }
   ],
   "source": [
    "from pandas.tseries.holiday import USFederalHolidayCalendar\n",
    "bday_us = CustomBusinessDay(calendar=USFederalHolidayCalendar())\n",
    "dt = pd.datetime(2014,1,17)\n",
    "dt + bday_us"
   ]
  },
  {
   "cell_type": "code",
   "execution_count": 28,
   "metadata": {
    "collapsed": false
   },
   "outputs": [
    {
     "data": {
      "text/plain": [
       "Timestamp('2014-01-02 00:00:00')"
      ]
     },
     "execution_count": 28,
     "metadata": {},
     "output_type": "execute_result"
    }
   ],
   "source": [
    "from pandas.tseries.offsets import CustomBusinessMonthBegin\n",
    "bmth_us = CustomBusinessMonthBegin(calendar = USFederalHolidayCalendar())\n",
    "dt = pd.datetime(2013,12,17)\n",
    "dt + bmth_us"
   ]
  },
  {
   "cell_type": "code",
   "execution_count": 29,
   "metadata": {
    "collapsed": false
   },
   "outputs": [
    {
     "data": {
      "text/plain": [
       "DatetimeIndex(['2010-01-04', '2010-02-01', '2010-03-01', '2010-04-01',\n",
       "               '2010-05-03', '2010-06-01', '2010-07-01', '2010-08-02',\n",
       "               '2010-09-01', '2010-10-01', '2010-11-01', '2010-12-01',\n",
       "               '2011-01-03', '2011-02-01', '2011-03-01', '2011-04-01',\n",
       "               '2011-05-02', '2011-06-01', '2011-07-01', '2011-08-01',\n",
       "               '2011-09-01', '2011-10-03', '2011-11-01', '2011-12-01'],\n",
       "              dtype='datetime64[ns]', freq='CBMS')"
      ]
     },
     "execution_count": 29,
     "metadata": {},
     "output_type": "execute_result"
    }
   ],
   "source": [
    "pd.DatetimeIndex(start='20100101',end='20120101',freq=bmth_us)"
   ]
  },
  {
   "cell_type": "code",
   "execution_count": 30,
   "metadata": {
    "collapsed": false
   },
   "outputs": [
    {
     "data": {
      "text/plain": [
       "<BusinessHour: BH=09:00-17:00>"
      ]
     },
     "execution_count": 30,
     "metadata": {},
     "output_type": "execute_result"
    }
   ],
   "source": [
    "bh = BusinessHour()\n",
    "bh"
   ]
  },
  {
   "cell_type": "code",
   "execution_count": 31,
   "metadata": {
    "collapsed": false
   },
   "outputs": [
    {
     "data": {
      "text/plain": [
       "4"
      ]
     },
     "execution_count": 31,
     "metadata": {},
     "output_type": "execute_result"
    }
   ],
   "source": [
    "pd.Timestamp('2014-08-01 10:00').weekday()"
   ]
  },
  {
   "cell_type": "code",
   "execution_count": 32,
   "metadata": {
    "collapsed": false
   },
   "outputs": [
    {
     "data": {
      "text/plain": [
       "Timestamp('2014-08-01 11:00:00')"
      ]
     },
     "execution_count": 32,
     "metadata": {},
     "output_type": "execute_result"
    }
   ],
   "source": [
    "pd.Timestamp('2014-08-01 10:00') + bh"
   ]
  },
  {
   "cell_type": "code",
   "execution_count": 33,
   "metadata": {
    "collapsed": false
   },
   "outputs": [
    {
     "data": {
      "text/plain": [
       "Timestamp('2014-08-01 10:00:00')"
      ]
     },
     "execution_count": 33,
     "metadata": {},
     "output_type": "execute_result"
    }
   ],
   "source": [
    "pd.Timestamp('2014-08-01 08:00') + bh"
   ]
  },
  {
   "cell_type": "code",
   "execution_count": 34,
   "metadata": {
    "collapsed": false
   },
   "outputs": [
    {
     "data": {
      "text/plain": [
       "<BusinessHour: BH=17:00-09:00>"
      ]
     },
     "execution_count": 34,
     "metadata": {},
     "output_type": "execute_result"
    }
   ],
   "source": [
    "bh = BusinessHour(start='17:00', end='09:00')\n",
    "bh"
   ]
  },
  {
   "cell_type": "code",
   "execution_count": 37,
   "metadata": {
    "collapsed": false
   },
   "outputs": [
    {
     "data": {
      "text/plain": [
       "DatetimeIndex(['2016-12-27 10:00:00', '2016-12-28 10:00:00',\n",
       "               '2016-12-29 10:00:00', '2016-12-30 10:00:00',\n",
       "               '2017-01-02 10:00:00'],\n",
       "              dtype='datetime64[ns]', freq='B')"
      ]
     },
     "execution_count": 37,
     "metadata": {},
     "output_type": "execute_result"
    }
   ],
   "source": [
    "pd.date_range(start='10:00', periods=5, freq='B')"
   ]
  },
  {
   "cell_type": "code",
   "execution_count": 39,
   "metadata": {
    "collapsed": false
   },
   "outputs": [
    {
     "data": {
      "text/plain": [
       "DatetimeIndex(['2016-12-27 10:00:00', '2016-12-28 10:00:00',\n",
       "               '2016-12-29 10:00:00', '2016-12-30 10:00:00',\n",
       "               '2017-01-02 10:00:00'],\n",
       "              dtype='datetime64[ns]', freq='B')"
      ]
     },
     "execution_count": 39,
     "metadata": {},
     "output_type": "execute_result"
    }
   ],
   "source": [
    "pd.date_range(start='10:00',periods=5, freq=BDay())"
   ]
  },
  {
   "cell_type": "code",
   "execution_count": 44,
   "metadata": {
    "collapsed": false
   },
   "outputs": [
    {
     "data": {
      "text/plain": [
       "2011-01-31    0.001199\n",
       "2011-02-28    0.297901\n",
       "2011-03-31   -1.584172\n",
       "2011-04-29    1.753769\n",
       "2011-05-31    1.325897\n",
       "Freq: BM, dtype: float64"
      ]
     },
     "execution_count": 44,
     "metadata": {},
     "output_type": "execute_result"
    }
   ],
   "source": [
    "ts[:5]"
   ]
  },
  {
   "cell_type": "code",
   "execution_count": 46,
   "metadata": {
    "collapsed": false
   },
   "outputs": [
    {
     "data": {
      "text/plain": [
       "2011-01-31         NaN\n",
       "2011-02-28    0.001199\n",
       "2011-03-31    0.297901\n",
       "2011-04-29   -1.584172\n",
       "2011-05-31    1.753769\n",
       "2011-06-30    1.325897\n",
       "2011-07-29   -0.834254\n",
       "2011-08-31   -1.761172\n",
       "2011-09-30    0.526155\n",
       "2011-10-31    1.458577\n",
       "2011-11-30   -0.367685\n",
       "2011-12-30   -0.169263\n",
       "Freq: BM, dtype: float64"
      ]
     },
     "execution_count": 46,
     "metadata": {},
     "output_type": "execute_result"
    }
   ],
   "source": [
    "ts.shift(1) #向后退一位"
   ]
  },
  {
   "cell_type": "code",
   "execution_count": 47,
   "metadata": {
    "collapsed": false
   },
   "outputs": [
    {
     "data": {
      "text/plain": [
       "2011-02-07    0.001199\n",
       "2011-03-07    0.297901\n",
       "2011-04-07   -1.584172\n",
       "2011-05-06    1.753769\n",
       "2011-06-07    1.325897\n",
       "2011-07-07   -0.834254\n",
       "2011-08-05   -1.761172\n",
       "2011-09-07    0.526155\n",
       "2011-10-07    1.458577\n",
       "2011-11-07   -0.367685\n",
       "2011-12-07   -0.169263\n",
       "2012-01-06    0.407352\n",
       "dtype: float64"
      ]
     },
     "execution_count": 47,
     "metadata": {},
     "output_type": "execute_result"
    }
   ],
   "source": [
    "ts.shift(5, freq=BDay())"
   ]
  },
  {
   "cell_type": "code",
   "execution_count": 48,
   "metadata": {
    "collapsed": false
   },
   "outputs": [
    {
     "data": {
      "text/plain": [
       "2011-06-30    0.001199\n",
       "2011-07-29    0.297901\n",
       "2011-08-31   -1.584172\n",
       "2011-09-30    1.753769\n",
       "2011-10-31    1.325897\n",
       "2011-11-30   -0.834254\n",
       "2011-12-30   -1.761172\n",
       "2012-01-31    0.526155\n",
       "2012-02-29    1.458577\n",
       "2012-03-30   -0.367685\n",
       "2012-04-30   -0.169263\n",
       "2012-05-31    0.407352\n",
       "Freq: BM, dtype: float64"
      ]
     },
     "execution_count": 48,
     "metadata": {},
     "output_type": "execute_result"
    }
   ],
   "source": [
    "ts.shift(5, freq='BM')"
   ]
  },
  {
   "cell_type": "code",
   "execution_count": 50,
   "metadata": {
    "collapsed": false
   },
   "outputs": [
    {
     "data": {
      "text/plain": [
       "2011-02-05    0.001199\n",
       "2011-03-05    0.297901\n",
       "2011-04-05   -1.584172\n",
       "2011-05-04    1.753769\n",
       "2011-06-05    1.325897\n",
       "2011-07-05   -0.834254\n",
       "2011-08-03   -1.761172\n",
       "2011-09-05    0.526155\n",
       "2011-10-05    1.458577\n",
       "2011-11-05   -0.367685\n",
       "2011-12-05   -0.169263\n",
       "2012-01-04    0.407352\n",
       "dtype: float64"
      ]
     },
     "execution_count": 50,
     "metadata": {},
     "output_type": "execute_result"
    }
   ],
   "source": [
    "ts.tshift(5, freq='D')"
   ]
  },
  {
   "cell_type": "markdown",
   "metadata": {},
   "source": [
    "## 重采样"
   ]
  },
  {
   "cell_type": "code",
   "execution_count": 51,
   "metadata": {
    "collapsed": true
   },
   "outputs": [
    {
     "data": {
      "text/html": [
       "<div>\n",
       "<table border=\"1\" class=\"dataframe\">\n",
       "  <thead>\n",
       "    <tr style=\"text-align: right;\">\n",
       "      <th></th>\n",
       "      <th>open</th>\n",
       "      <th>high</th>\n",
       "      <th>low</th>\n",
       "      <th>close</th>\n",
       "    </tr>\n",
       "  </thead>\n",
       "  <tbody>\n",
       "    <tr>\n",
       "      <th>2011-01-31 00:00:00</th>\n",
       "      <td>0.001199</td>\n",
       "      <td>0.001199</td>\n",
       "      <td>0.001199</td>\n",
       "      <td>0.001199</td>\n",
       "    </tr>\n",
       "    <tr>\n",
       "      <th>2011-01-31 00:05:00</th>\n",
       "      <td>NaN</td>\n",
       "      <td>NaN</td>\n",
       "      <td>NaN</td>\n",
       "      <td>NaN</td>\n",
       "    </tr>\n",
       "    <tr>\n",
       "      <th>2011-01-31 00:10:00</th>\n",
       "      <td>NaN</td>\n",
       "      <td>NaN</td>\n",
       "      <td>NaN</td>\n",
       "      <td>NaN</td>\n",
       "    </tr>\n",
       "    <tr>\n",
       "      <th>2011-01-31 00:15:00</th>\n",
       "      <td>NaN</td>\n",
       "      <td>NaN</td>\n",
       "      <td>NaN</td>\n",
       "      <td>NaN</td>\n",
       "    </tr>\n",
       "    <tr>\n",
       "      <th>2011-01-31 00:20:00</th>\n",
       "      <td>NaN</td>\n",
       "      <td>NaN</td>\n",
       "      <td>NaN</td>\n",
       "      <td>NaN</td>\n",
       "    </tr>\n",
       "    <tr>\n",
       "      <th>2011-01-31 00:25:00</th>\n",
       "      <td>NaN</td>\n",
       "      <td>NaN</td>\n",
       "      <td>NaN</td>\n",
       "      <td>NaN</td>\n",
       "    </tr>\n",
       "    <tr>\n",
       "      <th>2011-01-31 00:30:00</th>\n",
       "      <td>NaN</td>\n",
       "      <td>NaN</td>\n",
       "      <td>NaN</td>\n",
       "      <td>NaN</td>\n",
       "    </tr>\n",
       "    <tr>\n",
       "      <th>2011-01-31 00:35:00</th>\n",
       "      <td>NaN</td>\n",
       "      <td>NaN</td>\n",
       "      <td>NaN</td>\n",
       "      <td>NaN</td>\n",
       "    </tr>\n",
       "    <tr>\n",
       "      <th>2011-01-31 00:40:00</th>\n",
       "      <td>NaN</td>\n",
       "      <td>NaN</td>\n",
       "      <td>NaN</td>\n",
       "      <td>NaN</td>\n",
       "    </tr>\n",
       "    <tr>\n",
       "      <th>2011-01-31 00:45:00</th>\n",
       "      <td>NaN</td>\n",
       "      <td>NaN</td>\n",
       "      <td>NaN</td>\n",
       "      <td>NaN</td>\n",
       "    </tr>\n",
       "    <tr>\n",
       "      <th>2011-01-31 00:50:00</th>\n",
       "      <td>NaN</td>\n",
       "      <td>NaN</td>\n",
       "      <td>NaN</td>\n",
       "      <td>NaN</td>\n",
       "    </tr>\n",
       "    <tr>\n",
       "      <th>2011-01-31 00:55:00</th>\n",
       "      <td>NaN</td>\n",
       "      <td>NaN</td>\n",
       "      <td>NaN</td>\n",
       "      <td>NaN</td>\n",
       "    </tr>\n",
       "    <tr>\n",
       "      <th>2011-01-31 01:00:00</th>\n",
       "      <td>NaN</td>\n",
       "      <td>NaN</td>\n",
       "      <td>NaN</td>\n",
       "      <td>NaN</td>\n",
       "    </tr>\n",
       "    <tr>\n",
       "      <th>2011-01-31 01:05:00</th>\n",
       "      <td>NaN</td>\n",
       "      <td>NaN</td>\n",
       "      <td>NaN</td>\n",
       "      <td>NaN</td>\n",
       "    </tr>\n",
       "    <tr>\n",
       "      <th>2011-01-31 01:10:00</th>\n",
       "      <td>NaN</td>\n",
       "      <td>NaN</td>\n",
       "      <td>NaN</td>\n",
       "      <td>NaN</td>\n",
       "    </tr>\n",
       "    <tr>\n",
       "      <th>2011-01-31 01:15:00</th>\n",
       "      <td>NaN</td>\n",
       "      <td>NaN</td>\n",
       "      <td>NaN</td>\n",
       "      <td>NaN</td>\n",
       "    </tr>\n",
       "    <tr>\n",
       "      <th>2011-01-31 01:20:00</th>\n",
       "      <td>NaN</td>\n",
       "      <td>NaN</td>\n",
       "      <td>NaN</td>\n",
       "      <td>NaN</td>\n",
       "    </tr>\n",
       "    <tr>\n",
       "      <th>2011-01-31 01:25:00</th>\n",
       "      <td>NaN</td>\n",
       "      <td>NaN</td>\n",
       "      <td>NaN</td>\n",
       "      <td>NaN</td>\n",
       "    </tr>\n",
       "    <tr>\n",
       "      <th>2011-01-31 01:30:00</th>\n",
       "      <td>NaN</td>\n",
       "      <td>NaN</td>\n",
       "      <td>NaN</td>\n",
       "      <td>NaN</td>\n",
       "    </tr>\n",
       "    <tr>\n",
       "      <th>2011-01-31 01:35:00</th>\n",
       "      <td>NaN</td>\n",
       "      <td>NaN</td>\n",
       "      <td>NaN</td>\n",
       "      <td>NaN</td>\n",
       "    </tr>\n",
       "    <tr>\n",
       "      <th>2011-01-31 01:40:00</th>\n",
       "      <td>NaN</td>\n",
       "      <td>NaN</td>\n",
       "      <td>NaN</td>\n",
       "      <td>NaN</td>\n",
       "    </tr>\n",
       "    <tr>\n",
       "      <th>2011-01-31 01:45:00</th>\n",
       "      <td>NaN</td>\n",
       "      <td>NaN</td>\n",
       "      <td>NaN</td>\n",
       "      <td>NaN</td>\n",
       "    </tr>\n",
       "    <tr>\n",
       "      <th>2011-01-31 01:50:00</th>\n",
       "      <td>NaN</td>\n",
       "      <td>NaN</td>\n",
       "      <td>NaN</td>\n",
       "      <td>NaN</td>\n",
       "    </tr>\n",
       "    <tr>\n",
       "      <th>2011-01-31 01:55:00</th>\n",
       "      <td>NaN</td>\n",
       "      <td>NaN</td>\n",
       "      <td>NaN</td>\n",
       "      <td>NaN</td>\n",
       "    </tr>\n",
       "    <tr>\n",
       "      <th>2011-01-31 02:00:00</th>\n",
       "      <td>NaN</td>\n",
       "      <td>NaN</td>\n",
       "      <td>NaN</td>\n",
       "      <td>NaN</td>\n",
       "    </tr>\n",
       "    <tr>\n",
       "      <th>2011-01-31 02:05:00</th>\n",
       "      <td>NaN</td>\n",
       "      <td>NaN</td>\n",
       "      <td>NaN</td>\n",
       "      <td>NaN</td>\n",
       "    </tr>\n",
       "    <tr>\n",
       "      <th>2011-01-31 02:10:00</th>\n",
       "      <td>NaN</td>\n",
       "      <td>NaN</td>\n",
       "      <td>NaN</td>\n",
       "      <td>NaN</td>\n",
       "    </tr>\n",
       "    <tr>\n",
       "      <th>2011-01-31 02:15:00</th>\n",
       "      <td>NaN</td>\n",
       "      <td>NaN</td>\n",
       "      <td>NaN</td>\n",
       "      <td>NaN</td>\n",
       "    </tr>\n",
       "    <tr>\n",
       "      <th>2011-01-31 02:20:00</th>\n",
       "      <td>NaN</td>\n",
       "      <td>NaN</td>\n",
       "      <td>NaN</td>\n",
       "      <td>NaN</td>\n",
       "    </tr>\n",
       "    <tr>\n",
       "      <th>2011-01-31 02:25:00</th>\n",
       "      <td>NaN</td>\n",
       "      <td>NaN</td>\n",
       "      <td>NaN</td>\n",
       "      <td>NaN</td>\n",
       "    </tr>\n",
       "    <tr>\n",
       "      <th>...</th>\n",
       "      <td>...</td>\n",
       "      <td>...</td>\n",
       "      <td>...</td>\n",
       "      <td>...</td>\n",
       "    </tr>\n",
       "    <tr>\n",
       "      <th>2011-12-29 21:35:00</th>\n",
       "      <td>NaN</td>\n",
       "      <td>NaN</td>\n",
       "      <td>NaN</td>\n",
       "      <td>NaN</td>\n",
       "    </tr>\n",
       "    <tr>\n",
       "      <th>2011-12-29 21:40:00</th>\n",
       "      <td>NaN</td>\n",
       "      <td>NaN</td>\n",
       "      <td>NaN</td>\n",
       "      <td>NaN</td>\n",
       "    </tr>\n",
       "    <tr>\n",
       "      <th>2011-12-29 21:45:00</th>\n",
       "      <td>NaN</td>\n",
       "      <td>NaN</td>\n",
       "      <td>NaN</td>\n",
       "      <td>NaN</td>\n",
       "    </tr>\n",
       "    <tr>\n",
       "      <th>2011-12-29 21:50:00</th>\n",
       "      <td>NaN</td>\n",
       "      <td>NaN</td>\n",
       "      <td>NaN</td>\n",
       "      <td>NaN</td>\n",
       "    </tr>\n",
       "    <tr>\n",
       "      <th>2011-12-29 21:55:00</th>\n",
       "      <td>NaN</td>\n",
       "      <td>NaN</td>\n",
       "      <td>NaN</td>\n",
       "      <td>NaN</td>\n",
       "    </tr>\n",
       "    <tr>\n",
       "      <th>2011-12-29 22:00:00</th>\n",
       "      <td>NaN</td>\n",
       "      <td>NaN</td>\n",
       "      <td>NaN</td>\n",
       "      <td>NaN</td>\n",
       "    </tr>\n",
       "    <tr>\n",
       "      <th>2011-12-29 22:05:00</th>\n",
       "      <td>NaN</td>\n",
       "      <td>NaN</td>\n",
       "      <td>NaN</td>\n",
       "      <td>NaN</td>\n",
       "    </tr>\n",
       "    <tr>\n",
       "      <th>2011-12-29 22:10:00</th>\n",
       "      <td>NaN</td>\n",
       "      <td>NaN</td>\n",
       "      <td>NaN</td>\n",
       "      <td>NaN</td>\n",
       "    </tr>\n",
       "    <tr>\n",
       "      <th>2011-12-29 22:15:00</th>\n",
       "      <td>NaN</td>\n",
       "      <td>NaN</td>\n",
       "      <td>NaN</td>\n",
       "      <td>NaN</td>\n",
       "    </tr>\n",
       "    <tr>\n",
       "      <th>2011-12-29 22:20:00</th>\n",
       "      <td>NaN</td>\n",
       "      <td>NaN</td>\n",
       "      <td>NaN</td>\n",
       "      <td>NaN</td>\n",
       "    </tr>\n",
       "    <tr>\n",
       "      <th>2011-12-29 22:25:00</th>\n",
       "      <td>NaN</td>\n",
       "      <td>NaN</td>\n",
       "      <td>NaN</td>\n",
       "      <td>NaN</td>\n",
       "    </tr>\n",
       "    <tr>\n",
       "      <th>2011-12-29 22:30:00</th>\n",
       "      <td>NaN</td>\n",
       "      <td>NaN</td>\n",
       "      <td>NaN</td>\n",
       "      <td>NaN</td>\n",
       "    </tr>\n",
       "    <tr>\n",
       "      <th>2011-12-29 22:35:00</th>\n",
       "      <td>NaN</td>\n",
       "      <td>NaN</td>\n",
       "      <td>NaN</td>\n",
       "      <td>NaN</td>\n",
       "    </tr>\n",
       "    <tr>\n",
       "      <th>2011-12-29 22:40:00</th>\n",
       "      <td>NaN</td>\n",
       "      <td>NaN</td>\n",
       "      <td>NaN</td>\n",
       "      <td>NaN</td>\n",
       "    </tr>\n",
       "    <tr>\n",
       "      <th>2011-12-29 22:45:00</th>\n",
       "      <td>NaN</td>\n",
       "      <td>NaN</td>\n",
       "      <td>NaN</td>\n",
       "      <td>NaN</td>\n",
       "    </tr>\n",
       "    <tr>\n",
       "      <th>2011-12-29 22:50:00</th>\n",
       "      <td>NaN</td>\n",
       "      <td>NaN</td>\n",
       "      <td>NaN</td>\n",
       "      <td>NaN</td>\n",
       "    </tr>\n",
       "    <tr>\n",
       "      <th>2011-12-29 22:55:00</th>\n",
       "      <td>NaN</td>\n",
       "      <td>NaN</td>\n",
       "      <td>NaN</td>\n",
       "      <td>NaN</td>\n",
       "    </tr>\n",
       "    <tr>\n",
       "      <th>2011-12-29 23:00:00</th>\n",
       "      <td>NaN</td>\n",
       "      <td>NaN</td>\n",
       "      <td>NaN</td>\n",
       "      <td>NaN</td>\n",
       "    </tr>\n",
       "    <tr>\n",
       "      <th>2011-12-29 23:05:00</th>\n",
       "      <td>NaN</td>\n",
       "      <td>NaN</td>\n",
       "      <td>NaN</td>\n",
       "      <td>NaN</td>\n",
       "    </tr>\n",
       "    <tr>\n",
       "      <th>2011-12-29 23:10:00</th>\n",
       "      <td>NaN</td>\n",
       "      <td>NaN</td>\n",
       "      <td>NaN</td>\n",
       "      <td>NaN</td>\n",
       "    </tr>\n",
       "    <tr>\n",
       "      <th>2011-12-29 23:15:00</th>\n",
       "      <td>NaN</td>\n",
       "      <td>NaN</td>\n",
       "      <td>NaN</td>\n",
       "      <td>NaN</td>\n",
       "    </tr>\n",
       "    <tr>\n",
       "      <th>2011-12-29 23:20:00</th>\n",
       "      <td>NaN</td>\n",
       "      <td>NaN</td>\n",
       "      <td>NaN</td>\n",
       "      <td>NaN</td>\n",
       "    </tr>\n",
       "    <tr>\n",
       "      <th>2011-12-29 23:25:00</th>\n",
       "      <td>NaN</td>\n",
       "      <td>NaN</td>\n",
       "      <td>NaN</td>\n",
       "      <td>NaN</td>\n",
       "    </tr>\n",
       "    <tr>\n",
       "      <th>2011-12-29 23:30:00</th>\n",
       "      <td>NaN</td>\n",
       "      <td>NaN</td>\n",
       "      <td>NaN</td>\n",
       "      <td>NaN</td>\n",
       "    </tr>\n",
       "    <tr>\n",
       "      <th>2011-12-29 23:35:00</th>\n",
       "      <td>NaN</td>\n",
       "      <td>NaN</td>\n",
       "      <td>NaN</td>\n",
       "      <td>NaN</td>\n",
       "    </tr>\n",
       "    <tr>\n",
       "      <th>2011-12-29 23:40:00</th>\n",
       "      <td>NaN</td>\n",
       "      <td>NaN</td>\n",
       "      <td>NaN</td>\n",
       "      <td>NaN</td>\n",
       "    </tr>\n",
       "    <tr>\n",
       "      <th>2011-12-29 23:45:00</th>\n",
       "      <td>NaN</td>\n",
       "      <td>NaN</td>\n",
       "      <td>NaN</td>\n",
       "      <td>NaN</td>\n",
       "    </tr>\n",
       "    <tr>\n",
       "      <th>2011-12-29 23:50:00</th>\n",
       "      <td>NaN</td>\n",
       "      <td>NaN</td>\n",
       "      <td>NaN</td>\n",
       "      <td>NaN</td>\n",
       "    </tr>\n",
       "    <tr>\n",
       "      <th>2011-12-29 23:55:00</th>\n",
       "      <td>NaN</td>\n",
       "      <td>NaN</td>\n",
       "      <td>NaN</td>\n",
       "      <td>NaN</td>\n",
       "    </tr>\n",
       "    <tr>\n",
       "      <th>2011-12-30 00:00:00</th>\n",
       "      <td>0.407352</td>\n",
       "      <td>0.407352</td>\n",
       "      <td>0.407352</td>\n",
       "      <td>0.407352</td>\n",
       "    </tr>\n",
       "  </tbody>\n",
       "</table>\n",
       "<p>95905 rows × 4 columns</p>\n",
       "</div>"
      ],
      "text/plain": [
       "                         open      high       low     close\n",
       "2011-01-31 00:00:00  0.001199  0.001199  0.001199  0.001199\n",
       "2011-01-31 00:05:00       NaN       NaN       NaN       NaN\n",
       "2011-01-31 00:10:00       NaN       NaN       NaN       NaN\n",
       "2011-01-31 00:15:00       NaN       NaN       NaN       NaN\n",
       "2011-01-31 00:20:00       NaN       NaN       NaN       NaN\n",
       "2011-01-31 00:25:00       NaN       NaN       NaN       NaN\n",
       "2011-01-31 00:30:00       NaN       NaN       NaN       NaN\n",
       "2011-01-31 00:35:00       NaN       NaN       NaN       NaN\n",
       "2011-01-31 00:40:00       NaN       NaN       NaN       NaN\n",
       "2011-01-31 00:45:00       NaN       NaN       NaN       NaN\n",
       "2011-01-31 00:50:00       NaN       NaN       NaN       NaN\n",
       "2011-01-31 00:55:00       NaN       NaN       NaN       NaN\n",
       "2011-01-31 01:00:00       NaN       NaN       NaN       NaN\n",
       "2011-01-31 01:05:00       NaN       NaN       NaN       NaN\n",
       "2011-01-31 01:10:00       NaN       NaN       NaN       NaN\n",
       "2011-01-31 01:15:00       NaN       NaN       NaN       NaN\n",
       "2011-01-31 01:20:00       NaN       NaN       NaN       NaN\n",
       "2011-01-31 01:25:00       NaN       NaN       NaN       NaN\n",
       "2011-01-31 01:30:00       NaN       NaN       NaN       NaN\n",
       "2011-01-31 01:35:00       NaN       NaN       NaN       NaN\n",
       "2011-01-31 01:40:00       NaN       NaN       NaN       NaN\n",
       "2011-01-31 01:45:00       NaN       NaN       NaN       NaN\n",
       "2011-01-31 01:50:00       NaN       NaN       NaN       NaN\n",
       "2011-01-31 01:55:00       NaN       NaN       NaN       NaN\n",
       "2011-01-31 02:00:00       NaN       NaN       NaN       NaN\n",
       "2011-01-31 02:05:00       NaN       NaN       NaN       NaN\n",
       "2011-01-31 02:10:00       NaN       NaN       NaN       NaN\n",
       "2011-01-31 02:15:00       NaN       NaN       NaN       NaN\n",
       "2011-01-31 02:20:00       NaN       NaN       NaN       NaN\n",
       "2011-01-31 02:25:00       NaN       NaN       NaN       NaN\n",
       "...                       ...       ...       ...       ...\n",
       "2011-12-29 21:35:00       NaN       NaN       NaN       NaN\n",
       "2011-12-29 21:40:00       NaN       NaN       NaN       NaN\n",
       "2011-12-29 21:45:00       NaN       NaN       NaN       NaN\n",
       "2011-12-29 21:50:00       NaN       NaN       NaN       NaN\n",
       "2011-12-29 21:55:00       NaN       NaN       NaN       NaN\n",
       "2011-12-29 22:00:00       NaN       NaN       NaN       NaN\n",
       "2011-12-29 22:05:00       NaN       NaN       NaN       NaN\n",
       "2011-12-29 22:10:00       NaN       NaN       NaN       NaN\n",
       "2011-12-29 22:15:00       NaN       NaN       NaN       NaN\n",
       "2011-12-29 22:20:00       NaN       NaN       NaN       NaN\n",
       "2011-12-29 22:25:00       NaN       NaN       NaN       NaN\n",
       "2011-12-29 22:30:00       NaN       NaN       NaN       NaN\n",
       "2011-12-29 22:35:00       NaN       NaN       NaN       NaN\n",
       "2011-12-29 22:40:00       NaN       NaN       NaN       NaN\n",
       "2011-12-29 22:45:00       NaN       NaN       NaN       NaN\n",
       "2011-12-29 22:50:00       NaN       NaN       NaN       NaN\n",
       "2011-12-29 22:55:00       NaN       NaN       NaN       NaN\n",
       "2011-12-29 23:00:00       NaN       NaN       NaN       NaN\n",
       "2011-12-29 23:05:00       NaN       NaN       NaN       NaN\n",
       "2011-12-29 23:10:00       NaN       NaN       NaN       NaN\n",
       "2011-12-29 23:15:00       NaN       NaN       NaN       NaN\n",
       "2011-12-29 23:20:00       NaN       NaN       NaN       NaN\n",
       "2011-12-29 23:25:00       NaN       NaN       NaN       NaN\n",
       "2011-12-29 23:30:00       NaN       NaN       NaN       NaN\n",
       "2011-12-29 23:35:00       NaN       NaN       NaN       NaN\n",
       "2011-12-29 23:40:00       NaN       NaN       NaN       NaN\n",
       "2011-12-29 23:45:00       NaN       NaN       NaN       NaN\n",
       "2011-12-29 23:50:00       NaN       NaN       NaN       NaN\n",
       "2011-12-29 23:55:00       NaN       NaN       NaN       NaN\n",
       "2011-12-30 00:00:00  0.407352  0.407352  0.407352  0.407352\n",
       "\n",
       "[95905 rows x 4 columns]"
      ]
     },
     "execution_count": 51,
     "metadata": {},
     "output_type": "execute_result"
    }
   ],
   "source": [
    "ts.resample('5Min').ohlc()#开盘、高、低、收盘"
   ]
  },
  {
   "cell_type": "markdown",
   "metadata": {},
   "source": [
    "## 上采样"
   ]
  },
  {
   "cell_type": "code",
   "execution_count": 54,
   "metadata": {
    "collapsed": false
   },
   "outputs": [
    {
     "data": {
      "text/plain": [
       "2011-01-31    0.001199\n",
       "2011-02-28    0.297901\n",
       "Freq: BM, dtype: float64"
      ]
     },
     "execution_count": 54,
     "metadata": {},
     "output_type": "execute_result"
    }
   ],
   "source": [
    "ts[:2]"
   ]
  },
  {
   "cell_type": "code",
   "execution_count": 52,
   "metadata": {
    "collapsed": true
   },
   "outputs": [
    {
     "data": {
      "text/plain": [
       "2011-01-31 00:00:00.000    0.001199\n",
       "2011-01-31 00:00:00.250         NaN\n",
       "2011-01-31 00:00:00.500         NaN\n",
       "2011-01-31 00:00:00.750         NaN\n",
       "2011-01-31 00:00:01.000         NaN\n",
       "2011-01-31 00:00:01.250         NaN\n",
       "2011-01-31 00:00:01.500         NaN\n",
       "2011-01-31 00:00:01.750         NaN\n",
       "2011-01-31 00:00:02.000         NaN\n",
       "2011-01-31 00:00:02.250         NaN\n",
       "2011-01-31 00:00:02.500         NaN\n",
       "2011-01-31 00:00:02.750         NaN\n",
       "2011-01-31 00:00:03.000         NaN\n",
       "2011-01-31 00:00:03.250         NaN\n",
       "2011-01-31 00:00:03.500         NaN\n",
       "2011-01-31 00:00:03.750         NaN\n",
       "2011-01-31 00:00:04.000         NaN\n",
       "2011-01-31 00:00:04.250         NaN\n",
       "2011-01-31 00:00:04.500         NaN\n",
       "2011-01-31 00:00:04.750         NaN\n",
       "2011-01-31 00:00:05.000         NaN\n",
       "2011-01-31 00:00:05.250         NaN\n",
       "2011-01-31 00:00:05.500         NaN\n",
       "2011-01-31 00:00:05.750         NaN\n",
       "2011-01-31 00:00:06.000         NaN\n",
       "2011-01-31 00:00:06.250         NaN\n",
       "2011-01-31 00:00:06.500         NaN\n",
       "2011-01-31 00:00:06.750         NaN\n",
       "2011-01-31 00:00:07.000         NaN\n",
       "2011-01-31 00:00:07.250         NaN\n",
       "                             ...   \n",
       "2011-02-27 23:59:52.750         NaN\n",
       "2011-02-27 23:59:53.000         NaN\n",
       "2011-02-27 23:59:53.250         NaN\n",
       "2011-02-27 23:59:53.500         NaN\n",
       "2011-02-27 23:59:53.750         NaN\n",
       "2011-02-27 23:59:54.000         NaN\n",
       "2011-02-27 23:59:54.250         NaN\n",
       "2011-02-27 23:59:54.500         NaN\n",
       "2011-02-27 23:59:54.750         NaN\n",
       "2011-02-27 23:59:55.000         NaN\n",
       "2011-02-27 23:59:55.250         NaN\n",
       "2011-02-27 23:59:55.500         NaN\n",
       "2011-02-27 23:59:55.750         NaN\n",
       "2011-02-27 23:59:56.000         NaN\n",
       "2011-02-27 23:59:56.250         NaN\n",
       "2011-02-27 23:59:56.500         NaN\n",
       "2011-02-27 23:59:56.750         NaN\n",
       "2011-02-27 23:59:57.000         NaN\n",
       "2011-02-27 23:59:57.250         NaN\n",
       "2011-02-27 23:59:57.500         NaN\n",
       "2011-02-27 23:59:57.750         NaN\n",
       "2011-02-27 23:59:58.000         NaN\n",
       "2011-02-27 23:59:58.250         NaN\n",
       "2011-02-27 23:59:58.500         NaN\n",
       "2011-02-27 23:59:58.750         NaN\n",
       "2011-02-27 23:59:59.000         NaN\n",
       "2011-02-27 23:59:59.250         NaN\n",
       "2011-02-27 23:59:59.500         NaN\n",
       "2011-02-27 23:59:59.750         NaN\n",
       "2011-02-28 00:00:00.000    0.297901\n",
       "Freq: 250L, dtype: float64"
      ]
     },
     "execution_count": 52,
     "metadata": {},
     "output_type": "execute_result"
    }
   ],
   "source": [
    "ts[:2].resample('250L').asfreq()# from secondly to every 250 milliseconds"
   ]
  },
  {
   "cell_type": "code",
   "execution_count": 53,
   "metadata": {
    "collapsed": true
   },
   "outputs": [
    {
     "data": {
      "text/plain": [
       "2011-01-31 00:00:00.000    0.001199\n",
       "2011-01-31 00:00:00.250    0.001199\n",
       "2011-01-31 00:00:00.500    0.001199\n",
       "2011-01-31 00:00:00.750    0.001199\n",
       "2011-01-31 00:00:01.000    0.001199\n",
       "2011-01-31 00:00:01.250    0.001199\n",
       "2011-01-31 00:00:01.500    0.001199\n",
       "2011-01-31 00:00:01.750    0.001199\n",
       "2011-01-31 00:00:02.000    0.001199\n",
       "2011-01-31 00:00:02.250    0.001199\n",
       "2011-01-31 00:00:02.500    0.001199\n",
       "2011-01-31 00:00:02.750    0.001199\n",
       "2011-01-31 00:00:03.000    0.001199\n",
       "2011-01-31 00:00:03.250    0.001199\n",
       "2011-01-31 00:00:03.500    0.001199\n",
       "2011-01-31 00:00:03.750    0.001199\n",
       "2011-01-31 00:00:04.000    0.001199\n",
       "2011-01-31 00:00:04.250    0.001199\n",
       "2011-01-31 00:00:04.500    0.001199\n",
       "2011-01-31 00:00:04.750    0.001199\n",
       "2011-01-31 00:00:05.000    0.001199\n",
       "2011-01-31 00:00:05.250    0.001199\n",
       "2011-01-31 00:00:05.500    0.001199\n",
       "2011-01-31 00:00:05.750    0.001199\n",
       "2011-01-31 00:00:06.000    0.001199\n",
       "2011-01-31 00:00:06.250    0.001199\n",
       "2011-01-31 00:00:06.500    0.001199\n",
       "2011-01-31 00:00:06.750    0.001199\n",
       "2011-01-31 00:00:07.000    0.001199\n",
       "2011-01-31 00:00:07.250    0.001199\n",
       "                             ...   \n",
       "2011-02-27 23:59:52.750    0.001199\n",
       "2011-02-27 23:59:53.000    0.001199\n",
       "2011-02-27 23:59:53.250    0.001199\n",
       "2011-02-27 23:59:53.500    0.001199\n",
       "2011-02-27 23:59:53.750    0.001199\n",
       "2011-02-27 23:59:54.000    0.001199\n",
       "2011-02-27 23:59:54.250    0.001199\n",
       "2011-02-27 23:59:54.500    0.001199\n",
       "2011-02-27 23:59:54.750    0.001199\n",
       "2011-02-27 23:59:55.000    0.001199\n",
       "2011-02-27 23:59:55.250    0.001199\n",
       "2011-02-27 23:59:55.500    0.001199\n",
       "2011-02-27 23:59:55.750    0.001199\n",
       "2011-02-27 23:59:56.000    0.001199\n",
       "2011-02-27 23:59:56.250    0.001199\n",
       "2011-02-27 23:59:56.500    0.001199\n",
       "2011-02-27 23:59:56.750    0.001199\n",
       "2011-02-27 23:59:57.000    0.001199\n",
       "2011-02-27 23:59:57.250    0.001199\n",
       "2011-02-27 23:59:57.500    0.001199\n",
       "2011-02-27 23:59:57.750    0.001199\n",
       "2011-02-27 23:59:58.000    0.001199\n",
       "2011-02-27 23:59:58.250    0.001199\n",
       "2011-02-27 23:59:58.500    0.001199\n",
       "2011-02-27 23:59:58.750    0.001199\n",
       "2011-02-27 23:59:59.000    0.001199\n",
       "2011-02-27 23:59:59.250    0.001199\n",
       "2011-02-27 23:59:59.500    0.001199\n",
       "2011-02-27 23:59:59.750    0.001199\n",
       "2011-02-28 00:00:00.000    0.297901\n",
       "Freq: 250L, dtype: float64"
      ]
     },
     "execution_count": 53,
     "metadata": {},
     "output_type": "execute_result"
    }
   ],
   "source": [
    "ts[:2].resample('250L').ffill(limit=2)"
   ]
  },
  {
   "cell_type": "markdown",
   "metadata": {},
   "source": [
    "## 稀疏抽样"
   ]
  },
  {
   "cell_type": "code",
   "execution_count": 55,
   "metadata": {
    "collapsed": false
   },
   "outputs": [
    {
     "data": {
      "text/plain": [
       "2014-01-01 00:00:00     0.0\n",
       "2014-01-01 00:03:00     NaN\n",
       "2014-01-01 00:06:00     NaN\n",
       "2014-01-01 00:09:00     NaN\n",
       "2014-01-01 00:12:00     NaN\n",
       "2014-01-01 00:15:00     NaN\n",
       "2014-01-01 00:18:00     NaN\n",
       "2014-01-01 00:21:00     NaN\n",
       "2014-01-01 00:24:00     NaN\n",
       "2014-01-01 00:27:00     NaN\n",
       "2014-01-01 00:30:00     NaN\n",
       "2014-01-01 00:33:00     NaN\n",
       "2014-01-01 00:36:00     NaN\n",
       "2014-01-01 00:39:00     NaN\n",
       "2014-01-01 00:42:00     NaN\n",
       "2014-01-01 00:45:00     NaN\n",
       "2014-01-01 00:48:00     NaN\n",
       "2014-01-01 00:51:00     NaN\n",
       "2014-01-01 00:54:00     NaN\n",
       "2014-01-01 00:57:00     NaN\n",
       "2014-01-01 01:00:00     NaN\n",
       "2014-01-01 01:03:00     NaN\n",
       "2014-01-01 01:06:00     NaN\n",
       "2014-01-01 01:09:00     NaN\n",
       "2014-01-01 01:12:00     NaN\n",
       "2014-01-01 01:15:00     NaN\n",
       "2014-01-01 01:18:00     NaN\n",
       "2014-01-01 01:21:00     NaN\n",
       "2014-01-01 01:24:00     NaN\n",
       "2014-01-01 01:27:00     NaN\n",
       "                       ... \n",
       "2014-04-09 22:33:00     NaN\n",
       "2014-04-09 22:36:00     NaN\n",
       "2014-04-09 22:39:00     NaN\n",
       "2014-04-09 22:42:00     NaN\n",
       "2014-04-09 22:45:00     NaN\n",
       "2014-04-09 22:48:00     NaN\n",
       "2014-04-09 22:51:00     NaN\n",
       "2014-04-09 22:54:00     NaN\n",
       "2014-04-09 22:57:00     NaN\n",
       "2014-04-09 23:00:00     NaN\n",
       "2014-04-09 23:03:00     NaN\n",
       "2014-04-09 23:06:00     NaN\n",
       "2014-04-09 23:09:00     NaN\n",
       "2014-04-09 23:12:00     NaN\n",
       "2014-04-09 23:15:00     NaN\n",
       "2014-04-09 23:18:00     NaN\n",
       "2014-04-09 23:21:00     NaN\n",
       "2014-04-09 23:24:00     NaN\n",
       "2014-04-09 23:27:00     NaN\n",
       "2014-04-09 23:30:00     NaN\n",
       "2014-04-09 23:33:00     NaN\n",
       "2014-04-09 23:36:00     NaN\n",
       "2014-04-09 23:39:00     NaN\n",
       "2014-04-09 23:42:00     NaN\n",
       "2014-04-09 23:45:00     NaN\n",
       "2014-04-09 23:48:00     NaN\n",
       "2014-04-09 23:51:00     NaN\n",
       "2014-04-09 23:54:00     NaN\n",
       "2014-04-09 23:57:00     NaN\n",
       "2014-04-10 00:00:00    99.0\n",
       "Freq: 3T, dtype: float64"
      ]
     },
     "execution_count": 55,
     "metadata": {},
     "output_type": "execute_result"
    }
   ],
   "source": [
    "rng = pd.date_range('2014-1-1', periods=100, freq='D') + pd.Timedelta('1s')\n",
    "ts = pd.Series(range(100), index=rng)\n",
    "ts.resample('3T').sum()"
   ]
  },
  {
   "cell_type": "code",
   "execution_count": 57,
   "metadata": {
    "collapsed": true
   },
   "outputs": [
    {
     "data": {
      "text/plain": [
       "2014-01-01     0\n",
       "2014-01-02     1\n",
       "2014-01-03     2\n",
       "2014-01-04     3\n",
       "2014-01-05     4\n",
       "2014-01-06     5\n",
       "2014-01-07     6\n",
       "2014-01-08     7\n",
       "2014-01-09     8\n",
       "2014-01-10     9\n",
       "2014-01-11    10\n",
       "2014-01-12    11\n",
       "2014-01-13    12\n",
       "2014-01-14    13\n",
       "2014-01-15    14\n",
       "2014-01-16    15\n",
       "2014-01-17    16\n",
       "2014-01-18    17\n",
       "2014-01-19    18\n",
       "2014-01-20    19\n",
       "2014-01-21    20\n",
       "2014-01-22    21\n",
       "2014-01-23    22\n",
       "2014-01-24    23\n",
       "2014-01-25    24\n",
       "2014-01-26    25\n",
       "2014-01-27    26\n",
       "2014-01-28    27\n",
       "2014-01-29    28\n",
       "2014-01-30    29\n",
       "              ..\n",
       "2014-03-12    70\n",
       "2014-03-13    71\n",
       "2014-03-14    72\n",
       "2014-03-15    73\n",
       "2014-03-16    74\n",
       "2014-03-17    75\n",
       "2014-03-18    76\n",
       "2014-03-19    77\n",
       "2014-03-20    78\n",
       "2014-03-21    79\n",
       "2014-03-22    80\n",
       "2014-03-23    81\n",
       "2014-03-24    82\n",
       "2014-03-25    83\n",
       "2014-03-26    84\n",
       "2014-03-27    85\n",
       "2014-03-28    86\n",
       "2014-03-29    87\n",
       "2014-03-30    88\n",
       "2014-03-31    89\n",
       "2014-04-01    90\n",
       "2014-04-02    91\n",
       "2014-04-03    92\n",
       "2014-04-04    93\n",
       "2014-04-05    94\n",
       "2014-04-06    95\n",
       "2014-04-07    96\n",
       "2014-04-08    97\n",
       "2014-04-09    98\n",
       "2014-04-10    99\n",
       "dtype: int64"
      ]
     },
     "execution_count": 57,
     "metadata": {},
     "output_type": "execute_result"
    }
   ],
   "source": [
    "from functools import partial\n",
    "from pandas.tseries.frequencies import to_offset\n",
    "def round(t, freq):\n",
    "    freq = to_offset(freq)\n",
    "    return pd.Timestamp((t.value//freq.delta.value)*freq.delta.value)\n",
    "ts.groupby(partial(round, freq='3T')).sum()"
   ]
  },
  {
   "cell_type": "code",
   "execution_count": 58,
   "metadata": {
    "collapsed": false,
    "scrolled": true
   },
   "outputs": [
    {
     "data": {
      "text/html": [
       "<div>\n",
       "<table border=\"1\" class=\"dataframe\">\n",
       "  <thead>\n",
       "    <tr style=\"text-align: right;\">\n",
       "      <th></th>\n",
       "      <th>A</th>\n",
       "      <th>B</th>\n",
       "      <th>C</th>\n",
       "    </tr>\n",
       "  </thead>\n",
       "  <tbody>\n",
       "    <tr>\n",
       "      <th>2012-01-01 00:00:00</th>\n",
       "      <td>-0.088428</td>\n",
       "      <td>-0.071741</td>\n",
       "      <td>0.027449</td>\n",
       "    </tr>\n",
       "    <tr>\n",
       "      <th>2012-01-01 00:03:00</th>\n",
       "      <td>0.003197</td>\n",
       "      <td>0.087279</td>\n",
       "      <td>-0.033199</td>\n",
       "    </tr>\n",
       "    <tr>\n",
       "      <th>2012-01-01 00:06:00</th>\n",
       "      <td>0.094311</td>\n",
       "      <td>0.089504</td>\n",
       "      <td>-0.076706</td>\n",
       "    </tr>\n",
       "    <tr>\n",
       "      <th>2012-01-01 00:09:00</th>\n",
       "      <td>0.035126</td>\n",
       "      <td>-0.042229</td>\n",
       "      <td>0.033392</td>\n",
       "    </tr>\n",
       "    <tr>\n",
       "      <th>2012-01-01 00:12:00</th>\n",
       "      <td>0.069101</td>\n",
       "      <td>-0.017610</td>\n",
       "      <td>-0.064334</td>\n",
       "    </tr>\n",
       "    <tr>\n",
       "      <th>2012-01-01 00:15:00</th>\n",
       "      <td>-0.038412</td>\n",
       "      <td>0.001196</td>\n",
       "      <td>0.037340</td>\n",
       "    </tr>\n",
       "  </tbody>\n",
       "</table>\n",
       "</div>"
      ],
      "text/plain": [
       "                            A         B         C\n",
       "2012-01-01 00:00:00 -0.088428 -0.071741  0.027449\n",
       "2012-01-01 00:03:00  0.003197  0.087279 -0.033199\n",
       "2012-01-01 00:06:00  0.094311  0.089504 -0.076706\n",
       "2012-01-01 00:09:00  0.035126 -0.042229  0.033392\n",
       "2012-01-01 00:12:00  0.069101 -0.017610 -0.064334\n",
       "2012-01-01 00:15:00 -0.038412  0.001196  0.037340"
      ]
     },
     "execution_count": 58,
     "metadata": {},
     "output_type": "execute_result"
    }
   ],
   "source": [
    "df = pd.DataFrame(np.random.randn(1000, 3),\n",
    "                 index = pd.date_range('1/1/2012', freq='S', periods=1000),\n",
    "                 columns=['A','B','C'])\n",
    "r = df.resample('3T')\n",
    "r.mean()"
   ]
  },
  {
   "cell_type": "code",
   "execution_count": 59,
   "metadata": {
    "collapsed": false
   },
   "outputs": [
    {
     "data": {
      "text/html": [
       "<div>\n",
       "<table border=\"1\" class=\"dataframe\">\n",
       "  <thead>\n",
       "    <tr style=\"text-align: right;\">\n",
       "      <th></th>\n",
       "      <th>result2</th>\n",
       "      <th>result1</th>\n",
       "    </tr>\n",
       "  </thead>\n",
       "  <tbody>\n",
       "    <tr>\n",
       "      <th>2012-01-01 00:00:00</th>\n",
       "      <td>-0.088428</td>\n",
       "      <td>-15.916967</td>\n",
       "    </tr>\n",
       "    <tr>\n",
       "      <th>2012-01-01 00:03:00</th>\n",
       "      <td>0.003197</td>\n",
       "      <td>0.575417</td>\n",
       "    </tr>\n",
       "    <tr>\n",
       "      <th>2012-01-01 00:06:00</th>\n",
       "      <td>0.094311</td>\n",
       "      <td>16.975921</td>\n",
       "    </tr>\n",
       "    <tr>\n",
       "      <th>2012-01-01 00:09:00</th>\n",
       "      <td>0.035126</td>\n",
       "      <td>6.322742</td>\n",
       "    </tr>\n",
       "    <tr>\n",
       "      <th>2012-01-01 00:12:00</th>\n",
       "      <td>0.069101</td>\n",
       "      <td>12.438137</td>\n",
       "    </tr>\n",
       "    <tr>\n",
       "      <th>2012-01-01 00:15:00</th>\n",
       "      <td>-0.038412</td>\n",
       "      <td>-3.841194</td>\n",
       "    </tr>\n",
       "  </tbody>\n",
       "</table>\n",
       "</div>"
      ],
      "text/plain": [
       "                      result2    result1\n",
       "2012-01-01 00:00:00 -0.088428 -15.916967\n",
       "2012-01-01 00:03:00  0.003197   0.575417\n",
       "2012-01-01 00:06:00  0.094311  16.975921\n",
       "2012-01-01 00:09:00  0.035126   6.322742\n",
       "2012-01-01 00:12:00  0.069101  12.438137\n",
       "2012-01-01 00:15:00 -0.038412  -3.841194"
      ]
     },
     "execution_count": 59,
     "metadata": {},
     "output_type": "execute_result"
    }
   ],
   "source": [
    "r['A'].agg({'result1':np.sum,\n",
    "           'result2':np.mean})"
   ]
  },
  {
   "cell_type": "code",
   "execution_count": 60,
   "metadata": {
    "collapsed": false
   },
   "outputs": [
    {
     "data": {
      "text/html": [
       "<div>\n",
       "<table border=\"1\" class=\"dataframe\">\n",
       "  <thead>\n",
       "    <tr style=\"text-align: right;\">\n",
       "      <th></th>\n",
       "      <th>sum</th>\n",
       "      <th>mean</th>\n",
       "      <th>std</th>\n",
       "    </tr>\n",
       "  </thead>\n",
       "  <tbody>\n",
       "    <tr>\n",
       "      <th>2012-01-01 00:00:00</th>\n",
       "      <td>-15.916967</td>\n",
       "      <td>-0.088428</td>\n",
       "      <td>1.029585</td>\n",
       "    </tr>\n",
       "    <tr>\n",
       "      <th>2012-01-01 00:03:00</th>\n",
       "      <td>0.575417</td>\n",
       "      <td>0.003197</td>\n",
       "      <td>0.958569</td>\n",
       "    </tr>\n",
       "    <tr>\n",
       "      <th>2012-01-01 00:06:00</th>\n",
       "      <td>16.975921</td>\n",
       "      <td>0.094311</td>\n",
       "      <td>1.020540</td>\n",
       "    </tr>\n",
       "    <tr>\n",
       "      <th>2012-01-01 00:09:00</th>\n",
       "      <td>6.322742</td>\n",
       "      <td>0.035126</td>\n",
       "      <td>1.067892</td>\n",
       "    </tr>\n",
       "    <tr>\n",
       "      <th>2012-01-01 00:12:00</th>\n",
       "      <td>12.438137</td>\n",
       "      <td>0.069101</td>\n",
       "      <td>0.929218</td>\n",
       "    </tr>\n",
       "    <tr>\n",
       "      <th>2012-01-01 00:15:00</th>\n",
       "      <td>-3.841194</td>\n",
       "      <td>-0.038412</td>\n",
       "      <td>0.813561</td>\n",
       "    </tr>\n",
       "  </tbody>\n",
       "</table>\n",
       "</div>"
      ],
      "text/plain": [
       "                           sum      mean       std\n",
       "2012-01-01 00:00:00 -15.916967 -0.088428  1.029585\n",
       "2012-01-01 00:03:00   0.575417  0.003197  0.958569\n",
       "2012-01-01 00:06:00  16.975921  0.094311  1.020540\n",
       "2012-01-01 00:09:00   6.322742  0.035126  1.067892\n",
       "2012-01-01 00:12:00  12.438137  0.069101  0.929218\n",
       "2012-01-01 00:15:00  -3.841194 -0.038412  0.813561"
      ]
     },
     "execution_count": 60,
     "metadata": {},
     "output_type": "execute_result"
    }
   ],
   "source": [
    "r['A'].agg([np.sum, np.mean, np.std])"
   ]
  },
  {
   "cell_type": "code",
   "execution_count": 61,
   "metadata": {
    "collapsed": false
   },
   "outputs": [
    {
     "data": {
      "text/html": [
       "<div>\n",
       "<table border=\"1\" class=\"dataframe\">\n",
       "  <thead>\n",
       "    <tr>\n",
       "      <th></th>\n",
       "      <th colspan=\"2\" halign=\"left\">A</th>\n",
       "      <th colspan=\"2\" halign=\"left\">B</th>\n",
       "      <th colspan=\"2\" halign=\"left\">C</th>\n",
       "    </tr>\n",
       "    <tr>\n",
       "      <th></th>\n",
       "      <th>sum</th>\n",
       "      <th>mean</th>\n",
       "      <th>sum</th>\n",
       "      <th>mean</th>\n",
       "      <th>sum</th>\n",
       "      <th>mean</th>\n",
       "    </tr>\n",
       "  </thead>\n",
       "  <tbody>\n",
       "    <tr>\n",
       "      <th>2012-01-01 00:00:00</th>\n",
       "      <td>-15.916967</td>\n",
       "      <td>-0.088428</td>\n",
       "      <td>-12.913341</td>\n",
       "      <td>-0.071741</td>\n",
       "      <td>4.940766</td>\n",
       "      <td>0.027449</td>\n",
       "    </tr>\n",
       "    <tr>\n",
       "      <th>2012-01-01 00:03:00</th>\n",
       "      <td>0.575417</td>\n",
       "      <td>0.003197</td>\n",
       "      <td>15.710235</td>\n",
       "      <td>0.087279</td>\n",
       "      <td>-5.975861</td>\n",
       "      <td>-0.033199</td>\n",
       "    </tr>\n",
       "    <tr>\n",
       "      <th>2012-01-01 00:06:00</th>\n",
       "      <td>16.975921</td>\n",
       "      <td>0.094311</td>\n",
       "      <td>16.110799</td>\n",
       "      <td>0.089504</td>\n",
       "      <td>-13.807121</td>\n",
       "      <td>-0.076706</td>\n",
       "    </tr>\n",
       "    <tr>\n",
       "      <th>2012-01-01 00:09:00</th>\n",
       "      <td>6.322742</td>\n",
       "      <td>0.035126</td>\n",
       "      <td>-7.601253</td>\n",
       "      <td>-0.042229</td>\n",
       "      <td>6.010500</td>\n",
       "      <td>0.033392</td>\n",
       "    </tr>\n",
       "    <tr>\n",
       "      <th>2012-01-01 00:12:00</th>\n",
       "      <td>12.438137</td>\n",
       "      <td>0.069101</td>\n",
       "      <td>-3.169809</td>\n",
       "      <td>-0.017610</td>\n",
       "      <td>-11.580039</td>\n",
       "      <td>-0.064334</td>\n",
       "    </tr>\n",
       "    <tr>\n",
       "      <th>2012-01-01 00:15:00</th>\n",
       "      <td>-3.841194</td>\n",
       "      <td>-0.038412</td>\n",
       "      <td>0.119641</td>\n",
       "      <td>0.001196</td>\n",
       "      <td>3.734033</td>\n",
       "      <td>0.037340</td>\n",
       "    </tr>\n",
       "  </tbody>\n",
       "</table>\n",
       "</div>"
      ],
      "text/plain": [
       "                             A                    B                    C  \\\n",
       "                           sum      mean        sum      mean        sum   \n",
       "2012-01-01 00:00:00 -15.916967 -0.088428 -12.913341 -0.071741   4.940766   \n",
       "2012-01-01 00:03:00   0.575417  0.003197  15.710235  0.087279  -5.975861   \n",
       "2012-01-01 00:06:00  16.975921  0.094311  16.110799  0.089504 -13.807121   \n",
       "2012-01-01 00:09:00   6.322742  0.035126  -7.601253 -0.042229   6.010500   \n",
       "2012-01-01 00:12:00  12.438137  0.069101  -3.169809 -0.017610 -11.580039   \n",
       "2012-01-01 00:15:00  -3.841194 -0.038412   0.119641  0.001196   3.734033   \n",
       "\n",
       "                               \n",
       "                         mean  \n",
       "2012-01-01 00:00:00  0.027449  \n",
       "2012-01-01 00:03:00 -0.033199  \n",
       "2012-01-01 00:06:00 -0.076706  \n",
       "2012-01-01 00:09:00  0.033392  \n",
       "2012-01-01 00:12:00 -0.064334  \n",
       "2012-01-01 00:15:00  0.037340  "
      ]
     },
     "execution_count": 61,
     "metadata": {},
     "output_type": "execute_result"
    }
   ],
   "source": [
    "r.agg([np.sum, np.mean])"
   ]
  },
  {
   "cell_type": "code",
   "execution_count": 62,
   "metadata": {
    "collapsed": false
   },
   "outputs": [
    {
     "data": {
      "text/html": [
       "<div>\n",
       "<table border=\"1\" class=\"dataframe\">\n",
       "  <thead>\n",
       "    <tr style=\"text-align: right;\">\n",
       "      <th></th>\n",
       "      <th>A</th>\n",
       "      <th>B</th>\n",
       "    </tr>\n",
       "  </thead>\n",
       "  <tbody>\n",
       "    <tr>\n",
       "      <th>2012-01-01 00:00:00</th>\n",
       "      <td>-15.916967</td>\n",
       "      <td>0.912294</td>\n",
       "    </tr>\n",
       "    <tr>\n",
       "      <th>2012-01-01 00:03:00</th>\n",
       "      <td>0.575417</td>\n",
       "      <td>0.958724</td>\n",
       "    </tr>\n",
       "    <tr>\n",
       "      <th>2012-01-01 00:06:00</th>\n",
       "      <td>16.975921</td>\n",
       "      <td>1.032585</td>\n",
       "    </tr>\n",
       "    <tr>\n",
       "      <th>2012-01-01 00:09:00</th>\n",
       "      <td>6.322742</td>\n",
       "      <td>0.905531</td>\n",
       "    </tr>\n",
       "    <tr>\n",
       "      <th>2012-01-01 00:12:00</th>\n",
       "      <td>12.438137</td>\n",
       "      <td>1.017796</td>\n",
       "    </tr>\n",
       "    <tr>\n",
       "      <th>2012-01-01 00:15:00</th>\n",
       "      <td>-3.841194</td>\n",
       "      <td>0.967114</td>\n",
       "    </tr>\n",
       "  </tbody>\n",
       "</table>\n",
       "</div>"
      ],
      "text/plain": [
       "                             A         B\n",
       "2012-01-01 00:00:00 -15.916967  0.912294\n",
       "2012-01-01 00:03:00   0.575417  0.958724\n",
       "2012-01-01 00:06:00  16.975921  1.032585\n",
       "2012-01-01 00:09:00   6.322742  0.905531\n",
       "2012-01-01 00:12:00  12.438137  1.017796\n",
       "2012-01-01 00:15:00  -3.841194  0.967114"
      ]
     },
     "execution_count": 62,
     "metadata": {},
     "output_type": "execute_result"
    }
   ],
   "source": [
    "r.agg({'A': np.sum,\n",
    "      'B': lambda x: np.std(x, ddof=1)})"
   ]
  },
  {
   "cell_type": "code",
   "execution_count": null,
   "metadata": {
    "collapsed": true
   },
   "outputs": [],
   "source": []
  },
  {
   "cell_type": "code",
   "execution_count": null,
   "metadata": {
    "collapsed": true
   },
   "outputs": [],
   "source": []
  },
  {
   "cell_type": "code",
   "execution_count": null,
   "metadata": {
    "collapsed": true
   },
   "outputs": [],
   "source": []
  }
 ],
 "metadata": {
  "anaconda-cloud": {},
  "kernelspec": {
   "display_name": "Python [default]",
   "language": "python",
   "name": "python2"
  },
  "language_info": {
   "codemirror_mode": {
    "name": "ipython",
    "version": 2
   },
   "file_extension": ".py",
   "mimetype": "text/x-python",
   "name": "python",
   "nbconvert_exporter": "python",
   "pygments_lexer": "ipython2",
   "version": "2.7.12"
  }
 },
 "nbformat": 4,
 "nbformat_minor": 1
}
