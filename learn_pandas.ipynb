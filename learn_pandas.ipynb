{
 "cells": [
  {
   "cell_type": "markdown",
   "metadata": {},
   "source": [
    "<center><h1>v0.19.1 (November 3, 2016)</h1></center>\n",
    "## 新特性：提升性能和修复bug"
   ]
  },
  {
   "cell_type": "code",
   "execution_count": 6,
   "metadata": {
    "collapsed": true
   },
   "outputs": [],
   "source": [
    "import pandas as pd\n",
    "import numpy as np"
   ]
  },
  {
   "cell_type": "code",
   "execution_count": 7,
   "metadata": {
    "collapsed": false
   },
   "outputs": [
    {
     "data": {
      "text/plain": [
       "u'0.19.1'"
      ]
     },
     "execution_count": 7,
     "metadata": {},
     "output_type": "execute_result"
    }
   ],
   "source": [
    "pd.__version__"
   ]
  },
  {
   "cell_type": "code",
   "execution_count": 8,
   "metadata": {
    "collapsed": false
   },
   "outputs": [],
   "source": [
    "#更新Python包\n",
    "# conda update pandas"
   ]
  },
  {
   "cell_type": "markdown",
   "metadata": {},
   "source": [
    "## 常见问题\n",
    "* DataFrame内存使用问题\n",
    "* 字节排序问题\n",
    "* 使用qt可视化数据"
   ]
  },
  {
   "cell_type": "code",
   "execution_count": 9,
   "metadata": {
    "collapsed": false
   },
   "outputs": [
    {
     "name": "stdout",
     "output_type": "stream",
     "text": [
      "<class 'pandas.core.frame.DataFrame'>\n",
      "RangeIndex: 5000 entries, 0 to 4999\n",
      "Data columns (total 8 columns):\n",
      "bool               5000 non-null bool\n",
      "complex128         5000 non-null complex128\n",
      "datetime64[ns]     5000 non-null datetime64[ns]\n",
      "float64            5000 non-null float64\n",
      "int64              5000 non-null int64\n",
      "object             5000 non-null object\n",
      "timedelta64[ns]    5000 non-null timedelta64[ns]\n",
      "categotical        5000 non-null category\n",
      "dtypes: bool(1), category(1), complex128(1), datetime64[ns](1), float64(1), int64(1), object(1), timedelta64[ns](1)\n",
      "memory usage: 284.1+ KB\n"
     ]
    }
   ],
   "source": [
    "dtypes = ['int64', 'float64', 'datetime64[ns]', 'timedelta64[ns]','complex128', 'object', 'bool']\n",
    "n = 5000\n",
    "data = dict([(t, np.random.randint(100,size=n).astype(t)) for t in dtypes])\n",
    "df = pd.DataFrame(data)\n",
    "df['categotical'] = df['object'].astype('category')\n",
    "df.info()"
   ]
  },
  {
   "cell_type": "code",
   "execution_count": 10,
   "metadata": {
    "collapsed": false
   },
   "outputs": [
    {
     "name": "stdout",
     "output_type": "stream",
     "text": [
      "<class 'pandas.core.frame.DataFrame'>\n",
      "RangeIndex: 5000 entries, 0 to 4999\n",
      "Data columns (total 8 columns):\n",
      "bool               5000 non-null bool\n",
      "complex128         5000 non-null complex128\n",
      "datetime64[ns]     5000 non-null datetime64[ns]\n",
      "float64            5000 non-null float64\n",
      "int64              5000 non-null int64\n",
      "object             5000 non-null object\n",
      "timedelta64[ns]    5000 non-null timedelta64[ns]\n",
      "categotical        5000 non-null category\n",
      "dtypes: bool(1), category(1), complex128(1), datetime64[ns](1), float64(1), int64(1), object(1), timedelta64[ns](1)\n",
      "memory usage: 401.2 KB\n"
     ]
    }
   ],
   "source": [
    "df.info(memory_usage='deep')"
   ]
  },
  {
   "cell_type": "code",
   "execution_count": 11,
   "metadata": {
    "collapsed": false
   },
   "outputs": [
    {
     "data": {
      "text/plain": [
       "Index                 72\n",
       "bool                5000\n",
       "complex128         80000\n",
       "datetime64[ns]     40000\n",
       "float64            40000\n",
       "int64              40000\n",
       "object             40000\n",
       "timedelta64[ns]    40000\n",
       "categotical         5800\n",
       "dtype: int64"
      ]
     },
     "execution_count": 11,
     "metadata": {},
     "output_type": "execute_result"
    }
   ],
   "source": [
    "# 查看各列的内存使用情况\n",
    "df.memory_usage()"
   ]
  },
  {
   "cell_type": "markdown",
   "metadata": {},
   "source": [
    "### 数据的可视化qt: pandas_qt/easyGUI"
   ]
  },
  {
   "cell_type": "code",
   "execution_count": 12,
   "metadata": {
    "collapsed": false
   },
   "outputs": [
    {
     "data": {
      "text/plain": [
       "True"
      ]
     },
     "execution_count": 12,
     "metadata": {},
     "output_type": "execute_result"
    }
   ],
   "source": [
    "import easygui\n",
    "easygui.ynbox('Shall I continue?', 'Title', ('Yes', 'No'))\n",
    "\n",
    "# easygui.msgbox('This is a basic message box.', 'Title Goes Here')\n",
    "\n",
    "# easygui.buttonbox('Click on your favorite flavor.', 'Favorite Flavor', ('Chocolate', 'Vanilla', 'Strawberry'))"
   ]
  },
  {
   "cell_type": "markdown",
   "metadata": {},
   "source": [
    "## 包概览"
   ]
  },
  {
   "cell_type": "markdown",
   "metadata": {},
   "source": [
    "pandas支持Series、DataFrame和Panel\n",
    "\n",
    "Dataframe是Series的容器、Panel是DataFrame的容器"
   ]
  },
  {
   "cell_type": "markdown",
   "metadata": {},
   "source": [
    "## 十分钟速学pandas"
   ]
  },
  {
   "cell_type": "code",
   "execution_count": 13,
   "metadata": {
    "collapsed": true
   },
   "outputs": [],
   "source": [
    "import pandas as pd\n",
    "import numpy as np\n",
    "import matplotlib.pyplot as plt"
   ]
  },
  {
   "cell_type": "markdown",
   "metadata": {},
   "source": [
    "### 创建对象"
   ]
  },
  {
   "cell_type": "code",
   "execution_count": 14,
   "metadata": {
    "collapsed": false
   },
   "outputs": [
    {
     "data": {
      "text/plain": [
       "0    1.0\n",
       "1    3.0\n",
       "2    5.0\n",
       "3    NaN\n",
       "4    6.0\n",
       "5    8.0\n",
       "dtype: float64"
      ]
     },
     "execution_count": 14,
     "metadata": {},
     "output_type": "execute_result"
    }
   ],
   "source": [
    "#创建series\n",
    "s = pd.Series([1,3,5,np.nan,6,8])\n",
    "s"
   ]
  },
  {
   "cell_type": "code",
   "execution_count": 15,
   "metadata": {
    "collapsed": false
   },
   "outputs": [
    {
     "data": {
      "text/html": [
       "<div>\n",
       "<table border=\"1\" class=\"dataframe\">\n",
       "  <thead>\n",
       "    <tr style=\"text-align: right;\">\n",
       "      <th></th>\n",
       "      <th>A</th>\n",
       "      <th>B</th>\n",
       "      <th>C</th>\n",
       "      <th>D</th>\n",
       "    </tr>\n",
       "  </thead>\n",
       "  <tbody>\n",
       "    <tr>\n",
       "      <th>2016-12-18</th>\n",
       "      <td>0.905467</td>\n",
       "      <td>0.726887</td>\n",
       "      <td>0.231299</td>\n",
       "      <td>-1.261442</td>\n",
       "    </tr>\n",
       "    <tr>\n",
       "      <th>2016-12-19</th>\n",
       "      <td>-0.275443</td>\n",
       "      <td>-0.935031</td>\n",
       "      <td>-0.201591</td>\n",
       "      <td>0.701677</td>\n",
       "    </tr>\n",
       "    <tr>\n",
       "      <th>2016-12-20</th>\n",
       "      <td>0.098073</td>\n",
       "      <td>-1.755892</td>\n",
       "      <td>0.652470</td>\n",
       "      <td>2.736317</td>\n",
       "    </tr>\n",
       "    <tr>\n",
       "      <th>2016-12-21</th>\n",
       "      <td>0.316155</td>\n",
       "      <td>-1.351317</td>\n",
       "      <td>-0.629193</td>\n",
       "      <td>-0.116595</td>\n",
       "    </tr>\n",
       "    <tr>\n",
       "      <th>2016-12-22</th>\n",
       "      <td>-0.360690</td>\n",
       "      <td>0.541620</td>\n",
       "      <td>-1.751401</td>\n",
       "      <td>-0.967272</td>\n",
       "    </tr>\n",
       "    <tr>\n",
       "      <th>2016-12-23</th>\n",
       "      <td>-0.197813</td>\n",
       "      <td>-0.581270</td>\n",
       "      <td>0.464847</td>\n",
       "      <td>1.067717</td>\n",
       "    </tr>\n",
       "  </tbody>\n",
       "</table>\n",
       "</div>"
      ],
      "text/plain": [
       "                   A         B         C         D\n",
       "2016-12-18  0.905467  0.726887  0.231299 -1.261442\n",
       "2016-12-19 -0.275443 -0.935031 -0.201591  0.701677\n",
       "2016-12-20  0.098073 -1.755892  0.652470  2.736317\n",
       "2016-12-21  0.316155 -1.351317 -0.629193 -0.116595\n",
       "2016-12-22 -0.360690  0.541620 -1.751401 -0.967272\n",
       "2016-12-23 -0.197813 -0.581270  0.464847  1.067717"
      ]
     },
     "execution_count": 15,
     "metadata": {},
     "output_type": "execute_result"
    }
   ],
   "source": [
    "#创建DataFrame\n",
    "dates = pd.date_range('20161218',periods=6)\n",
    "df = pd.DataFrame(np.random.randn(6,4), index=dates,columns=list('ABCD'))\n",
    "df"
   ]
  },
  {
   "cell_type": "code",
   "execution_count": 16,
   "metadata": {
    "collapsed": false
   },
   "outputs": [
    {
     "data": {
      "text/html": [
       "<div>\n",
       "<table border=\"1\" class=\"dataframe\">\n",
       "  <thead>\n",
       "    <tr style=\"text-align: right;\">\n",
       "      <th></th>\n",
       "      <th>A</th>\n",
       "      <th>B</th>\n",
       "      <th>C</th>\n",
       "      <th>D</th>\n",
       "      <th>E</th>\n",
       "      <th>F</th>\n",
       "    </tr>\n",
       "  </thead>\n",
       "  <tbody>\n",
       "    <tr>\n",
       "      <th>0</th>\n",
       "      <td>1.0</td>\n",
       "      <td>2013-01-02</td>\n",
       "      <td>1.0</td>\n",
       "      <td>3</td>\n",
       "      <td>test</td>\n",
       "      <td>foo</td>\n",
       "    </tr>\n",
       "    <tr>\n",
       "      <th>1</th>\n",
       "      <td>1.0</td>\n",
       "      <td>2013-01-02</td>\n",
       "      <td>1.0</td>\n",
       "      <td>3</td>\n",
       "      <td>train</td>\n",
       "      <td>foo</td>\n",
       "    </tr>\n",
       "    <tr>\n",
       "      <th>2</th>\n",
       "      <td>1.0</td>\n",
       "      <td>2013-01-02</td>\n",
       "      <td>1.0</td>\n",
       "      <td>3</td>\n",
       "      <td>test</td>\n",
       "      <td>foo</td>\n",
       "    </tr>\n",
       "    <tr>\n",
       "      <th>3</th>\n",
       "      <td>1.0</td>\n",
       "      <td>2013-01-02</td>\n",
       "      <td>1.0</td>\n",
       "      <td>3</td>\n",
       "      <td>train</td>\n",
       "      <td>foo</td>\n",
       "    </tr>\n",
       "  </tbody>\n",
       "</table>\n",
       "</div>"
      ],
      "text/plain": [
       "     A          B    C  D      E    F\n",
       "0  1.0 2013-01-02  1.0  3   test  foo\n",
       "1  1.0 2013-01-02  1.0  3  train  foo\n",
       "2  1.0 2013-01-02  1.0  3   test  foo\n",
       "3  1.0 2013-01-02  1.0  3  train  foo"
      ]
     },
     "execution_count": 16,
     "metadata": {},
     "output_type": "execute_result"
    }
   ],
   "source": [
    "df2 = pd.DataFrame({ 'A' : 1.,\n",
    "                     'B' : pd.Timestamp('20130102'),                      \n",
    "                     'C' : pd.Series(1,index=list(range(4)),dtype='float32'),\n",
    "                     'D' : np.array([3] * 4,dtype='int32'),\n",
    "                     'E' : pd.Categorical([\"test\",\"train\",\"test\",\"train\"]),\n",
    "                     'F' : 'foo' })\n",
    "df2"
   ]
  },
  {
   "cell_type": "code",
   "execution_count": 17,
   "metadata": {
    "collapsed": false
   },
   "outputs": [
    {
     "data": {
      "text/plain": [
       "A           float64\n",
       "B    datetime64[ns]\n",
       "C           float32\n",
       "D             int32\n",
       "E          category\n",
       "F            object\n",
       "dtype: object"
      ]
     },
     "execution_count": 17,
     "metadata": {},
     "output_type": "execute_result"
    }
   ],
   "source": [
    "df2.dtypes"
   ]
  },
  {
   "cell_type": "markdown",
   "metadata": {},
   "source": [
    "### 查看数据"
   ]
  },
  {
   "cell_type": "code",
   "execution_count": 18,
   "metadata": {
    "collapsed": false
   },
   "outputs": [
    {
     "data": {
      "text/html": [
       "<div>\n",
       "<table border=\"1\" class=\"dataframe\">\n",
       "  <thead>\n",
       "    <tr style=\"text-align: right;\">\n",
       "      <th></th>\n",
       "      <th>A</th>\n",
       "      <th>B</th>\n",
       "      <th>C</th>\n",
       "      <th>D</th>\n",
       "    </tr>\n",
       "  </thead>\n",
       "  <tbody>\n",
       "    <tr>\n",
       "      <th>2016-12-18</th>\n",
       "      <td>0.905467</td>\n",
       "      <td>0.726887</td>\n",
       "      <td>0.231299</td>\n",
       "      <td>-1.261442</td>\n",
       "    </tr>\n",
       "    <tr>\n",
       "      <th>2016-12-19</th>\n",
       "      <td>-0.275443</td>\n",
       "      <td>-0.935031</td>\n",
       "      <td>-0.201591</td>\n",
       "      <td>0.701677</td>\n",
       "    </tr>\n",
       "    <tr>\n",
       "      <th>2016-12-20</th>\n",
       "      <td>0.098073</td>\n",
       "      <td>-1.755892</td>\n",
       "      <td>0.652470</td>\n",
       "      <td>2.736317</td>\n",
       "    </tr>\n",
       "    <tr>\n",
       "      <th>2016-12-21</th>\n",
       "      <td>0.316155</td>\n",
       "      <td>-1.351317</td>\n",
       "      <td>-0.629193</td>\n",
       "      <td>-0.116595</td>\n",
       "    </tr>\n",
       "    <tr>\n",
       "      <th>2016-12-22</th>\n",
       "      <td>-0.360690</td>\n",
       "      <td>0.541620</td>\n",
       "      <td>-1.751401</td>\n",
       "      <td>-0.967272</td>\n",
       "    </tr>\n",
       "  </tbody>\n",
       "</table>\n",
       "</div>"
      ],
      "text/plain": [
       "                   A         B         C         D\n",
       "2016-12-18  0.905467  0.726887  0.231299 -1.261442\n",
       "2016-12-19 -0.275443 -0.935031 -0.201591  0.701677\n",
       "2016-12-20  0.098073 -1.755892  0.652470  2.736317\n",
       "2016-12-21  0.316155 -1.351317 -0.629193 -0.116595\n",
       "2016-12-22 -0.360690  0.541620 -1.751401 -0.967272"
      ]
     },
     "execution_count": 18,
     "metadata": {},
     "output_type": "execute_result"
    }
   ],
   "source": [
    "#查看前几行和后几行\n",
    "df.head()"
   ]
  },
  {
   "cell_type": "code",
   "execution_count": 20,
   "metadata": {
    "collapsed": false
   },
   "outputs": [
    {
     "data": {
      "text/html": [
       "<div>\n",
       "<table border=\"1\" class=\"dataframe\">\n",
       "  <thead>\n",
       "    <tr style=\"text-align: right;\">\n",
       "      <th></th>\n",
       "      <th>A</th>\n",
       "      <th>B</th>\n",
       "      <th>C</th>\n",
       "      <th>D</th>\n",
       "    </tr>\n",
       "  </thead>\n",
       "  <tbody>\n",
       "    <tr>\n",
       "      <th>2016-12-21</th>\n",
       "      <td>0.316155</td>\n",
       "      <td>-1.351317</td>\n",
       "      <td>-0.629193</td>\n",
       "      <td>-0.116595</td>\n",
       "    </tr>\n",
       "    <tr>\n",
       "      <th>2016-12-22</th>\n",
       "      <td>-0.360690</td>\n",
       "      <td>0.541620</td>\n",
       "      <td>-1.751401</td>\n",
       "      <td>-0.967272</td>\n",
       "    </tr>\n",
       "    <tr>\n",
       "      <th>2016-12-23</th>\n",
       "      <td>-0.197813</td>\n",
       "      <td>-0.581270</td>\n",
       "      <td>0.464847</td>\n",
       "      <td>1.067717</td>\n",
       "    </tr>\n",
       "  </tbody>\n",
       "</table>\n",
       "</div>"
      ],
      "text/plain": [
       "                   A         B         C         D\n",
       "2016-12-21  0.316155 -1.351317 -0.629193 -0.116595\n",
       "2016-12-22 -0.360690  0.541620 -1.751401 -0.967272\n",
       "2016-12-23 -0.197813 -0.581270  0.464847  1.067717"
      ]
     },
     "execution_count": 20,
     "metadata": {},
     "output_type": "execute_result"
    }
   ],
   "source": [
    "df.tail(3)"
   ]
  },
  {
   "cell_type": "code",
   "execution_count": 21,
   "metadata": {
    "collapsed": false
   },
   "outputs": [
    {
     "data": {
      "text/plain": [
       "DatetimeIndex(['2016-12-18', '2016-12-19', '2016-12-20', '2016-12-21',\n",
       "               '2016-12-22', '2016-12-23'],\n",
       "              dtype='datetime64[ns]', freq='D')"
      ]
     },
     "execution_count": 21,
     "metadata": {},
     "output_type": "execute_result"
    }
   ],
   "source": [
    "# 查看索引、列、值\n",
    "df.index"
   ]
  },
  {
   "cell_type": "code",
   "execution_count": 22,
   "metadata": {
    "collapsed": false
   },
   "outputs": [
    {
     "data": {
      "text/plain": [
       "Index([u'A', u'B', u'C', u'D'], dtype='object')"
      ]
     },
     "execution_count": 22,
     "metadata": {},
     "output_type": "execute_result"
    }
   ],
   "source": [
    "df.columns"
   ]
  },
  {
   "cell_type": "code",
   "execution_count": 23,
   "metadata": {
    "collapsed": false
   },
   "outputs": [
    {
     "data": {
      "text/plain": [
       "array([[ 0.90546727,  0.72688702,  0.2312991 , -1.26144153],\n",
       "       [-0.27544277, -0.93503105, -0.20159133,  0.70167673],\n",
       "       [ 0.09807291, -1.75589233,  0.65247036,  2.73631708],\n",
       "       [ 0.31615464, -1.3513168 , -0.62919322, -0.11659485],\n",
       "       [-0.36068951,  0.54161989, -1.75140105, -0.96727249],\n",
       "       [-0.19781307, -0.58126973,  0.46484667,  1.06771676]])"
      ]
     },
     "execution_count": 23,
     "metadata": {},
     "output_type": "execute_result"
    }
   ],
   "source": [
    "df.values"
   ]
  },
  {
   "cell_type": "code",
   "execution_count": 24,
   "metadata": {
    "collapsed": false
   },
   "outputs": [
    {
     "data": {
      "text/html": [
       "<div>\n",
       "<table border=\"1\" class=\"dataframe\">\n",
       "  <thead>\n",
       "    <tr style=\"text-align: right;\">\n",
       "      <th></th>\n",
       "      <th>A</th>\n",
       "      <th>B</th>\n",
       "      <th>C</th>\n",
       "      <th>D</th>\n",
       "    </tr>\n",
       "  </thead>\n",
       "  <tbody>\n",
       "    <tr>\n",
       "      <th>count</th>\n",
       "      <td>6.000000</td>\n",
       "      <td>6.000000</td>\n",
       "      <td>6.000000</td>\n",
       "      <td>6.000000</td>\n",
       "    </tr>\n",
       "    <tr>\n",
       "      <th>mean</th>\n",
       "      <td>0.080958</td>\n",
       "      <td>-0.559167</td>\n",
       "      <td>-0.205595</td>\n",
       "      <td>0.360067</td>\n",
       "    </tr>\n",
       "    <tr>\n",
       "      <th>std</th>\n",
       "      <td>0.476490</td>\n",
       "      <td>1.006686</td>\n",
       "      <td>0.888326</td>\n",
       "      <td>1.475287</td>\n",
       "    </tr>\n",
       "    <tr>\n",
       "      <th>min</th>\n",
       "      <td>-0.360690</td>\n",
       "      <td>-1.755892</td>\n",
       "      <td>-1.751401</td>\n",
       "      <td>-1.261442</td>\n",
       "    </tr>\n",
       "    <tr>\n",
       "      <th>25%</th>\n",
       "      <td>-0.256035</td>\n",
       "      <td>-1.247245</td>\n",
       "      <td>-0.522293</td>\n",
       "      <td>-0.754603</td>\n",
       "    </tr>\n",
       "    <tr>\n",
       "      <th>50%</th>\n",
       "      <td>-0.049870</td>\n",
       "      <td>-0.758150</td>\n",
       "      <td>0.014854</td>\n",
       "      <td>0.292541</td>\n",
       "    </tr>\n",
       "    <tr>\n",
       "      <th>75%</th>\n",
       "      <td>0.261634</td>\n",
       "      <td>0.260897</td>\n",
       "      <td>0.406460</td>\n",
       "      <td>0.976207</td>\n",
       "    </tr>\n",
       "    <tr>\n",
       "      <th>max</th>\n",
       "      <td>0.905467</td>\n",
       "      <td>0.726887</td>\n",
       "      <td>0.652470</td>\n",
       "      <td>2.736317</td>\n",
       "    </tr>\n",
       "  </tbody>\n",
       "</table>\n",
       "</div>"
      ],
      "text/plain": [
       "              A         B         C         D\n",
       "count  6.000000  6.000000  6.000000  6.000000\n",
       "mean   0.080958 -0.559167 -0.205595  0.360067\n",
       "std    0.476490  1.006686  0.888326  1.475287\n",
       "min   -0.360690 -1.755892 -1.751401 -1.261442\n",
       "25%   -0.256035 -1.247245 -0.522293 -0.754603\n",
       "50%   -0.049870 -0.758150  0.014854  0.292541\n",
       "75%    0.261634  0.260897  0.406460  0.976207\n",
       "max    0.905467  0.726887  0.652470  2.736317"
      ]
     },
     "execution_count": 24,
     "metadata": {},
     "output_type": "execute_result"
    }
   ],
   "source": [
    "#统计描述\n",
    "df.describe()"
   ]
  },
  {
   "cell_type": "code",
   "execution_count": 25,
   "metadata": {
    "collapsed": false
   },
   "outputs": [
    {
     "data": {
      "text/html": [
       "<div>\n",
       "<table border=\"1\" class=\"dataframe\">\n",
       "  <thead>\n",
       "    <tr style=\"text-align: right;\">\n",
       "      <th></th>\n",
       "      <th>2016-12-18 00:00:00</th>\n",
       "      <th>2016-12-19 00:00:00</th>\n",
       "      <th>2016-12-20 00:00:00</th>\n",
       "      <th>2016-12-21 00:00:00</th>\n",
       "      <th>2016-12-22 00:00:00</th>\n",
       "      <th>2016-12-23 00:00:00</th>\n",
       "    </tr>\n",
       "  </thead>\n",
       "  <tbody>\n",
       "    <tr>\n",
       "      <th>A</th>\n",
       "      <td>0.905467</td>\n",
       "      <td>-0.275443</td>\n",
       "      <td>0.098073</td>\n",
       "      <td>0.316155</td>\n",
       "      <td>-0.360690</td>\n",
       "      <td>-0.197813</td>\n",
       "    </tr>\n",
       "    <tr>\n",
       "      <th>B</th>\n",
       "      <td>0.726887</td>\n",
       "      <td>-0.935031</td>\n",
       "      <td>-1.755892</td>\n",
       "      <td>-1.351317</td>\n",
       "      <td>0.541620</td>\n",
       "      <td>-0.581270</td>\n",
       "    </tr>\n",
       "    <tr>\n",
       "      <th>C</th>\n",
       "      <td>0.231299</td>\n",
       "      <td>-0.201591</td>\n",
       "      <td>0.652470</td>\n",
       "      <td>-0.629193</td>\n",
       "      <td>-1.751401</td>\n",
       "      <td>0.464847</td>\n",
       "    </tr>\n",
       "    <tr>\n",
       "      <th>D</th>\n",
       "      <td>-1.261442</td>\n",
       "      <td>0.701677</td>\n",
       "      <td>2.736317</td>\n",
       "      <td>-0.116595</td>\n",
       "      <td>-0.967272</td>\n",
       "      <td>1.067717</td>\n",
       "    </tr>\n",
       "  </tbody>\n",
       "</table>\n",
       "</div>"
      ],
      "text/plain": [
       "   2016-12-18  2016-12-19  2016-12-20  2016-12-21  2016-12-22  2016-12-23\n",
       "A    0.905467   -0.275443    0.098073    0.316155   -0.360690   -0.197813\n",
       "B    0.726887   -0.935031   -1.755892   -1.351317    0.541620   -0.581270\n",
       "C    0.231299   -0.201591    0.652470   -0.629193   -1.751401    0.464847\n",
       "D   -1.261442    0.701677    2.736317   -0.116595   -0.967272    1.067717"
      ]
     },
     "execution_count": 25,
     "metadata": {},
     "output_type": "execute_result"
    }
   ],
   "source": [
    "#转置\n",
    "df.T"
   ]
  },
  {
   "cell_type": "code",
   "execution_count": 26,
   "metadata": {
    "collapsed": false
   },
   "outputs": [
    {
     "data": {
      "text/html": [
       "<div>\n",
       "<table border=\"1\" class=\"dataframe\">\n",
       "  <thead>\n",
       "    <tr style=\"text-align: right;\">\n",
       "      <th></th>\n",
       "      <th>D</th>\n",
       "      <th>C</th>\n",
       "      <th>B</th>\n",
       "      <th>A</th>\n",
       "    </tr>\n",
       "  </thead>\n",
       "  <tbody>\n",
       "    <tr>\n",
       "      <th>2016-12-18</th>\n",
       "      <td>-1.261442</td>\n",
       "      <td>0.231299</td>\n",
       "      <td>0.726887</td>\n",
       "      <td>0.905467</td>\n",
       "    </tr>\n",
       "    <tr>\n",
       "      <th>2016-12-19</th>\n",
       "      <td>0.701677</td>\n",
       "      <td>-0.201591</td>\n",
       "      <td>-0.935031</td>\n",
       "      <td>-0.275443</td>\n",
       "    </tr>\n",
       "    <tr>\n",
       "      <th>2016-12-20</th>\n",
       "      <td>2.736317</td>\n",
       "      <td>0.652470</td>\n",
       "      <td>-1.755892</td>\n",
       "      <td>0.098073</td>\n",
       "    </tr>\n",
       "    <tr>\n",
       "      <th>2016-12-21</th>\n",
       "      <td>-0.116595</td>\n",
       "      <td>-0.629193</td>\n",
       "      <td>-1.351317</td>\n",
       "      <td>0.316155</td>\n",
       "    </tr>\n",
       "    <tr>\n",
       "      <th>2016-12-22</th>\n",
       "      <td>-0.967272</td>\n",
       "      <td>-1.751401</td>\n",
       "      <td>0.541620</td>\n",
       "      <td>-0.360690</td>\n",
       "    </tr>\n",
       "    <tr>\n",
       "      <th>2016-12-23</th>\n",
       "      <td>1.067717</td>\n",
       "      <td>0.464847</td>\n",
       "      <td>-0.581270</td>\n",
       "      <td>-0.197813</td>\n",
       "    </tr>\n",
       "  </tbody>\n",
       "</table>\n",
       "</div>"
      ],
      "text/plain": [
       "                   D         C         B         A\n",
       "2016-12-18 -1.261442  0.231299  0.726887  0.905467\n",
       "2016-12-19  0.701677 -0.201591 -0.935031 -0.275443\n",
       "2016-12-20  2.736317  0.652470 -1.755892  0.098073\n",
       "2016-12-21 -0.116595 -0.629193 -1.351317  0.316155\n",
       "2016-12-22 -0.967272 -1.751401  0.541620 -0.360690\n",
       "2016-12-23  1.067717  0.464847 -0.581270 -0.197813"
      ]
     },
     "execution_count": 26,
     "metadata": {},
     "output_type": "execute_result"
    }
   ],
   "source": [
    "#按列、值排序\n",
    "df.sort_index(axis=1,ascending=False)"
   ]
  },
  {
   "cell_type": "code",
   "execution_count": 30,
   "metadata": {
    "collapsed": false
   },
   "outputs": [
    {
     "data": {
      "text/html": [
       "<div>\n",
       "<table border=\"1\" class=\"dataframe\">\n",
       "  <thead>\n",
       "    <tr style=\"text-align: right;\">\n",
       "      <th></th>\n",
       "      <th>A</th>\n",
       "      <th>B</th>\n",
       "      <th>C</th>\n",
       "      <th>D</th>\n",
       "    </tr>\n",
       "  </thead>\n",
       "  <tbody>\n",
       "    <tr>\n",
       "      <th>2016-12-22</th>\n",
       "      <td>-0.360690</td>\n",
       "      <td>0.541620</td>\n",
       "      <td>-1.751401</td>\n",
       "      <td>-0.967272</td>\n",
       "    </tr>\n",
       "    <tr>\n",
       "      <th>2016-12-19</th>\n",
       "      <td>-0.275443</td>\n",
       "      <td>-0.935031</td>\n",
       "      <td>-0.201591</td>\n",
       "      <td>0.701677</td>\n",
       "    </tr>\n",
       "    <tr>\n",
       "      <th>2016-12-23</th>\n",
       "      <td>-0.197813</td>\n",
       "      <td>-0.581270</td>\n",
       "      <td>0.464847</td>\n",
       "      <td>1.067717</td>\n",
       "    </tr>\n",
       "    <tr>\n",
       "      <th>2016-12-20</th>\n",
       "      <td>0.098073</td>\n",
       "      <td>-1.755892</td>\n",
       "      <td>0.652470</td>\n",
       "      <td>2.736317</td>\n",
       "    </tr>\n",
       "    <tr>\n",
       "      <th>2016-12-21</th>\n",
       "      <td>0.316155</td>\n",
       "      <td>-1.351317</td>\n",
       "      <td>-0.629193</td>\n",
       "      <td>-0.116595</td>\n",
       "    </tr>\n",
       "    <tr>\n",
       "      <th>2016-12-18</th>\n",
       "      <td>0.905467</td>\n",
       "      <td>0.726887</td>\n",
       "      <td>0.231299</td>\n",
       "      <td>-1.261442</td>\n",
       "    </tr>\n",
       "  </tbody>\n",
       "</table>\n",
       "</div>"
      ],
      "text/plain": [
       "                   A         B         C         D\n",
       "2016-12-22 -0.360690  0.541620 -1.751401 -0.967272\n",
       "2016-12-19 -0.275443 -0.935031 -0.201591  0.701677\n",
       "2016-12-23 -0.197813 -0.581270  0.464847  1.067717\n",
       "2016-12-20  0.098073 -1.755892  0.652470  2.736317\n",
       "2016-12-21  0.316155 -1.351317 -0.629193 -0.116595\n",
       "2016-12-18  0.905467  0.726887  0.231299 -1.261442"
      ]
     },
     "execution_count": 30,
     "metadata": {},
     "output_type": "execute_result"
    }
   ],
   "source": [
    "#按值排序\n",
    "df.sort_values(by='A')"
   ]
  },
  {
   "cell_type": "markdown",
   "metadata": {},
   "source": [
    "### 选择"
   ]
  },
  {
   "cell_type": "code",
   "execution_count": 31,
   "metadata": {
    "collapsed": false
   },
   "outputs": [
    {
     "data": {
      "text/plain": [
       "2016-12-18    0.905467\n",
       "2016-12-19   -0.275443\n",
       "2016-12-20    0.098073\n",
       "2016-12-21    0.316155\n",
       "2016-12-22   -0.360690\n",
       "2016-12-23   -0.197813\n",
       "Freq: D, Name: A, dtype: float64"
      ]
     },
     "execution_count": 31,
     "metadata": {},
     "output_type": "execute_result"
    }
   ],
   "source": [
    "df['A']"
   ]
  },
  {
   "cell_type": "code",
   "execution_count": 32,
   "metadata": {
    "collapsed": false
   },
   "outputs": [
    {
     "data": {
      "text/html": [
       "<div>\n",
       "<table border=\"1\" class=\"dataframe\">\n",
       "  <thead>\n",
       "    <tr style=\"text-align: right;\">\n",
       "      <th></th>\n",
       "      <th>A</th>\n",
       "      <th>B</th>\n",
       "      <th>C</th>\n",
       "      <th>D</th>\n",
       "    </tr>\n",
       "  </thead>\n",
       "  <tbody>\n",
       "    <tr>\n",
       "      <th>2016-12-18</th>\n",
       "      <td>0.905467</td>\n",
       "      <td>0.726887</td>\n",
       "      <td>0.231299</td>\n",
       "      <td>-1.261442</td>\n",
       "    </tr>\n",
       "    <tr>\n",
       "      <th>2016-12-19</th>\n",
       "      <td>-0.275443</td>\n",
       "      <td>-0.935031</td>\n",
       "      <td>-0.201591</td>\n",
       "      <td>0.701677</td>\n",
       "    </tr>\n",
       "    <tr>\n",
       "      <th>2016-12-20</th>\n",
       "      <td>0.098073</td>\n",
       "      <td>-1.755892</td>\n",
       "      <td>0.652470</td>\n",
       "      <td>2.736317</td>\n",
       "    </tr>\n",
       "  </tbody>\n",
       "</table>\n",
       "</div>"
      ],
      "text/plain": [
       "                   A         B         C         D\n",
       "2016-12-18  0.905467  0.726887  0.231299 -1.261442\n",
       "2016-12-19 -0.275443 -0.935031 -0.201591  0.701677\n",
       "2016-12-20  0.098073 -1.755892  0.652470  2.736317"
      ]
     },
     "execution_count": 32,
     "metadata": {},
     "output_type": "execute_result"
    }
   ],
   "source": [
    "df[0:3]"
   ]
  },
  {
   "cell_type": "code",
   "execution_count": 33,
   "metadata": {
    "collapsed": false
   },
   "outputs": [
    {
     "data": {
      "text/html": [
       "<div>\n",
       "<table border=\"1\" class=\"dataframe\">\n",
       "  <thead>\n",
       "    <tr style=\"text-align: right;\">\n",
       "      <th></th>\n",
       "      <th>A</th>\n",
       "      <th>B</th>\n",
       "      <th>C</th>\n",
       "      <th>D</th>\n",
       "    </tr>\n",
       "  </thead>\n",
       "  <tbody>\n",
       "    <tr>\n",
       "      <th>2016-12-18</th>\n",
       "      <td>0.905467</td>\n",
       "      <td>0.726887</td>\n",
       "      <td>0.231299</td>\n",
       "      <td>-1.261442</td>\n",
       "    </tr>\n",
       "    <tr>\n",
       "      <th>2016-12-19</th>\n",
       "      <td>-0.275443</td>\n",
       "      <td>-0.935031</td>\n",
       "      <td>-0.201591</td>\n",
       "      <td>0.701677</td>\n",
       "    </tr>\n",
       "    <tr>\n",
       "      <th>2016-12-20</th>\n",
       "      <td>0.098073</td>\n",
       "      <td>-1.755892</td>\n",
       "      <td>0.652470</td>\n",
       "      <td>2.736317</td>\n",
       "    </tr>\n",
       "  </tbody>\n",
       "</table>\n",
       "</div>"
      ],
      "text/plain": [
       "                   A         B         C         D\n",
       "2016-12-18  0.905467  0.726887  0.231299 -1.261442\n",
       "2016-12-19 -0.275443 -0.935031 -0.201591  0.701677\n",
       "2016-12-20  0.098073 -1.755892  0.652470  2.736317"
      ]
     },
     "execution_count": 33,
     "metadata": {},
     "output_type": "execute_result"
    }
   ],
   "source": [
    "df['20161218':'20161220']"
   ]
  },
  {
   "cell_type": "code",
   "execution_count": 35,
   "metadata": {
    "collapsed": false
   },
   "outputs": [
    {
     "data": {
      "text/plain": [
       "A    0.905467\n",
       "B    0.726887\n",
       "C    0.231299\n",
       "D   -1.261442\n",
       "Name: 2016-12-18 00:00:00, dtype: float64"
      ]
     },
     "execution_count": 35,
     "metadata": {},
     "output_type": "execute_result"
    }
   ],
   "source": [
    "dates[0]\n",
    "# 按label选\n",
    "df.loc[dates[0]]"
   ]
  },
  {
   "cell_type": "code",
   "execution_count": 36,
   "metadata": {
    "collapsed": false
   },
   "outputs": [
    {
     "data": {
      "text/html": [
       "<div>\n",
       "<table border=\"1\" class=\"dataframe\">\n",
       "  <thead>\n",
       "    <tr style=\"text-align: right;\">\n",
       "      <th></th>\n",
       "      <th>A</th>\n",
       "      <th>B</th>\n",
       "    </tr>\n",
       "  </thead>\n",
       "  <tbody>\n",
       "    <tr>\n",
       "      <th>2016-12-18</th>\n",
       "      <td>0.905467</td>\n",
       "      <td>0.726887</td>\n",
       "    </tr>\n",
       "    <tr>\n",
       "      <th>2016-12-19</th>\n",
       "      <td>-0.275443</td>\n",
       "      <td>-0.935031</td>\n",
       "    </tr>\n",
       "    <tr>\n",
       "      <th>2016-12-20</th>\n",
       "      <td>0.098073</td>\n",
       "      <td>-1.755892</td>\n",
       "    </tr>\n",
       "    <tr>\n",
       "      <th>2016-12-21</th>\n",
       "      <td>0.316155</td>\n",
       "      <td>-1.351317</td>\n",
       "    </tr>\n",
       "    <tr>\n",
       "      <th>2016-12-22</th>\n",
       "      <td>-0.360690</td>\n",
       "      <td>0.541620</td>\n",
       "    </tr>\n",
       "    <tr>\n",
       "      <th>2016-12-23</th>\n",
       "      <td>-0.197813</td>\n",
       "      <td>-0.581270</td>\n",
       "    </tr>\n",
       "  </tbody>\n",
       "</table>\n",
       "</div>"
      ],
      "text/plain": [
       "                   A         B\n",
       "2016-12-18  0.905467  0.726887\n",
       "2016-12-19 -0.275443 -0.935031\n",
       "2016-12-20  0.098073 -1.755892\n",
       "2016-12-21  0.316155 -1.351317\n",
       "2016-12-22 -0.360690  0.541620\n",
       "2016-12-23 -0.197813 -0.581270"
      ]
     },
     "execution_count": 36,
     "metadata": {},
     "output_type": "execute_result"
    }
   ],
   "source": [
    "df.loc[:, ['A', 'B']]"
   ]
  },
  {
   "cell_type": "code",
   "execution_count": 37,
   "metadata": {
    "collapsed": false
   },
   "outputs": [
    {
     "data": {
      "text/html": [
       "<div>\n",
       "<table border=\"1\" class=\"dataframe\">\n",
       "  <thead>\n",
       "    <tr style=\"text-align: right;\">\n",
       "      <th></th>\n",
       "      <th>A</th>\n",
       "      <th>B</th>\n",
       "    </tr>\n",
       "  </thead>\n",
       "  <tbody>\n",
       "    <tr>\n",
       "      <th>2016-12-18</th>\n",
       "      <td>0.905467</td>\n",
       "      <td>0.726887</td>\n",
       "    </tr>\n",
       "    <tr>\n",
       "      <th>2016-12-19</th>\n",
       "      <td>-0.275443</td>\n",
       "      <td>-0.935031</td>\n",
       "    </tr>\n",
       "    <tr>\n",
       "      <th>2016-12-20</th>\n",
       "      <td>0.098073</td>\n",
       "      <td>-1.755892</td>\n",
       "    </tr>\n",
       "  </tbody>\n",
       "</table>\n",
       "</div>"
      ],
      "text/plain": [
       "                   A         B\n",
       "2016-12-18  0.905467  0.726887\n",
       "2016-12-19 -0.275443 -0.935031\n",
       "2016-12-20  0.098073 -1.755892"
      ]
     },
     "execution_count": 37,
     "metadata": {},
     "output_type": "execute_result"
    }
   ],
   "source": [
    "df.loc['20161218':'20161220',['A','B']]"
   ]
  },
  {
   "cell_type": "code",
   "execution_count": 38,
   "metadata": {
    "collapsed": false
   },
   "outputs": [
    {
     "data": {
      "text/plain": [
       "0.90546726623274798"
      ]
     },
     "execution_count": 38,
     "metadata": {},
     "output_type": "execute_result"
    }
   ],
   "source": [
    "df.at[dates[0],'A']"
   ]
  },
  {
   "cell_type": "markdown",
   "metadata": {},
   "source": [
    "### 布尔索引"
   ]
  },
  {
   "cell_type": "code",
   "execution_count": 39,
   "metadata": {
    "collapsed": false
   },
   "outputs": [
    {
     "data": {
      "text/html": [
       "<div>\n",
       "<table border=\"1\" class=\"dataframe\">\n",
       "  <thead>\n",
       "    <tr style=\"text-align: right;\">\n",
       "      <th></th>\n",
       "      <th>A</th>\n",
       "      <th>B</th>\n",
       "      <th>C</th>\n",
       "      <th>D</th>\n",
       "    </tr>\n",
       "  </thead>\n",
       "  <tbody>\n",
       "    <tr>\n",
       "      <th>2016-12-18</th>\n",
       "      <td>0.905467</td>\n",
       "      <td>0.726887</td>\n",
       "      <td>0.231299</td>\n",
       "      <td>-1.261442</td>\n",
       "    </tr>\n",
       "    <tr>\n",
       "      <th>2016-12-20</th>\n",
       "      <td>0.098073</td>\n",
       "      <td>-1.755892</td>\n",
       "      <td>0.652470</td>\n",
       "      <td>2.736317</td>\n",
       "    </tr>\n",
       "    <tr>\n",
       "      <th>2016-12-21</th>\n",
       "      <td>0.316155</td>\n",
       "      <td>-1.351317</td>\n",
       "      <td>-0.629193</td>\n",
       "      <td>-0.116595</td>\n",
       "    </tr>\n",
       "  </tbody>\n",
       "</table>\n",
       "</div>"
      ],
      "text/plain": [
       "                   A         B         C         D\n",
       "2016-12-18  0.905467  0.726887  0.231299 -1.261442\n",
       "2016-12-20  0.098073 -1.755892  0.652470  2.736317\n",
       "2016-12-21  0.316155 -1.351317 -0.629193 -0.116595"
      ]
     },
     "execution_count": 39,
     "metadata": {},
     "output_type": "execute_result"
    }
   ],
   "source": [
    "df[df.A > 0]"
   ]
  },
  {
   "cell_type": "code",
   "execution_count": 40,
   "metadata": {
    "collapsed": false
   },
   "outputs": [
    {
     "data": {
      "text/html": [
       "<div>\n",
       "<table border=\"1\" class=\"dataframe\">\n",
       "  <thead>\n",
       "    <tr style=\"text-align: right;\">\n",
       "      <th></th>\n",
       "      <th>A</th>\n",
       "      <th>B</th>\n",
       "      <th>C</th>\n",
       "      <th>D</th>\n",
       "    </tr>\n",
       "  </thead>\n",
       "  <tbody>\n",
       "    <tr>\n",
       "      <th>2016-12-18</th>\n",
       "      <td>0.905467</td>\n",
       "      <td>0.726887</td>\n",
       "      <td>0.231299</td>\n",
       "      <td>NaN</td>\n",
       "    </tr>\n",
       "    <tr>\n",
       "      <th>2016-12-19</th>\n",
       "      <td>NaN</td>\n",
       "      <td>NaN</td>\n",
       "      <td>NaN</td>\n",
       "      <td>0.701677</td>\n",
       "    </tr>\n",
       "    <tr>\n",
       "      <th>2016-12-20</th>\n",
       "      <td>0.098073</td>\n",
       "      <td>NaN</td>\n",
       "      <td>0.652470</td>\n",
       "      <td>2.736317</td>\n",
       "    </tr>\n",
       "    <tr>\n",
       "      <th>2016-12-21</th>\n",
       "      <td>0.316155</td>\n",
       "      <td>NaN</td>\n",
       "      <td>NaN</td>\n",
       "      <td>NaN</td>\n",
       "    </tr>\n",
       "    <tr>\n",
       "      <th>2016-12-22</th>\n",
       "      <td>NaN</td>\n",
       "      <td>0.541620</td>\n",
       "      <td>NaN</td>\n",
       "      <td>NaN</td>\n",
       "    </tr>\n",
       "    <tr>\n",
       "      <th>2016-12-23</th>\n",
       "      <td>NaN</td>\n",
       "      <td>NaN</td>\n",
       "      <td>0.464847</td>\n",
       "      <td>1.067717</td>\n",
       "    </tr>\n",
       "  </tbody>\n",
       "</table>\n",
       "</div>"
      ],
      "text/plain": [
       "                   A         B         C         D\n",
       "2016-12-18  0.905467  0.726887  0.231299       NaN\n",
       "2016-12-19       NaN       NaN       NaN  0.701677\n",
       "2016-12-20  0.098073       NaN  0.652470  2.736317\n",
       "2016-12-21  0.316155       NaN       NaN       NaN\n",
       "2016-12-22       NaN  0.541620       NaN       NaN\n",
       "2016-12-23       NaN       NaN  0.464847  1.067717"
      ]
     },
     "execution_count": 40,
     "metadata": {},
     "output_type": "execute_result"
    }
   ],
   "source": [
    "df[df > 0]"
   ]
  },
  {
   "cell_type": "code",
   "execution_count": 41,
   "metadata": {
    "collapsed": false
   },
   "outputs": [
    {
     "data": {
      "text/html": [
       "<div>\n",
       "<table border=\"1\" class=\"dataframe\">\n",
       "  <thead>\n",
       "    <tr style=\"text-align: right;\">\n",
       "      <th></th>\n",
       "      <th>A</th>\n",
       "      <th>B</th>\n",
       "      <th>C</th>\n",
       "      <th>D</th>\n",
       "      <th>E</th>\n",
       "    </tr>\n",
       "  </thead>\n",
       "  <tbody>\n",
       "    <tr>\n",
       "      <th>2016-12-18</th>\n",
       "      <td>0.905467</td>\n",
       "      <td>0.726887</td>\n",
       "      <td>0.231299</td>\n",
       "      <td>-1.261442</td>\n",
       "      <td>one</td>\n",
       "    </tr>\n",
       "    <tr>\n",
       "      <th>2016-12-19</th>\n",
       "      <td>-0.275443</td>\n",
       "      <td>-0.935031</td>\n",
       "      <td>-0.201591</td>\n",
       "      <td>0.701677</td>\n",
       "      <td>one</td>\n",
       "    </tr>\n",
       "    <tr>\n",
       "      <th>2016-12-20</th>\n",
       "      <td>0.098073</td>\n",
       "      <td>-1.755892</td>\n",
       "      <td>0.652470</td>\n",
       "      <td>2.736317</td>\n",
       "      <td>two</td>\n",
       "    </tr>\n",
       "    <tr>\n",
       "      <th>2016-12-21</th>\n",
       "      <td>0.316155</td>\n",
       "      <td>-1.351317</td>\n",
       "      <td>-0.629193</td>\n",
       "      <td>-0.116595</td>\n",
       "      <td>three</td>\n",
       "    </tr>\n",
       "    <tr>\n",
       "      <th>2016-12-22</th>\n",
       "      <td>-0.360690</td>\n",
       "      <td>0.541620</td>\n",
       "      <td>-1.751401</td>\n",
       "      <td>-0.967272</td>\n",
       "      <td>four</td>\n",
       "    </tr>\n",
       "    <tr>\n",
       "      <th>2016-12-23</th>\n",
       "      <td>-0.197813</td>\n",
       "      <td>-0.581270</td>\n",
       "      <td>0.464847</td>\n",
       "      <td>1.067717</td>\n",
       "      <td>three</td>\n",
       "    </tr>\n",
       "  </tbody>\n",
       "</table>\n",
       "</div>"
      ],
      "text/plain": [
       "                   A         B         C         D      E\n",
       "2016-12-18  0.905467  0.726887  0.231299 -1.261442    one\n",
       "2016-12-19 -0.275443 -0.935031 -0.201591  0.701677    one\n",
       "2016-12-20  0.098073 -1.755892  0.652470  2.736317    two\n",
       "2016-12-21  0.316155 -1.351317 -0.629193 -0.116595  three\n",
       "2016-12-22 -0.360690  0.541620 -1.751401 -0.967272   four\n",
       "2016-12-23 -0.197813 -0.581270  0.464847  1.067717  three"
      ]
     },
     "execution_count": 41,
     "metadata": {},
     "output_type": "execute_result"
    }
   ],
   "source": [
    "# 使用isin()过滤\n",
    "df2 = df.copy()\n",
    "df2['E'] = ['one','one','two','three','four','three']\n",
    "df2"
   ]
  },
  {
   "cell_type": "code",
   "execution_count": 43,
   "metadata": {
    "collapsed": false
   },
   "outputs": [
    {
     "name": "stdout",
     "output_type": "stream",
     "text": [
      "Wall time: 1e+03 µs\n"
     ]
    },
    {
     "data": {
      "text/html": [
       "<div>\n",
       "<table border=\"1\" class=\"dataframe\">\n",
       "  <thead>\n",
       "    <tr style=\"text-align: right;\">\n",
       "      <th></th>\n",
       "      <th>A</th>\n",
       "      <th>B</th>\n",
       "      <th>C</th>\n",
       "      <th>D</th>\n",
       "      <th>E</th>\n",
       "    </tr>\n",
       "  </thead>\n",
       "  <tbody>\n",
       "    <tr>\n",
       "      <th>2016-12-20</th>\n",
       "      <td>0.098073</td>\n",
       "      <td>-1.755892</td>\n",
       "      <td>0.652470</td>\n",
       "      <td>2.736317</td>\n",
       "      <td>two</td>\n",
       "    </tr>\n",
       "    <tr>\n",
       "      <th>2016-12-22</th>\n",
       "      <td>-0.360690</td>\n",
       "      <td>0.541620</td>\n",
       "      <td>-1.751401</td>\n",
       "      <td>-0.967272</td>\n",
       "      <td>four</td>\n",
       "    </tr>\n",
       "  </tbody>\n",
       "</table>\n",
       "</div>"
      ],
      "text/plain": [
       "                   A         B         C         D     E\n",
       "2016-12-20  0.098073 -1.755892  0.652470  2.736317   two\n",
       "2016-12-22 -0.360690  0.541620 -1.751401 -0.967272  four"
      ]
     },
     "execution_count": 43,
     "metadata": {},
     "output_type": "execute_result"
    }
   ],
   "source": [
    "%%time\n",
    "df2[df2['E'].isin(['two','four'])]"
   ]
  },
  {
   "cell_type": "code",
   "execution_count": 52,
   "metadata": {
    "collapsed": false
   },
   "outputs": [
    {
     "data": {
      "text/plain": [
       "2016-12-18    1\n",
       "2016-12-19    2\n",
       "2016-12-20    3\n",
       "2016-12-21    4\n",
       "2016-12-22    5\n",
       "2016-12-23    6\n",
       "Freq: D, dtype: int64"
      ]
     },
     "execution_count": 52,
     "metadata": {},
     "output_type": "execute_result"
    }
   ],
   "source": [
    "s1 = pd.Series([1,2,3,4,5,6], index=pd.date_range('20161218',periods=6))\n",
    "s1"
   ]
  },
  {
   "cell_type": "code",
   "execution_count": 53,
   "metadata": {
    "collapsed": false
   },
   "outputs": [
    {
     "data": {
      "text/html": [
       "<div>\n",
       "<table border=\"1\" class=\"dataframe\">\n",
       "  <thead>\n",
       "    <tr style=\"text-align: right;\">\n",
       "      <th></th>\n",
       "      <th>A</th>\n",
       "      <th>B</th>\n",
       "      <th>C</th>\n",
       "      <th>D</th>\n",
       "      <th>F</th>\n",
       "    </tr>\n",
       "  </thead>\n",
       "  <tbody>\n",
       "    <tr>\n",
       "      <th>2016-12-18</th>\n",
       "      <td>0.000000</td>\n",
       "      <td>0.000000</td>\n",
       "      <td>0.231299</td>\n",
       "      <td>-1.261442</td>\n",
       "      <td>1</td>\n",
       "    </tr>\n",
       "    <tr>\n",
       "      <th>2016-12-19</th>\n",
       "      <td>-0.275443</td>\n",
       "      <td>-0.935031</td>\n",
       "      <td>-0.201591</td>\n",
       "      <td>0.701677</td>\n",
       "      <td>2</td>\n",
       "    </tr>\n",
       "    <tr>\n",
       "      <th>2016-12-20</th>\n",
       "      <td>0.098073</td>\n",
       "      <td>-1.755892</td>\n",
       "      <td>0.652470</td>\n",
       "      <td>2.736317</td>\n",
       "      <td>3</td>\n",
       "    </tr>\n",
       "    <tr>\n",
       "      <th>2016-12-21</th>\n",
       "      <td>0.316155</td>\n",
       "      <td>-1.351317</td>\n",
       "      <td>-0.629193</td>\n",
       "      <td>-0.116595</td>\n",
       "      <td>4</td>\n",
       "    </tr>\n",
       "    <tr>\n",
       "      <th>2016-12-22</th>\n",
       "      <td>-0.360690</td>\n",
       "      <td>0.541620</td>\n",
       "      <td>-1.751401</td>\n",
       "      <td>-0.967272</td>\n",
       "      <td>5</td>\n",
       "    </tr>\n",
       "    <tr>\n",
       "      <th>2016-12-23</th>\n",
       "      <td>-0.197813</td>\n",
       "      <td>-0.581270</td>\n",
       "      <td>0.464847</td>\n",
       "      <td>1.067717</td>\n",
       "      <td>6</td>\n",
       "    </tr>\n",
       "  </tbody>\n",
       "</table>\n",
       "</div>"
      ],
      "text/plain": [
       "                   A         B         C         D  F\n",
       "2016-12-18  0.000000  0.000000  0.231299 -1.261442  1\n",
       "2016-12-19 -0.275443 -0.935031 -0.201591  0.701677  2\n",
       "2016-12-20  0.098073 -1.755892  0.652470  2.736317  3\n",
       "2016-12-21  0.316155 -1.351317 -0.629193 -0.116595  4\n",
       "2016-12-22 -0.360690  0.541620 -1.751401 -0.967272  5\n",
       "2016-12-23 -0.197813 -0.581270  0.464847  1.067717  6"
      ]
     },
     "execution_count": 53,
     "metadata": {},
     "output_type": "execute_result"
    }
   ],
   "source": [
    "df['F'] = s1\n",
    "df"
   ]
  },
  {
   "cell_type": "code",
   "execution_count": 54,
   "metadata": {
    "collapsed": false
   },
   "outputs": [
    {
     "data": {
      "text/html": [
       "<div>\n",
       "<table border=\"1\" class=\"dataframe\">\n",
       "  <thead>\n",
       "    <tr style=\"text-align: right;\">\n",
       "      <th></th>\n",
       "      <th>A</th>\n",
       "      <th>B</th>\n",
       "      <th>C</th>\n",
       "      <th>D</th>\n",
       "      <th>F</th>\n",
       "    </tr>\n",
       "  </thead>\n",
       "  <tbody>\n",
       "    <tr>\n",
       "      <th>2016-12-18</th>\n",
       "      <td>0.000000</td>\n",
       "      <td>0.000000</td>\n",
       "      <td>0.231299</td>\n",
       "      <td>-1.261442</td>\n",
       "      <td>1</td>\n",
       "    </tr>\n",
       "    <tr>\n",
       "      <th>2016-12-19</th>\n",
       "      <td>-0.275443</td>\n",
       "      <td>-0.935031</td>\n",
       "      <td>-0.201591</td>\n",
       "      <td>0.701677</td>\n",
       "      <td>2</td>\n",
       "    </tr>\n",
       "    <tr>\n",
       "      <th>2016-12-20</th>\n",
       "      <td>0.098073</td>\n",
       "      <td>-1.755892</td>\n",
       "      <td>0.652470</td>\n",
       "      <td>2.736317</td>\n",
       "      <td>3</td>\n",
       "    </tr>\n",
       "    <tr>\n",
       "      <th>2016-12-21</th>\n",
       "      <td>0.316155</td>\n",
       "      <td>-1.351317</td>\n",
       "      <td>-0.629193</td>\n",
       "      <td>-0.116595</td>\n",
       "      <td>4</td>\n",
       "    </tr>\n",
       "    <tr>\n",
       "      <th>2016-12-22</th>\n",
       "      <td>-0.360690</td>\n",
       "      <td>0.541620</td>\n",
       "      <td>-1.751401</td>\n",
       "      <td>-0.967272</td>\n",
       "      <td>5</td>\n",
       "    </tr>\n",
       "    <tr>\n",
       "      <th>2016-12-23</th>\n",
       "      <td>-0.197813</td>\n",
       "      <td>-0.581270</td>\n",
       "      <td>0.464847</td>\n",
       "      <td>1.067717</td>\n",
       "      <td>6</td>\n",
       "    </tr>\n",
       "  </tbody>\n",
       "</table>\n",
       "</div>"
      ],
      "text/plain": [
       "                   A         B         C         D  F\n",
       "2016-12-18  0.000000  0.000000  0.231299 -1.261442  1\n",
       "2016-12-19 -0.275443 -0.935031 -0.201591  0.701677  2\n",
       "2016-12-20  0.098073 -1.755892  0.652470  2.736317  3\n",
       "2016-12-21  0.316155 -1.351317 -0.629193 -0.116595  4\n",
       "2016-12-22 -0.360690  0.541620 -1.751401 -0.967272  5\n",
       "2016-12-23 -0.197813 -0.581270  0.464847  1.067717  6"
      ]
     },
     "execution_count": 54,
     "metadata": {},
     "output_type": "execute_result"
    }
   ],
   "source": [
    "# 根据标签修改值\n",
    "df.at[dates[0],'A'] = 0\n",
    "df"
   ]
  },
  {
   "cell_type": "code",
   "execution_count": 55,
   "metadata": {
    "collapsed": false
   },
   "outputs": [
    {
     "data": {
      "text/html": [
       "<div>\n",
       "<table border=\"1\" class=\"dataframe\">\n",
       "  <thead>\n",
       "    <tr style=\"text-align: right;\">\n",
       "      <th></th>\n",
       "      <th>A</th>\n",
       "      <th>B</th>\n",
       "      <th>C</th>\n",
       "      <th>D</th>\n",
       "      <th>F</th>\n",
       "    </tr>\n",
       "  </thead>\n",
       "  <tbody>\n",
       "    <tr>\n",
       "      <th>2016-12-18</th>\n",
       "      <td>0.000000</td>\n",
       "      <td>0.000000</td>\n",
       "      <td>0.231299</td>\n",
       "      <td>-1.261442</td>\n",
       "      <td>1</td>\n",
       "    </tr>\n",
       "    <tr>\n",
       "      <th>2016-12-19</th>\n",
       "      <td>-0.275443</td>\n",
       "      <td>-0.935031</td>\n",
       "      <td>-0.201591</td>\n",
       "      <td>0.701677</td>\n",
       "      <td>2</td>\n",
       "    </tr>\n",
       "    <tr>\n",
       "      <th>2016-12-20</th>\n",
       "      <td>0.098073</td>\n",
       "      <td>-1.755892</td>\n",
       "      <td>0.652470</td>\n",
       "      <td>2.736317</td>\n",
       "      <td>3</td>\n",
       "    </tr>\n",
       "    <tr>\n",
       "      <th>2016-12-21</th>\n",
       "      <td>0.316155</td>\n",
       "      <td>-1.351317</td>\n",
       "      <td>-0.629193</td>\n",
       "      <td>-0.116595</td>\n",
       "      <td>4</td>\n",
       "    </tr>\n",
       "    <tr>\n",
       "      <th>2016-12-22</th>\n",
       "      <td>-0.360690</td>\n",
       "      <td>0.541620</td>\n",
       "      <td>-1.751401</td>\n",
       "      <td>-0.967272</td>\n",
       "      <td>5</td>\n",
       "    </tr>\n",
       "    <tr>\n",
       "      <th>2016-12-23</th>\n",
       "      <td>-0.197813</td>\n",
       "      <td>-0.581270</td>\n",
       "      <td>0.464847</td>\n",
       "      <td>1.067717</td>\n",
       "      <td>6</td>\n",
       "    </tr>\n",
       "  </tbody>\n",
       "</table>\n",
       "</div>"
      ],
      "text/plain": [
       "                   A         B         C         D  F\n",
       "2016-12-18  0.000000  0.000000  0.231299 -1.261442  1\n",
       "2016-12-19 -0.275443 -0.935031 -0.201591  0.701677  2\n",
       "2016-12-20  0.098073 -1.755892  0.652470  2.736317  3\n",
       "2016-12-21  0.316155 -1.351317 -0.629193 -0.116595  4\n",
       "2016-12-22 -0.360690  0.541620 -1.751401 -0.967272  5\n",
       "2016-12-23 -0.197813 -0.581270  0.464847  1.067717  6"
      ]
     },
     "execution_count": 55,
     "metadata": {},
     "output_type": "execute_result"
    }
   ],
   "source": [
    "# 根据位置修改值\n",
    "df.iat[0,1] = 0\n",
    "df"
   ]
  },
  {
   "cell_type": "code",
   "execution_count": 57,
   "metadata": {
    "collapsed": false
   },
   "outputs": [
    {
     "data": {
      "text/html": [
       "<div>\n",
       "<table border=\"1\" class=\"dataframe\">\n",
       "  <thead>\n",
       "    <tr style=\"text-align: right;\">\n",
       "      <th></th>\n",
       "      <th>A</th>\n",
       "      <th>B</th>\n",
       "      <th>C</th>\n",
       "      <th>D</th>\n",
       "      <th>F</th>\n",
       "    </tr>\n",
       "  </thead>\n",
       "  <tbody>\n",
       "    <tr>\n",
       "      <th>2016-12-18</th>\n",
       "      <td>0.000000</td>\n",
       "      <td>0.000000</td>\n",
       "      <td>0.231299</td>\n",
       "      <td>5</td>\n",
       "      <td>1</td>\n",
       "    </tr>\n",
       "    <tr>\n",
       "      <th>2016-12-19</th>\n",
       "      <td>-0.275443</td>\n",
       "      <td>-0.935031</td>\n",
       "      <td>-0.201591</td>\n",
       "      <td>5</td>\n",
       "      <td>2</td>\n",
       "    </tr>\n",
       "    <tr>\n",
       "      <th>2016-12-20</th>\n",
       "      <td>0.098073</td>\n",
       "      <td>-1.755892</td>\n",
       "      <td>0.652470</td>\n",
       "      <td>5</td>\n",
       "      <td>3</td>\n",
       "    </tr>\n",
       "    <tr>\n",
       "      <th>2016-12-21</th>\n",
       "      <td>0.316155</td>\n",
       "      <td>-1.351317</td>\n",
       "      <td>-0.629193</td>\n",
       "      <td>5</td>\n",
       "      <td>4</td>\n",
       "    </tr>\n",
       "    <tr>\n",
       "      <th>2016-12-22</th>\n",
       "      <td>-0.360690</td>\n",
       "      <td>0.541620</td>\n",
       "      <td>-1.751401</td>\n",
       "      <td>5</td>\n",
       "      <td>5</td>\n",
       "    </tr>\n",
       "    <tr>\n",
       "      <th>2016-12-23</th>\n",
       "      <td>-0.197813</td>\n",
       "      <td>-0.581270</td>\n",
       "      <td>0.464847</td>\n",
       "      <td>5</td>\n",
       "      <td>6</td>\n",
       "    </tr>\n",
       "  </tbody>\n",
       "</table>\n",
       "</div>"
      ],
      "text/plain": [
       "                   A         B         C  D  F\n",
       "2016-12-18  0.000000  0.000000  0.231299  5  1\n",
       "2016-12-19 -0.275443 -0.935031 -0.201591  5  2\n",
       "2016-12-20  0.098073 -1.755892  0.652470  5  3\n",
       "2016-12-21  0.316155 -1.351317 -0.629193  5  4\n",
       "2016-12-22 -0.360690  0.541620 -1.751401  5  5\n",
       "2016-12-23 -0.197813 -0.581270  0.464847  5  6"
      ]
     },
     "execution_count": 57,
     "metadata": {},
     "output_type": "execute_result"
    }
   ],
   "source": [
    "df.loc[:,'D'] = np.array([5] * len(df))\n",
    "df"
   ]
  },
  {
   "cell_type": "code",
   "execution_count": 58,
   "metadata": {
    "collapsed": false
   },
   "outputs": [
    {
     "data": {
      "text/html": [
       "<div>\n",
       "<table border=\"1\" class=\"dataframe\">\n",
       "  <thead>\n",
       "    <tr style=\"text-align: right;\">\n",
       "      <th></th>\n",
       "      <th>A</th>\n",
       "      <th>B</th>\n",
       "      <th>C</th>\n",
       "      <th>D</th>\n",
       "      <th>F</th>\n",
       "    </tr>\n",
       "  </thead>\n",
       "  <tbody>\n",
       "    <tr>\n",
       "      <th>2016-12-18</th>\n",
       "      <td>0.000000</td>\n",
       "      <td>0.000000</td>\n",
       "      <td>-0.231299</td>\n",
       "      <td>-5</td>\n",
       "      <td>-1</td>\n",
       "    </tr>\n",
       "    <tr>\n",
       "      <th>2016-12-19</th>\n",
       "      <td>-0.275443</td>\n",
       "      <td>-0.935031</td>\n",
       "      <td>-0.201591</td>\n",
       "      <td>-5</td>\n",
       "      <td>-2</td>\n",
       "    </tr>\n",
       "    <tr>\n",
       "      <th>2016-12-20</th>\n",
       "      <td>-0.098073</td>\n",
       "      <td>-1.755892</td>\n",
       "      <td>-0.652470</td>\n",
       "      <td>-5</td>\n",
       "      <td>-3</td>\n",
       "    </tr>\n",
       "    <tr>\n",
       "      <th>2016-12-21</th>\n",
       "      <td>-0.316155</td>\n",
       "      <td>-1.351317</td>\n",
       "      <td>-0.629193</td>\n",
       "      <td>-5</td>\n",
       "      <td>-4</td>\n",
       "    </tr>\n",
       "    <tr>\n",
       "      <th>2016-12-22</th>\n",
       "      <td>-0.360690</td>\n",
       "      <td>-0.541620</td>\n",
       "      <td>-1.751401</td>\n",
       "      <td>-5</td>\n",
       "      <td>-5</td>\n",
       "    </tr>\n",
       "    <tr>\n",
       "      <th>2016-12-23</th>\n",
       "      <td>-0.197813</td>\n",
       "      <td>-0.581270</td>\n",
       "      <td>-0.464847</td>\n",
       "      <td>-5</td>\n",
       "      <td>-6</td>\n",
       "    </tr>\n",
       "  </tbody>\n",
       "</table>\n",
       "</div>"
      ],
      "text/plain": [
       "                   A         B         C  D  F\n",
       "2016-12-18  0.000000  0.000000 -0.231299 -5 -1\n",
       "2016-12-19 -0.275443 -0.935031 -0.201591 -5 -2\n",
       "2016-12-20 -0.098073 -1.755892 -0.652470 -5 -3\n",
       "2016-12-21 -0.316155 -1.351317 -0.629193 -5 -4\n",
       "2016-12-22 -0.360690 -0.541620 -1.751401 -5 -5\n",
       "2016-12-23 -0.197813 -0.581270 -0.464847 -5 -6"
      ]
     },
     "execution_count": 58,
     "metadata": {},
     "output_type": "execute_result"
    }
   ],
   "source": [
    "df2 = df.copy()\n",
    "df2[df2 > 0] = -df2\n",
    "df2"
   ]
  },
  {
   "cell_type": "markdown",
   "metadata": {},
   "source": [
    "### 缺失值"
   ]
  },
  {
   "cell_type": "code",
   "execution_count": 59,
   "metadata": {
    "collapsed": false
   },
   "outputs": [
    {
     "data": {
      "text/html": [
       "<div>\n",
       "<table border=\"1\" class=\"dataframe\">\n",
       "  <thead>\n",
       "    <tr style=\"text-align: right;\">\n",
       "      <th></th>\n",
       "      <th>A</th>\n",
       "      <th>B</th>\n",
       "      <th>C</th>\n",
       "      <th>D</th>\n",
       "      <th>F</th>\n",
       "      <th>E</th>\n",
       "    </tr>\n",
       "  </thead>\n",
       "  <tbody>\n",
       "    <tr>\n",
       "      <th>2016-12-18</th>\n",
       "      <td>0.000000</td>\n",
       "      <td>0.000000</td>\n",
       "      <td>0.231299</td>\n",
       "      <td>5</td>\n",
       "      <td>1</td>\n",
       "      <td>1.0</td>\n",
       "    </tr>\n",
       "    <tr>\n",
       "      <th>2016-12-19</th>\n",
       "      <td>-0.275443</td>\n",
       "      <td>-0.935031</td>\n",
       "      <td>-0.201591</td>\n",
       "      <td>5</td>\n",
       "      <td>2</td>\n",
       "      <td>1.0</td>\n",
       "    </tr>\n",
       "    <tr>\n",
       "      <th>2016-12-20</th>\n",
       "      <td>0.098073</td>\n",
       "      <td>-1.755892</td>\n",
       "      <td>0.652470</td>\n",
       "      <td>5</td>\n",
       "      <td>3</td>\n",
       "      <td>NaN</td>\n",
       "    </tr>\n",
       "    <tr>\n",
       "      <th>2016-12-21</th>\n",
       "      <td>0.316155</td>\n",
       "      <td>-1.351317</td>\n",
       "      <td>-0.629193</td>\n",
       "      <td>5</td>\n",
       "      <td>4</td>\n",
       "      <td>NaN</td>\n",
       "    </tr>\n",
       "  </tbody>\n",
       "</table>\n",
       "</div>"
      ],
      "text/plain": [
       "                   A         B         C  D  F    E\n",
       "2016-12-18  0.000000  0.000000  0.231299  5  1  1.0\n",
       "2016-12-19 -0.275443 -0.935031 -0.201591  5  2  1.0\n",
       "2016-12-20  0.098073 -1.755892  0.652470  5  3  NaN\n",
       "2016-12-21  0.316155 -1.351317 -0.629193  5  4  NaN"
      ]
     },
     "execution_count": 59,
     "metadata": {},
     "output_type": "execute_result"
    }
   ],
   "source": [
    "df1 = df.reindex(index=dates[0:4], columns=list(df.columns)+['E'])\n",
    "df1.loc[dates[0]:dates[1],'E'] = 1\n",
    "df1"
   ]
  },
  {
   "cell_type": "code",
   "execution_count": 60,
   "metadata": {
    "collapsed": false
   },
   "outputs": [
    {
     "data": {
      "text/html": [
       "<div>\n",
       "<table border=\"1\" class=\"dataframe\">\n",
       "  <thead>\n",
       "    <tr style=\"text-align: right;\">\n",
       "      <th></th>\n",
       "      <th>A</th>\n",
       "      <th>B</th>\n",
       "      <th>C</th>\n",
       "      <th>D</th>\n",
       "      <th>F</th>\n",
       "      <th>E</th>\n",
       "    </tr>\n",
       "  </thead>\n",
       "  <tbody>\n",
       "    <tr>\n",
       "      <th>2016-12-18</th>\n",
       "      <td>0.000000</td>\n",
       "      <td>0.000000</td>\n",
       "      <td>0.231299</td>\n",
       "      <td>5</td>\n",
       "      <td>1</td>\n",
       "      <td>1.0</td>\n",
       "    </tr>\n",
       "    <tr>\n",
       "      <th>2016-12-19</th>\n",
       "      <td>-0.275443</td>\n",
       "      <td>-0.935031</td>\n",
       "      <td>-0.201591</td>\n",
       "      <td>5</td>\n",
       "      <td>2</td>\n",
       "      <td>1.0</td>\n",
       "    </tr>\n",
       "  </tbody>\n",
       "</table>\n",
       "</div>"
      ],
      "text/plain": [
       "                   A         B         C  D  F    E\n",
       "2016-12-18  0.000000  0.000000  0.231299  5  1  1.0\n",
       "2016-12-19 -0.275443 -0.935031 -0.201591  5  2  1.0"
      ]
     },
     "execution_count": 60,
     "metadata": {},
     "output_type": "execute_result"
    }
   ],
   "source": [
    "df1.dropna(how='any')"
   ]
  },
  {
   "cell_type": "code",
   "execution_count": 61,
   "metadata": {
    "collapsed": false
   },
   "outputs": [
    {
     "data": {
      "text/html": [
       "<div>\n",
       "<table border=\"1\" class=\"dataframe\">\n",
       "  <thead>\n",
       "    <tr style=\"text-align: right;\">\n",
       "      <th></th>\n",
       "      <th>A</th>\n",
       "      <th>B</th>\n",
       "      <th>C</th>\n",
       "      <th>D</th>\n",
       "      <th>F</th>\n",
       "      <th>E</th>\n",
       "    </tr>\n",
       "  </thead>\n",
       "  <tbody>\n",
       "    <tr>\n",
       "      <th>2016-12-18</th>\n",
       "      <td>0.000000</td>\n",
       "      <td>0.000000</td>\n",
       "      <td>0.231299</td>\n",
       "      <td>5</td>\n",
       "      <td>1</td>\n",
       "      <td>1.0</td>\n",
       "    </tr>\n",
       "    <tr>\n",
       "      <th>2016-12-19</th>\n",
       "      <td>-0.275443</td>\n",
       "      <td>-0.935031</td>\n",
       "      <td>-0.201591</td>\n",
       "      <td>5</td>\n",
       "      <td>2</td>\n",
       "      <td>1.0</td>\n",
       "    </tr>\n",
       "    <tr>\n",
       "      <th>2016-12-20</th>\n",
       "      <td>0.098073</td>\n",
       "      <td>-1.755892</td>\n",
       "      <td>0.652470</td>\n",
       "      <td>5</td>\n",
       "      <td>3</td>\n",
       "      <td>NaN</td>\n",
       "    </tr>\n",
       "    <tr>\n",
       "      <th>2016-12-21</th>\n",
       "      <td>0.316155</td>\n",
       "      <td>-1.351317</td>\n",
       "      <td>-0.629193</td>\n",
       "      <td>5</td>\n",
       "      <td>4</td>\n",
       "      <td>NaN</td>\n",
       "    </tr>\n",
       "  </tbody>\n",
       "</table>\n",
       "</div>"
      ],
      "text/plain": [
       "                   A         B         C  D  F    E\n",
       "2016-12-18  0.000000  0.000000  0.231299  5  1  1.0\n",
       "2016-12-19 -0.275443 -0.935031 -0.201591  5  2  1.0\n",
       "2016-12-20  0.098073 -1.755892  0.652470  5  3  NaN\n",
       "2016-12-21  0.316155 -1.351317 -0.629193  5  4  NaN"
      ]
     },
     "execution_count": 61,
     "metadata": {},
     "output_type": "execute_result"
    }
   ],
   "source": [
    "df1"
   ]
  },
  {
   "cell_type": "code",
   "execution_count": 63,
   "metadata": {
    "collapsed": false
   },
   "outputs": [
    {
     "data": {
      "text/html": [
       "<div>\n",
       "<table border=\"1\" class=\"dataframe\">\n",
       "  <thead>\n",
       "    <tr style=\"text-align: right;\">\n",
       "      <th></th>\n",
       "      <th>A</th>\n",
       "      <th>B</th>\n",
       "      <th>C</th>\n",
       "      <th>D</th>\n",
       "      <th>F</th>\n",
       "      <th>E</th>\n",
       "    </tr>\n",
       "  </thead>\n",
       "  <tbody>\n",
       "    <tr>\n",
       "      <th>2016-12-18</th>\n",
       "      <td>0.000000</td>\n",
       "      <td>0.000000</td>\n",
       "      <td>0.231299</td>\n",
       "      <td>5</td>\n",
       "      <td>1</td>\n",
       "      <td>1.0</td>\n",
       "    </tr>\n",
       "    <tr>\n",
       "      <th>2016-12-19</th>\n",
       "      <td>-0.275443</td>\n",
       "      <td>-0.935031</td>\n",
       "      <td>-0.201591</td>\n",
       "      <td>5</td>\n",
       "      <td>2</td>\n",
       "      <td>1.0</td>\n",
       "    </tr>\n",
       "    <tr>\n",
       "      <th>2016-12-20</th>\n",
       "      <td>0.098073</td>\n",
       "      <td>-1.755892</td>\n",
       "      <td>0.652470</td>\n",
       "      <td>5</td>\n",
       "      <td>3</td>\n",
       "      <td>5.0</td>\n",
       "    </tr>\n",
       "    <tr>\n",
       "      <th>2016-12-21</th>\n",
       "      <td>0.316155</td>\n",
       "      <td>-1.351317</td>\n",
       "      <td>-0.629193</td>\n",
       "      <td>5</td>\n",
       "      <td>4</td>\n",
       "      <td>5.0</td>\n",
       "    </tr>\n",
       "  </tbody>\n",
       "</table>\n",
       "</div>"
      ],
      "text/plain": [
       "                   A         B         C  D  F    E\n",
       "2016-12-18  0.000000  0.000000  0.231299  5  1  1.0\n",
       "2016-12-19 -0.275443 -0.935031 -0.201591  5  2  1.0\n",
       "2016-12-20  0.098073 -1.755892  0.652470  5  3  5.0\n",
       "2016-12-21  0.316155 -1.351317 -0.629193  5  4  5.0"
      ]
     },
     "execution_count": 63,
     "metadata": {},
     "output_type": "execute_result"
    }
   ],
   "source": [
    "#缺失值填充\n",
    "df1.fillna(value=5)"
   ]
  },
  {
   "cell_type": "code",
   "execution_count": 64,
   "metadata": {
    "collapsed": false
   },
   "outputs": [
    {
     "data": {
      "text/html": [
       "<div>\n",
       "<table border=\"1\" class=\"dataframe\">\n",
       "  <thead>\n",
       "    <tr style=\"text-align: right;\">\n",
       "      <th></th>\n",
       "      <th>A</th>\n",
       "      <th>B</th>\n",
       "      <th>C</th>\n",
       "      <th>D</th>\n",
       "      <th>F</th>\n",
       "      <th>E</th>\n",
       "    </tr>\n",
       "  </thead>\n",
       "  <tbody>\n",
       "    <tr>\n",
       "      <th>2016-12-18</th>\n",
       "      <td>False</td>\n",
       "      <td>False</td>\n",
       "      <td>False</td>\n",
       "      <td>False</td>\n",
       "      <td>False</td>\n",
       "      <td>False</td>\n",
       "    </tr>\n",
       "    <tr>\n",
       "      <th>2016-12-19</th>\n",
       "      <td>False</td>\n",
       "      <td>False</td>\n",
       "      <td>False</td>\n",
       "      <td>False</td>\n",
       "      <td>False</td>\n",
       "      <td>False</td>\n",
       "    </tr>\n",
       "    <tr>\n",
       "      <th>2016-12-20</th>\n",
       "      <td>False</td>\n",
       "      <td>False</td>\n",
       "      <td>False</td>\n",
       "      <td>False</td>\n",
       "      <td>False</td>\n",
       "      <td>True</td>\n",
       "    </tr>\n",
       "    <tr>\n",
       "      <th>2016-12-21</th>\n",
       "      <td>False</td>\n",
       "      <td>False</td>\n",
       "      <td>False</td>\n",
       "      <td>False</td>\n",
       "      <td>False</td>\n",
       "      <td>True</td>\n",
       "    </tr>\n",
       "  </tbody>\n",
       "</table>\n",
       "</div>"
      ],
      "text/plain": [
       "                A      B      C      D      F      E\n",
       "2016-12-18  False  False  False  False  False  False\n",
       "2016-12-19  False  False  False  False  False  False\n",
       "2016-12-20  False  False  False  False  False   True\n",
       "2016-12-21  False  False  False  False  False   True"
      ]
     },
     "execution_count": 64,
     "metadata": {},
     "output_type": "execute_result"
    }
   ],
   "source": [
    "# 判断是否为缺失值\n",
    "pd.isnull(df1)"
   ]
  },
  {
   "cell_type": "markdown",
   "metadata": {},
   "source": [
    "## 操作"
   ]
  },
  {
   "cell_type": "code",
   "execution_count": 66,
   "metadata": {
    "collapsed": false
   },
   "outputs": [
    {
     "data": {
      "text/plain": [
       "A   -0.069953\n",
       "B   -0.680315\n",
       "C   -0.205595\n",
       "D    5.000000\n",
       "F    3.500000\n",
       "dtype: float64"
      ]
     },
     "execution_count": 66,
     "metadata": {},
     "output_type": "execute_result"
    }
   ],
   "source": [
    "# 统计\n",
    "df.mean()#按列求均值"
   ]
  },
  {
   "cell_type": "code",
   "execution_count": 67,
   "metadata": {
    "collapsed": false
   },
   "outputs": [
    {
     "data": {
      "text/plain": [
       "2016-12-18    1.246260\n",
       "2016-12-19    1.117587\n",
       "2016-12-20    1.398930\n",
       "2016-12-21    1.467129\n",
       "2016-12-22    1.685906\n",
       "2016-12-23    2.137153\n",
       "Freq: D, dtype: float64"
      ]
     },
     "execution_count": 67,
     "metadata": {},
     "output_type": "execute_result"
    }
   ],
   "source": [
    "df.mean(1)#按横轴求均值"
   ]
  },
  {
   "cell_type": "code",
   "execution_count": 68,
   "metadata": {
    "collapsed": false
   },
   "outputs": [
    {
     "data": {
      "text/plain": [
       "2016-12-18    NaN\n",
       "2016-12-19    NaN\n",
       "2016-12-20    1.0\n",
       "2016-12-21    3.0\n",
       "2016-12-22    5.0\n",
       "2016-12-23    NaN\n",
       "Freq: D, dtype: float64"
      ]
     },
     "execution_count": 68,
     "metadata": {},
     "output_type": "execute_result"
    }
   ],
   "source": [
    "s = pd.Series([1,3,5,np.nan,6,8], index=dates).shift(2)\n",
    "s"
   ]
  },
  {
   "cell_type": "code",
   "execution_count": 69,
   "metadata": {
    "collapsed": false
   },
   "outputs": [
    {
     "data": {
      "text/html": [
       "<div>\n",
       "<table border=\"1\" class=\"dataframe\">\n",
       "  <thead>\n",
       "    <tr style=\"text-align: right;\">\n",
       "      <th></th>\n",
       "      <th>A</th>\n",
       "      <th>B</th>\n",
       "      <th>C</th>\n",
       "      <th>D</th>\n",
       "      <th>F</th>\n",
       "    </tr>\n",
       "  </thead>\n",
       "  <tbody>\n",
       "    <tr>\n",
       "      <th>2016-12-18</th>\n",
       "      <td>NaN</td>\n",
       "      <td>NaN</td>\n",
       "      <td>NaN</td>\n",
       "      <td>NaN</td>\n",
       "      <td>NaN</td>\n",
       "    </tr>\n",
       "    <tr>\n",
       "      <th>2016-12-19</th>\n",
       "      <td>NaN</td>\n",
       "      <td>NaN</td>\n",
       "      <td>NaN</td>\n",
       "      <td>NaN</td>\n",
       "      <td>NaN</td>\n",
       "    </tr>\n",
       "    <tr>\n",
       "      <th>2016-12-20</th>\n",
       "      <td>-0.901927</td>\n",
       "      <td>-2.755892</td>\n",
       "      <td>-0.347530</td>\n",
       "      <td>4.0</td>\n",
       "      <td>2.0</td>\n",
       "    </tr>\n",
       "    <tr>\n",
       "      <th>2016-12-21</th>\n",
       "      <td>-2.683845</td>\n",
       "      <td>-4.351317</td>\n",
       "      <td>-3.629193</td>\n",
       "      <td>2.0</td>\n",
       "      <td>1.0</td>\n",
       "    </tr>\n",
       "    <tr>\n",
       "      <th>2016-12-22</th>\n",
       "      <td>-5.360690</td>\n",
       "      <td>-4.458380</td>\n",
       "      <td>-6.751401</td>\n",
       "      <td>0.0</td>\n",
       "      <td>0.0</td>\n",
       "    </tr>\n",
       "    <tr>\n",
       "      <th>2016-12-23</th>\n",
       "      <td>NaN</td>\n",
       "      <td>NaN</td>\n",
       "      <td>NaN</td>\n",
       "      <td>NaN</td>\n",
       "      <td>NaN</td>\n",
       "    </tr>\n",
       "  </tbody>\n",
       "</table>\n",
       "</div>"
      ],
      "text/plain": [
       "                   A         B         C    D    F\n",
       "2016-12-18       NaN       NaN       NaN  NaN  NaN\n",
       "2016-12-19       NaN       NaN       NaN  NaN  NaN\n",
       "2016-12-20 -0.901927 -2.755892 -0.347530  4.0  2.0\n",
       "2016-12-21 -2.683845 -4.351317 -3.629193  2.0  1.0\n",
       "2016-12-22 -5.360690 -4.458380 -6.751401  0.0  0.0\n",
       "2016-12-23       NaN       NaN       NaN  NaN  NaN"
      ]
     },
     "execution_count": 69,
     "metadata": {},
     "output_type": "execute_result"
    }
   ],
   "source": [
    "df.sub(s, axis='index')"
   ]
  },
  {
   "cell_type": "markdown",
   "metadata": {},
   "source": [
    "### Apply"
   ]
  },
  {
   "cell_type": "code",
   "execution_count": 70,
   "metadata": {
    "collapsed": false
   },
   "outputs": [
    {
     "data": {
      "text/html": [
       "<div>\n",
       "<table border=\"1\" class=\"dataframe\">\n",
       "  <thead>\n",
       "    <tr style=\"text-align: right;\">\n",
       "      <th></th>\n",
       "      <th>A</th>\n",
       "      <th>B</th>\n",
       "      <th>C</th>\n",
       "      <th>D</th>\n",
       "      <th>F</th>\n",
       "    </tr>\n",
       "  </thead>\n",
       "  <tbody>\n",
       "    <tr>\n",
       "      <th>2016-12-18</th>\n",
       "      <td>0.000000</td>\n",
       "      <td>0.000000</td>\n",
       "      <td>0.231299</td>\n",
       "      <td>5</td>\n",
       "      <td>1</td>\n",
       "    </tr>\n",
       "    <tr>\n",
       "      <th>2016-12-19</th>\n",
       "      <td>-0.275443</td>\n",
       "      <td>-0.935031</td>\n",
       "      <td>0.029708</td>\n",
       "      <td>10</td>\n",
       "      <td>3</td>\n",
       "    </tr>\n",
       "    <tr>\n",
       "      <th>2016-12-20</th>\n",
       "      <td>-0.177370</td>\n",
       "      <td>-2.690923</td>\n",
       "      <td>0.682178</td>\n",
       "      <td>15</td>\n",
       "      <td>6</td>\n",
       "    </tr>\n",
       "    <tr>\n",
       "      <th>2016-12-21</th>\n",
       "      <td>0.138785</td>\n",
       "      <td>-4.042240</td>\n",
       "      <td>0.052985</td>\n",
       "      <td>20</td>\n",
       "      <td>10</td>\n",
       "    </tr>\n",
       "    <tr>\n",
       "      <th>2016-12-22</th>\n",
       "      <td>-0.221905</td>\n",
       "      <td>-3.500620</td>\n",
       "      <td>-1.698416</td>\n",
       "      <td>25</td>\n",
       "      <td>15</td>\n",
       "    </tr>\n",
       "    <tr>\n",
       "      <th>2016-12-23</th>\n",
       "      <td>-0.419718</td>\n",
       "      <td>-4.081890</td>\n",
       "      <td>-1.233569</td>\n",
       "      <td>30</td>\n",
       "      <td>21</td>\n",
       "    </tr>\n",
       "  </tbody>\n",
       "</table>\n",
       "</div>"
      ],
      "text/plain": [
       "                   A         B         C   D   F\n",
       "2016-12-18  0.000000  0.000000  0.231299   5   1\n",
       "2016-12-19 -0.275443 -0.935031  0.029708  10   3\n",
       "2016-12-20 -0.177370 -2.690923  0.682178  15   6\n",
       "2016-12-21  0.138785 -4.042240  0.052985  20  10\n",
       "2016-12-22 -0.221905 -3.500620 -1.698416  25  15\n",
       "2016-12-23 -0.419718 -4.081890 -1.233569  30  21"
      ]
     },
     "execution_count": 70,
     "metadata": {},
     "output_type": "execute_result"
    }
   ],
   "source": [
    "df.apply(np.cumsum)"
   ]
  },
  {
   "cell_type": "code",
   "execution_count": 72,
   "metadata": {
    "collapsed": false
   },
   "outputs": [
    {
     "data": {
      "text/plain": [
       "A    0.676844\n",
       "B    2.297512\n",
       "C    2.403871\n",
       "D    0.000000\n",
       "F    5.000000\n",
       "dtype: float64"
      ]
     },
     "execution_count": 72,
     "metadata": {},
     "output_type": "execute_result"
    }
   ],
   "source": [
    "df.apply(lambda x: x.max()-x.min())"
   ]
  },
  {
   "cell_type": "markdown",
   "metadata": {},
   "source": [
    "### 直方图"
   ]
  },
  {
   "cell_type": "code",
   "execution_count": 73,
   "metadata": {
    "collapsed": false
   },
   "outputs": [
    {
     "data": {
      "text/plain": [
       "0    1\n",
       "1    3\n",
       "2    1\n",
       "3    2\n",
       "4    2\n",
       "5    1\n",
       "6    6\n",
       "7    3\n",
       "8    4\n",
       "9    4\n",
       "dtype: int32"
      ]
     },
     "execution_count": 73,
     "metadata": {},
     "output_type": "execute_result"
    }
   ],
   "source": [
    "s = pd.Series(np.random.randint(0,7, size=10))\n",
    "s"
   ]
  },
  {
   "cell_type": "code",
   "execution_count": 74,
   "metadata": {
    "collapsed": false
   },
   "outputs": [
    {
     "data": {
      "text/plain": [
       "1    3\n",
       "4    2\n",
       "3    2\n",
       "2    2\n",
       "6    1\n",
       "dtype: int64"
      ]
     },
     "execution_count": 74,
     "metadata": {},
     "output_type": "execute_result"
    }
   ],
   "source": [
    "s.value_counts()"
   ]
  },
  {
   "cell_type": "markdown",
   "metadata": {},
   "source": [
    "### 字符串方法"
   ]
  },
  {
   "cell_type": "code",
   "execution_count": 75,
   "metadata": {
    "collapsed": false
   },
   "outputs": [
    {
     "data": {
      "text/plain": [
       "0       a\n",
       "1       b\n",
       "2       c\n",
       "3    aaba\n",
       "4    baca\n",
       "5     NaN\n",
       "6    caba\n",
       "7     dog\n",
       "8     cat\n",
       "dtype: object"
      ]
     },
     "execution_count": 75,
     "metadata": {},
     "output_type": "execute_result"
    }
   ],
   "source": [
    "s = pd.Series(['A', 'B', 'C', 'Aaba', 'Baca', np.nan, 'CABA', 'dog', 'cat'])\n",
    "s.str.lower()"
   ]
  },
  {
   "cell_type": "markdown",
   "metadata": {},
   "source": [
    "## Merge"
   ]
  },
  {
   "cell_type": "code",
   "execution_count": 76,
   "metadata": {
    "collapsed": false
   },
   "outputs": [
    {
     "data": {
      "text/html": [
       "<div>\n",
       "<table border=\"1\" class=\"dataframe\">\n",
       "  <thead>\n",
       "    <tr style=\"text-align: right;\">\n",
       "      <th></th>\n",
       "      <th>0</th>\n",
       "      <th>1</th>\n",
       "      <th>2</th>\n",
       "      <th>3</th>\n",
       "    </tr>\n",
       "  </thead>\n",
       "  <tbody>\n",
       "    <tr>\n",
       "      <th>0</th>\n",
       "      <td>-0.124476</td>\n",
       "      <td>1.932231</td>\n",
       "      <td>-0.655084</td>\n",
       "      <td>-0.994914</td>\n",
       "    </tr>\n",
       "    <tr>\n",
       "      <th>1</th>\n",
       "      <td>-1.244800</td>\n",
       "      <td>-0.136422</td>\n",
       "      <td>0.508562</td>\n",
       "      <td>0.253991</td>\n",
       "    </tr>\n",
       "    <tr>\n",
       "      <th>2</th>\n",
       "      <td>-1.694227</td>\n",
       "      <td>-0.347796</td>\n",
       "      <td>0.522086</td>\n",
       "      <td>0.310504</td>\n",
       "    </tr>\n",
       "    <tr>\n",
       "      <th>3</th>\n",
       "      <td>0.954835</td>\n",
       "      <td>-0.043389</td>\n",
       "      <td>0.361855</td>\n",
       "      <td>-1.066020</td>\n",
       "    </tr>\n",
       "    <tr>\n",
       "      <th>4</th>\n",
       "      <td>-0.020228</td>\n",
       "      <td>-1.153833</td>\n",
       "      <td>-1.433697</td>\n",
       "      <td>0.460062</td>\n",
       "    </tr>\n",
       "    <tr>\n",
       "      <th>5</th>\n",
       "      <td>-1.470585</td>\n",
       "      <td>0.768873</td>\n",
       "      <td>0.095500</td>\n",
       "      <td>-0.084362</td>\n",
       "    </tr>\n",
       "    <tr>\n",
       "      <th>6</th>\n",
       "      <td>0.142769</td>\n",
       "      <td>-1.793267</td>\n",
       "      <td>0.933985</td>\n",
       "      <td>0.821671</td>\n",
       "    </tr>\n",
       "    <tr>\n",
       "      <th>7</th>\n",
       "      <td>0.944840</td>\n",
       "      <td>-0.647658</td>\n",
       "      <td>0.354811</td>\n",
       "      <td>0.029253</td>\n",
       "    </tr>\n",
       "    <tr>\n",
       "      <th>8</th>\n",
       "      <td>1.445511</td>\n",
       "      <td>0.531496</td>\n",
       "      <td>1.567952</td>\n",
       "      <td>-0.249491</td>\n",
       "    </tr>\n",
       "    <tr>\n",
       "      <th>9</th>\n",
       "      <td>0.279347</td>\n",
       "      <td>-0.207916</td>\n",
       "      <td>0.192195</td>\n",
       "      <td>-0.026013</td>\n",
       "    </tr>\n",
       "  </tbody>\n",
       "</table>\n",
       "</div>"
      ],
      "text/plain": [
       "          0         1         2         3\n",
       "0 -0.124476  1.932231 -0.655084 -0.994914\n",
       "1 -1.244800 -0.136422  0.508562  0.253991\n",
       "2 -1.694227 -0.347796  0.522086  0.310504\n",
       "3  0.954835 -0.043389  0.361855 -1.066020\n",
       "4 -0.020228 -1.153833 -1.433697  0.460062\n",
       "5 -1.470585  0.768873  0.095500 -0.084362\n",
       "6  0.142769 -1.793267  0.933985  0.821671\n",
       "7  0.944840 -0.647658  0.354811  0.029253\n",
       "8  1.445511  0.531496  1.567952 -0.249491\n",
       "9  0.279347 -0.207916  0.192195 -0.026013"
      ]
     },
     "execution_count": 76,
     "metadata": {},
     "output_type": "execute_result"
    }
   ],
   "source": [
    "df = pd.DataFrame(np.random.randn(10,4))\n",
    "df"
   ]
  },
  {
   "cell_type": "code",
   "execution_count": 77,
   "metadata": {
    "collapsed": false
   },
   "outputs": [
    {
     "data": {
      "text/html": [
       "<div>\n",
       "<table border=\"1\" class=\"dataframe\">\n",
       "  <thead>\n",
       "    <tr style=\"text-align: right;\">\n",
       "      <th></th>\n",
       "      <th>0</th>\n",
       "      <th>1</th>\n",
       "      <th>2</th>\n",
       "      <th>3</th>\n",
       "    </tr>\n",
       "  </thead>\n",
       "  <tbody>\n",
       "    <tr>\n",
       "      <th>0</th>\n",
       "      <td>-0.124476</td>\n",
       "      <td>1.932231</td>\n",
       "      <td>-0.655084</td>\n",
       "      <td>-0.994914</td>\n",
       "    </tr>\n",
       "    <tr>\n",
       "      <th>1</th>\n",
       "      <td>-1.244800</td>\n",
       "      <td>-0.136422</td>\n",
       "      <td>0.508562</td>\n",
       "      <td>0.253991</td>\n",
       "    </tr>\n",
       "    <tr>\n",
       "      <th>2</th>\n",
       "      <td>-1.694227</td>\n",
       "      <td>-0.347796</td>\n",
       "      <td>0.522086</td>\n",
       "      <td>0.310504</td>\n",
       "    </tr>\n",
       "  </tbody>\n",
       "</table>\n",
       "</div>"
      ],
      "text/plain": [
       "          0         1         2         3\n",
       "0 -0.124476  1.932231 -0.655084 -0.994914\n",
       "1 -1.244800 -0.136422  0.508562  0.253991\n",
       "2 -1.694227 -0.347796  0.522086  0.310504"
      ]
     },
     "execution_count": 77,
     "metadata": {},
     "output_type": "execute_result"
    }
   ],
   "source": [
    "df[:3]#前三行"
   ]
  },
  {
   "cell_type": "code",
   "execution_count": 78,
   "metadata": {
    "collapsed": false
   },
   "outputs": [
    {
     "data": {
      "text/plain": [
       "[          0         1         2         3\n",
       " 0 -0.124476  1.932231 -0.655084 -0.994914\n",
       " 1 -1.244800 -0.136422  0.508562  0.253991\n",
       " 2 -1.694227 -0.347796  0.522086  0.310504,\n",
       "           0         1         2         3\n",
       " 3  0.954835 -0.043389  0.361855 -1.066020\n",
       " 4 -0.020228 -1.153833 -1.433697  0.460062\n",
       " 5 -1.470585  0.768873  0.095500 -0.084362\n",
       " 6  0.142769 -1.793267  0.933985  0.821671,\n",
       "           0         1         2         3\n",
       " 7  0.944840 -0.647658  0.354811  0.029253\n",
       " 8  1.445511  0.531496  1.567952 -0.249491\n",
       " 9  0.279347 -0.207916  0.192195 -0.026013]"
      ]
     },
     "execution_count": 78,
     "metadata": {},
     "output_type": "execute_result"
    }
   ],
   "source": [
    "pieces = [df[:3], df[3:7], df[7:]]\n",
    "pieces"
   ]
  },
  {
   "cell_type": "code",
   "execution_count": 79,
   "metadata": {
    "collapsed": false
   },
   "outputs": [
    {
     "data": {
      "text/html": [
       "<div>\n",
       "<table border=\"1\" class=\"dataframe\">\n",
       "  <thead>\n",
       "    <tr style=\"text-align: right;\">\n",
       "      <th></th>\n",
       "      <th>0</th>\n",
       "      <th>1</th>\n",
       "      <th>2</th>\n",
       "      <th>3</th>\n",
       "    </tr>\n",
       "  </thead>\n",
       "  <tbody>\n",
       "    <tr>\n",
       "      <th>0</th>\n",
       "      <td>-0.124476</td>\n",
       "      <td>1.932231</td>\n",
       "      <td>-0.655084</td>\n",
       "      <td>-0.994914</td>\n",
       "    </tr>\n",
       "    <tr>\n",
       "      <th>1</th>\n",
       "      <td>-1.244800</td>\n",
       "      <td>-0.136422</td>\n",
       "      <td>0.508562</td>\n",
       "      <td>0.253991</td>\n",
       "    </tr>\n",
       "    <tr>\n",
       "      <th>2</th>\n",
       "      <td>-1.694227</td>\n",
       "      <td>-0.347796</td>\n",
       "      <td>0.522086</td>\n",
       "      <td>0.310504</td>\n",
       "    </tr>\n",
       "    <tr>\n",
       "      <th>3</th>\n",
       "      <td>0.954835</td>\n",
       "      <td>-0.043389</td>\n",
       "      <td>0.361855</td>\n",
       "      <td>-1.066020</td>\n",
       "    </tr>\n",
       "    <tr>\n",
       "      <th>4</th>\n",
       "      <td>-0.020228</td>\n",
       "      <td>-1.153833</td>\n",
       "      <td>-1.433697</td>\n",
       "      <td>0.460062</td>\n",
       "    </tr>\n",
       "    <tr>\n",
       "      <th>5</th>\n",
       "      <td>-1.470585</td>\n",
       "      <td>0.768873</td>\n",
       "      <td>0.095500</td>\n",
       "      <td>-0.084362</td>\n",
       "    </tr>\n",
       "    <tr>\n",
       "      <th>6</th>\n",
       "      <td>0.142769</td>\n",
       "      <td>-1.793267</td>\n",
       "      <td>0.933985</td>\n",
       "      <td>0.821671</td>\n",
       "    </tr>\n",
       "    <tr>\n",
       "      <th>7</th>\n",
       "      <td>0.944840</td>\n",
       "      <td>-0.647658</td>\n",
       "      <td>0.354811</td>\n",
       "      <td>0.029253</td>\n",
       "    </tr>\n",
       "    <tr>\n",
       "      <th>8</th>\n",
       "      <td>1.445511</td>\n",
       "      <td>0.531496</td>\n",
       "      <td>1.567952</td>\n",
       "      <td>-0.249491</td>\n",
       "    </tr>\n",
       "    <tr>\n",
       "      <th>9</th>\n",
       "      <td>0.279347</td>\n",
       "      <td>-0.207916</td>\n",
       "      <td>0.192195</td>\n",
       "      <td>-0.026013</td>\n",
       "    </tr>\n",
       "  </tbody>\n",
       "</table>\n",
       "</div>"
      ],
      "text/plain": [
       "          0         1         2         3\n",
       "0 -0.124476  1.932231 -0.655084 -0.994914\n",
       "1 -1.244800 -0.136422  0.508562  0.253991\n",
       "2 -1.694227 -0.347796  0.522086  0.310504\n",
       "3  0.954835 -0.043389  0.361855 -1.066020\n",
       "4 -0.020228 -1.153833 -1.433697  0.460062\n",
       "5 -1.470585  0.768873  0.095500 -0.084362\n",
       "6  0.142769 -1.793267  0.933985  0.821671\n",
       "7  0.944840 -0.647658  0.354811  0.029253\n",
       "8  1.445511  0.531496  1.567952 -0.249491\n",
       "9  0.279347 -0.207916  0.192195 -0.026013"
      ]
     },
     "execution_count": 79,
     "metadata": {},
     "output_type": "execute_result"
    }
   ],
   "source": [
    "pd.concat(pieces)# concat拼接 按行加"
   ]
  },
  {
   "cell_type": "markdown",
   "metadata": {},
   "source": [
    "### join"
   ]
  },
  {
   "cell_type": "code",
   "execution_count": 80,
   "metadata": {
    "collapsed": false
   },
   "outputs": [
    {
     "data": {
      "text/html": [
       "<div>\n",
       "<table border=\"1\" class=\"dataframe\">\n",
       "  <thead>\n",
       "    <tr style=\"text-align: right;\">\n",
       "      <th></th>\n",
       "      <th>key</th>\n",
       "      <th>lval</th>\n",
       "      <th>rval</th>\n",
       "    </tr>\n",
       "  </thead>\n",
       "  <tbody>\n",
       "    <tr>\n",
       "      <th>0</th>\n",
       "      <td>foo</td>\n",
       "      <td>1</td>\n",
       "      <td>4</td>\n",
       "    </tr>\n",
       "    <tr>\n",
       "      <th>1</th>\n",
       "      <td>foo</td>\n",
       "      <td>1</td>\n",
       "      <td>5</td>\n",
       "    </tr>\n",
       "    <tr>\n",
       "      <th>2</th>\n",
       "      <td>foo</td>\n",
       "      <td>2</td>\n",
       "      <td>4</td>\n",
       "    </tr>\n",
       "    <tr>\n",
       "      <th>3</th>\n",
       "      <td>foo</td>\n",
       "      <td>2</td>\n",
       "      <td>5</td>\n",
       "    </tr>\n",
       "  </tbody>\n",
       "</table>\n",
       "</div>"
      ],
      "text/plain": [
       "   key  lval  rval\n",
       "0  foo     1     4\n",
       "1  foo     1     5\n",
       "2  foo     2     4\n",
       "3  foo     2     5"
      ]
     },
     "execution_count": 80,
     "metadata": {},
     "output_type": "execute_result"
    }
   ],
   "source": [
    "left = pd.DataFrame({'key':['foo', 'foo'], 'lval':[1,2]})\n",
    "right = pd.DataFrame({'key': ['foo', 'foo'], 'rval': [4, 5]})\n",
    "pd.merge(left, right, on='key')"
   ]
  },
  {
   "cell_type": "code",
   "execution_count": 81,
   "metadata": {
    "collapsed": false
   },
   "outputs": [
    {
     "data": {
      "text/html": [
       "<div>\n",
       "<table border=\"1\" class=\"dataframe\">\n",
       "  <thead>\n",
       "    <tr style=\"text-align: right;\">\n",
       "      <th></th>\n",
       "      <th>key</th>\n",
       "      <th>lval</th>\n",
       "      <th>rval</th>\n",
       "    </tr>\n",
       "  </thead>\n",
       "  <tbody>\n",
       "    <tr>\n",
       "      <th>0</th>\n",
       "      <td>foo</td>\n",
       "      <td>1</td>\n",
       "      <td>4</td>\n",
       "    </tr>\n",
       "    <tr>\n",
       "      <th>1</th>\n",
       "      <td>bar</td>\n",
       "      <td>2</td>\n",
       "      <td>5</td>\n",
       "    </tr>\n",
       "  </tbody>\n",
       "</table>\n",
       "</div>"
      ],
      "text/plain": [
       "   key  lval  rval\n",
       "0  foo     1     4\n",
       "1  bar     2     5"
      ]
     },
     "execution_count": 81,
     "metadata": {},
     "output_type": "execute_result"
    }
   ],
   "source": [
    "left = pd.DataFrame({'key':['foo', 'bar'], 'lval':[1,2]})\n",
    "right = pd.DataFrame({'key': ['foo', 'bar'], 'rval': [4, 5]})\n",
    "pd.merge(left, right, on='key')"
   ]
  },
  {
   "cell_type": "markdown",
   "metadata": {},
   "source": [
    "###  append"
   ]
  },
  {
   "cell_type": "code",
   "execution_count": 82,
   "metadata": {
    "collapsed": false
   },
   "outputs": [
    {
     "data": {
      "text/html": [
       "<div>\n",
       "<table border=\"1\" class=\"dataframe\">\n",
       "  <thead>\n",
       "    <tr style=\"text-align: right;\">\n",
       "      <th></th>\n",
       "      <th>A</th>\n",
       "      <th>B</th>\n",
       "      <th>C</th>\n",
       "      <th>D</th>\n",
       "    </tr>\n",
       "  </thead>\n",
       "  <tbody>\n",
       "    <tr>\n",
       "      <th>0</th>\n",
       "      <td>-1.244313</td>\n",
       "      <td>0.487037</td>\n",
       "      <td>0.813655</td>\n",
       "      <td>1.548241</td>\n",
       "    </tr>\n",
       "    <tr>\n",
       "      <th>1</th>\n",
       "      <td>-1.073009</td>\n",
       "      <td>0.389993</td>\n",
       "      <td>-0.804088</td>\n",
       "      <td>0.748901</td>\n",
       "    </tr>\n",
       "    <tr>\n",
       "      <th>2</th>\n",
       "      <td>-1.679539</td>\n",
       "      <td>0.435586</td>\n",
       "      <td>0.112779</td>\n",
       "      <td>0.837882</td>\n",
       "    </tr>\n",
       "    <tr>\n",
       "      <th>3</th>\n",
       "      <td>-0.297352</td>\n",
       "      <td>0.388375</td>\n",
       "      <td>0.555010</td>\n",
       "      <td>0.459818</td>\n",
       "    </tr>\n",
       "    <tr>\n",
       "      <th>4</th>\n",
       "      <td>-0.190298</td>\n",
       "      <td>0.280373</td>\n",
       "      <td>0.477889</td>\n",
       "      <td>1.423645</td>\n",
       "    </tr>\n",
       "    <tr>\n",
       "      <th>5</th>\n",
       "      <td>0.746571</td>\n",
       "      <td>-0.776692</td>\n",
       "      <td>-1.231798</td>\n",
       "      <td>-0.313188</td>\n",
       "    </tr>\n",
       "    <tr>\n",
       "      <th>6</th>\n",
       "      <td>0.638461</td>\n",
       "      <td>-1.602918</td>\n",
       "      <td>0.469786</td>\n",
       "      <td>-0.267037</td>\n",
       "    </tr>\n",
       "    <tr>\n",
       "      <th>7</th>\n",
       "      <td>1.259509</td>\n",
       "      <td>-2.007323</td>\n",
       "      <td>0.186262</td>\n",
       "      <td>-0.531230</td>\n",
       "    </tr>\n",
       "  </tbody>\n",
       "</table>\n",
       "</div>"
      ],
      "text/plain": [
       "          A         B         C         D\n",
       "0 -1.244313  0.487037  0.813655  1.548241\n",
       "1 -1.073009  0.389993 -0.804088  0.748901\n",
       "2 -1.679539  0.435586  0.112779  0.837882\n",
       "3 -0.297352  0.388375  0.555010  0.459818\n",
       "4 -0.190298  0.280373  0.477889  1.423645\n",
       "5  0.746571 -0.776692 -1.231798 -0.313188\n",
       "6  0.638461 -1.602918  0.469786 -0.267037\n",
       "7  1.259509 -2.007323  0.186262 -0.531230"
      ]
     },
     "execution_count": 82,
     "metadata": {},
     "output_type": "execute_result"
    }
   ],
   "source": [
    "df = pd.DataFrame(np.random.randn(8,4), columns=list('ABCD'))\n",
    "df"
   ]
  },
  {
   "cell_type": "code",
   "execution_count": 86,
   "metadata": {
    "collapsed": true
   },
   "outputs": [],
   "source": [
    "s = df.iloc[3]#第四行\n",
    "\n",
    "t = df.iloc[:,3] #第四列"
   ]
  },
  {
   "cell_type": "code",
   "execution_count": 87,
   "metadata": {
    "collapsed": false
   },
   "outputs": [
    {
     "data": {
      "text/html": [
       "<div>\n",
       "<table border=\"1\" class=\"dataframe\">\n",
       "  <thead>\n",
       "    <tr style=\"text-align: right;\">\n",
       "      <th></th>\n",
       "      <th>A</th>\n",
       "      <th>B</th>\n",
       "      <th>C</th>\n",
       "      <th>D</th>\n",
       "    </tr>\n",
       "  </thead>\n",
       "  <tbody>\n",
       "    <tr>\n",
       "      <th>0</th>\n",
       "      <td>-1.244313</td>\n",
       "      <td>0.487037</td>\n",
       "      <td>0.813655</td>\n",
       "      <td>1.548241</td>\n",
       "    </tr>\n",
       "    <tr>\n",
       "      <th>1</th>\n",
       "      <td>-1.073009</td>\n",
       "      <td>0.389993</td>\n",
       "      <td>-0.804088</td>\n",
       "      <td>0.748901</td>\n",
       "    </tr>\n",
       "    <tr>\n",
       "      <th>2</th>\n",
       "      <td>-1.679539</td>\n",
       "      <td>0.435586</td>\n",
       "      <td>0.112779</td>\n",
       "      <td>0.837882</td>\n",
       "    </tr>\n",
       "    <tr>\n",
       "      <th>3</th>\n",
       "      <td>-0.297352</td>\n",
       "      <td>0.388375</td>\n",
       "      <td>0.555010</td>\n",
       "      <td>0.459818</td>\n",
       "    </tr>\n",
       "    <tr>\n",
       "      <th>4</th>\n",
       "      <td>-0.190298</td>\n",
       "      <td>0.280373</td>\n",
       "      <td>0.477889</td>\n",
       "      <td>1.423645</td>\n",
       "    </tr>\n",
       "    <tr>\n",
       "      <th>5</th>\n",
       "      <td>0.746571</td>\n",
       "      <td>-0.776692</td>\n",
       "      <td>-1.231798</td>\n",
       "      <td>-0.313188</td>\n",
       "    </tr>\n",
       "    <tr>\n",
       "      <th>6</th>\n",
       "      <td>0.638461</td>\n",
       "      <td>-1.602918</td>\n",
       "      <td>0.469786</td>\n",
       "      <td>-0.267037</td>\n",
       "    </tr>\n",
       "    <tr>\n",
       "      <th>7</th>\n",
       "      <td>1.259509</td>\n",
       "      <td>-2.007323</td>\n",
       "      <td>0.186262</td>\n",
       "      <td>-0.531230</td>\n",
       "    </tr>\n",
       "    <tr>\n",
       "      <th>8</th>\n",
       "      <td>-0.297352</td>\n",
       "      <td>0.388375</td>\n",
       "      <td>0.555010</td>\n",
       "      <td>0.459818</td>\n",
       "    </tr>\n",
       "  </tbody>\n",
       "</table>\n",
       "</div>"
      ],
      "text/plain": [
       "          A         B         C         D\n",
       "0 -1.244313  0.487037  0.813655  1.548241\n",
       "1 -1.073009  0.389993 -0.804088  0.748901\n",
       "2 -1.679539  0.435586  0.112779  0.837882\n",
       "3 -0.297352  0.388375  0.555010  0.459818\n",
       "4 -0.190298  0.280373  0.477889  1.423645\n",
       "5  0.746571 -0.776692 -1.231798 -0.313188\n",
       "6  0.638461 -1.602918  0.469786 -0.267037\n",
       "7  1.259509 -2.007323  0.186262 -0.531230\n",
       "8 -0.297352  0.388375  0.555010  0.459818"
      ]
     },
     "execution_count": 87,
     "metadata": {},
     "output_type": "execute_result"
    }
   ],
   "source": [
    "df.append(s, ignore_index=True)"
   ]
  },
  {
   "cell_type": "markdown",
   "metadata": {},
   "source": [
    "### Grouping聚合"
   ]
  },
  {
   "cell_type": "code",
   "execution_count": 88,
   "metadata": {
    "collapsed": false
   },
   "outputs": [
    {
     "data": {
      "text/html": [
       "<div>\n",
       "<table border=\"1\" class=\"dataframe\">\n",
       "  <thead>\n",
       "    <tr style=\"text-align: right;\">\n",
       "      <th></th>\n",
       "      <th>A</th>\n",
       "      <th>B</th>\n",
       "      <th>C</th>\n",
       "      <th>D</th>\n",
       "    </tr>\n",
       "  </thead>\n",
       "  <tbody>\n",
       "    <tr>\n",
       "      <th>0</th>\n",
       "      <td>foo</td>\n",
       "      <td>one</td>\n",
       "      <td>-0.259827</td>\n",
       "      <td>0.608252</td>\n",
       "    </tr>\n",
       "    <tr>\n",
       "      <th>1</th>\n",
       "      <td>bar</td>\n",
       "      <td>one</td>\n",
       "      <td>0.397497</td>\n",
       "      <td>-0.880844</td>\n",
       "    </tr>\n",
       "    <tr>\n",
       "      <th>2</th>\n",
       "      <td>foo</td>\n",
       "      <td>two</td>\n",
       "      <td>1.685502</td>\n",
       "      <td>2.267696</td>\n",
       "    </tr>\n",
       "    <tr>\n",
       "      <th>3</th>\n",
       "      <td>bar</td>\n",
       "      <td>three</td>\n",
       "      <td>1.059339</td>\n",
       "      <td>1.298087</td>\n",
       "    </tr>\n",
       "    <tr>\n",
       "      <th>4</th>\n",
       "      <td>foo</td>\n",
       "      <td>two</td>\n",
       "      <td>0.811070</td>\n",
       "      <td>0.391070</td>\n",
       "    </tr>\n",
       "    <tr>\n",
       "      <th>5</th>\n",
       "      <td>bar</td>\n",
       "      <td>two</td>\n",
       "      <td>-1.322046</td>\n",
       "      <td>1.222570</td>\n",
       "    </tr>\n",
       "    <tr>\n",
       "      <th>6</th>\n",
       "      <td>foo</td>\n",
       "      <td>one</td>\n",
       "      <td>1.591796</td>\n",
       "      <td>0.420410</td>\n",
       "    </tr>\n",
       "    <tr>\n",
       "      <th>7</th>\n",
       "      <td>foo</td>\n",
       "      <td>three</td>\n",
       "      <td>-0.958073</td>\n",
       "      <td>0.610151</td>\n",
       "    </tr>\n",
       "  </tbody>\n",
       "</table>\n",
       "</div>"
      ],
      "text/plain": [
       "     A      B         C         D\n",
       "0  foo    one -0.259827  0.608252\n",
       "1  bar    one  0.397497 -0.880844\n",
       "2  foo    two  1.685502  2.267696\n",
       "3  bar  three  1.059339  1.298087\n",
       "4  foo    two  0.811070  0.391070\n",
       "5  bar    two -1.322046  1.222570\n",
       "6  foo    one  1.591796  0.420410\n",
       "7  foo  three -0.958073  0.610151"
      ]
     },
     "execution_count": 88,
     "metadata": {},
     "output_type": "execute_result"
    }
   ],
   "source": [
    "df = pd.DataFrame({'A' : ['foo', 'bar', 'foo', 'bar',\n",
    "                          'foo', 'bar', 'foo', 'foo'],\n",
    "                   'B' : ['one', 'one', 'two', 'three',\n",
    "                          'two', 'two', 'one', 'three'],\n",
    "                   'C' : np.random.randn(8),\n",
    "                   'D' : np.random.randn(8)})\n",
    "df"
   ]
  },
  {
   "cell_type": "code",
   "execution_count": 89,
   "metadata": {
    "collapsed": false
   },
   "outputs": [
    {
     "data": {
      "text/html": [
       "<div>\n",
       "<table border=\"1\" class=\"dataframe\">\n",
       "  <thead>\n",
       "    <tr style=\"text-align: right;\">\n",
       "      <th></th>\n",
       "      <th>C</th>\n",
       "      <th>D</th>\n",
       "    </tr>\n",
       "    <tr>\n",
       "      <th>A</th>\n",
       "      <th></th>\n",
       "      <th></th>\n",
       "    </tr>\n",
       "  </thead>\n",
       "  <tbody>\n",
       "    <tr>\n",
       "      <th>bar</th>\n",
       "      <td>0.134790</td>\n",
       "      <td>1.639813</td>\n",
       "    </tr>\n",
       "    <tr>\n",
       "      <th>foo</th>\n",
       "      <td>2.870467</td>\n",
       "      <td>4.297580</td>\n",
       "    </tr>\n",
       "  </tbody>\n",
       "</table>\n",
       "</div>"
      ],
      "text/plain": [
       "            C         D\n",
       "A                      \n",
       "bar  0.134790  1.639813\n",
       "foo  2.870467  4.297580"
      ]
     },
     "execution_count": 89,
     "metadata": {},
     "output_type": "execute_result"
    }
   ],
   "source": [
    "df.groupby('A').sum() #聚合求和"
   ]
  },
  {
   "cell_type": "markdown",
   "metadata": {},
   "source": [
    "### Reshape"
   ]
  },
  {
   "cell_type": "code",
   "execution_count": 92,
   "metadata": {
    "collapsed": false
   },
   "outputs": [
    {
     "data": {
      "text/plain": [
       "[('bar', 'one'),\n",
       " ('bar', 'two'),\n",
       " ('baz', 'one'),\n",
       " ('baz', 'two'),\n",
       " ('foo', 'one'),\n",
       " ('foo', 'two'),\n",
       " ('qux', 'one'),\n",
       " ('qux', 'two')]"
      ]
     },
     "execution_count": 92,
     "metadata": {},
     "output_type": "execute_result"
    }
   ],
   "source": [
    "tuples = list(zip(*[['bar', 'bar', 'baz', 'baz',\n",
    "                     'foo', 'foo', 'qux', 'qux'],\n",
    "                    ['one', 'two', 'one', 'two',\n",
    "                     'one', 'two', 'one', 'two']]))\n",
    "tuples"
   ]
  },
  {
   "cell_type": "code",
   "execution_count": 93,
   "metadata": {
    "collapsed": false
   },
   "outputs": [
    {
     "data": {
      "text/plain": [
       "MultiIndex(levels=[[u'bar', u'baz', u'foo', u'qux'], [u'one', u'two']],\n",
       "           labels=[[0, 0, 1, 1, 2, 2, 3, 3], [0, 1, 0, 1, 0, 1, 0, 1]],\n",
       "           names=[u'first', u'second'])"
      ]
     },
     "execution_count": 93,
     "metadata": {},
     "output_type": "execute_result"
    }
   ],
   "source": [
    "index = pd.MultiIndex.from_tuples(tuples,names=['first','second'])\n",
    "index"
   ]
  },
  {
   "cell_type": "code",
   "execution_count": 94,
   "metadata": {
    "collapsed": false
   },
   "outputs": [
    {
     "data": {
      "text/html": [
       "<div>\n",
       "<table border=\"1\" class=\"dataframe\">\n",
       "  <thead>\n",
       "    <tr style=\"text-align: right;\">\n",
       "      <th></th>\n",
       "      <th></th>\n",
       "      <th>A</th>\n",
       "      <th>B</th>\n",
       "    </tr>\n",
       "    <tr>\n",
       "      <th>first</th>\n",
       "      <th>second</th>\n",
       "      <th></th>\n",
       "      <th></th>\n",
       "    </tr>\n",
       "  </thead>\n",
       "  <tbody>\n",
       "    <tr>\n",
       "      <th rowspan=\"2\" valign=\"top\">bar</th>\n",
       "      <th>one</th>\n",
       "      <td>-1.385926</td>\n",
       "      <td>1.133564</td>\n",
       "    </tr>\n",
       "    <tr>\n",
       "      <th>two</th>\n",
       "      <td>0.129725</td>\n",
       "      <td>0.763149</td>\n",
       "    </tr>\n",
       "    <tr>\n",
       "      <th rowspan=\"2\" valign=\"top\">baz</th>\n",
       "      <th>one</th>\n",
       "      <td>0.659805</td>\n",
       "      <td>0.051334</td>\n",
       "    </tr>\n",
       "    <tr>\n",
       "      <th>two</th>\n",
       "      <td>0.548517</td>\n",
       "      <td>-0.289576</td>\n",
       "    </tr>\n",
       "    <tr>\n",
       "      <th rowspan=\"2\" valign=\"top\">foo</th>\n",
       "      <th>one</th>\n",
       "      <td>0.617839</td>\n",
       "      <td>-1.234820</td>\n",
       "    </tr>\n",
       "    <tr>\n",
       "      <th>two</th>\n",
       "      <td>-0.772116</td>\n",
       "      <td>-0.463556</td>\n",
       "    </tr>\n",
       "    <tr>\n",
       "      <th rowspan=\"2\" valign=\"top\">qux</th>\n",
       "      <th>one</th>\n",
       "      <td>-0.253618</td>\n",
       "      <td>-0.119805</td>\n",
       "    </tr>\n",
       "    <tr>\n",
       "      <th>two</th>\n",
       "      <td>-0.393647</td>\n",
       "      <td>0.497282</td>\n",
       "    </tr>\n",
       "  </tbody>\n",
       "</table>\n",
       "</div>"
      ],
      "text/plain": [
       "                     A         B\n",
       "first second                    \n",
       "bar   one    -1.385926  1.133564\n",
       "      two     0.129725  0.763149\n",
       "baz   one     0.659805  0.051334\n",
       "      two     0.548517 -0.289576\n",
       "foo   one     0.617839 -1.234820\n",
       "      two    -0.772116 -0.463556\n",
       "qux   one    -0.253618 -0.119805\n",
       "      two    -0.393647  0.497282"
      ]
     },
     "execution_count": 94,
     "metadata": {},
     "output_type": "execute_result"
    }
   ],
   "source": [
    "df = pd.DataFrame(np.random.randn(8,2), index=index, columns=['A', 'B'])\n",
    "df"
   ]
  },
  {
   "cell_type": "code",
   "execution_count": 96,
   "metadata": {
    "collapsed": false
   },
   "outputs": [
    {
     "data": {
      "text/html": [
       "<div>\n",
       "<table border=\"1\" class=\"dataframe\">\n",
       "  <thead>\n",
       "    <tr style=\"text-align: right;\">\n",
       "      <th></th>\n",
       "      <th></th>\n",
       "      <th>A</th>\n",
       "      <th>B</th>\n",
       "    </tr>\n",
       "    <tr>\n",
       "      <th>first</th>\n",
       "      <th>second</th>\n",
       "      <th></th>\n",
       "      <th></th>\n",
       "    </tr>\n",
       "  </thead>\n",
       "  <tbody>\n",
       "    <tr>\n",
       "      <th rowspan=\"2\" valign=\"top\">bar</th>\n",
       "      <th>one</th>\n",
       "      <td>-1.385926</td>\n",
       "      <td>1.133564</td>\n",
       "    </tr>\n",
       "    <tr>\n",
       "      <th>two</th>\n",
       "      <td>0.129725</td>\n",
       "      <td>0.763149</td>\n",
       "    </tr>\n",
       "    <tr>\n",
       "      <th rowspan=\"2\" valign=\"top\">baz</th>\n",
       "      <th>one</th>\n",
       "      <td>0.659805</td>\n",
       "      <td>0.051334</td>\n",
       "    </tr>\n",
       "    <tr>\n",
       "      <th>two</th>\n",
       "      <td>0.548517</td>\n",
       "      <td>-0.289576</td>\n",
       "    </tr>\n",
       "  </tbody>\n",
       "</table>\n",
       "</div>"
      ],
      "text/plain": [
       "                     A         B\n",
       "first second                    \n",
       "bar   one    -1.385926  1.133564\n",
       "      two     0.129725  0.763149\n",
       "baz   one     0.659805  0.051334\n",
       "      two     0.548517 -0.289576"
      ]
     },
     "execution_count": 96,
     "metadata": {},
     "output_type": "execute_result"
    }
   ],
   "source": [
    "df2 = df[:4]\n",
    "df2"
   ]
  },
  {
   "cell_type": "markdown",
   "metadata": {},
   "source": [
    "### stack()"
   ]
  },
  {
   "cell_type": "code",
   "execution_count": 97,
   "metadata": {
    "collapsed": false
   },
   "outputs": [
    {
     "data": {
      "text/plain": [
       "first  second   \n",
       "bar    one     A   -1.385926\n",
       "               B    1.133564\n",
       "       two     A    0.129725\n",
       "               B    0.763149\n",
       "baz    one     A    0.659805\n",
       "               B    0.051334\n",
       "       two     A    0.548517\n",
       "               B   -0.289576\n",
       "dtype: float64"
      ]
     },
     "execution_count": 97,
     "metadata": {},
     "output_type": "execute_result"
    }
   ],
   "source": [
    "stacked = df2.stack()\n",
    "stacked"
   ]
  },
  {
   "cell_type": "code",
   "execution_count": 98,
   "metadata": {
    "collapsed": false
   },
   "outputs": [
    {
     "data": {
      "text/html": [
       "<div>\n",
       "<table border=\"1\" class=\"dataframe\">\n",
       "  <thead>\n",
       "    <tr style=\"text-align: right;\">\n",
       "      <th></th>\n",
       "      <th></th>\n",
       "      <th>A</th>\n",
       "      <th>B</th>\n",
       "    </tr>\n",
       "    <tr>\n",
       "      <th>first</th>\n",
       "      <th>second</th>\n",
       "      <th></th>\n",
       "      <th></th>\n",
       "    </tr>\n",
       "  </thead>\n",
       "  <tbody>\n",
       "    <tr>\n",
       "      <th rowspan=\"2\" valign=\"top\">bar</th>\n",
       "      <th>one</th>\n",
       "      <td>-1.385926</td>\n",
       "      <td>1.133564</td>\n",
       "    </tr>\n",
       "    <tr>\n",
       "      <th>two</th>\n",
       "      <td>0.129725</td>\n",
       "      <td>0.763149</td>\n",
       "    </tr>\n",
       "    <tr>\n",
       "      <th rowspan=\"2\" valign=\"top\">baz</th>\n",
       "      <th>one</th>\n",
       "      <td>0.659805</td>\n",
       "      <td>0.051334</td>\n",
       "    </tr>\n",
       "    <tr>\n",
       "      <th>two</th>\n",
       "      <td>0.548517</td>\n",
       "      <td>-0.289576</td>\n",
       "    </tr>\n",
       "  </tbody>\n",
       "</table>\n",
       "</div>"
      ],
      "text/plain": [
       "                     A         B\n",
       "first second                    \n",
       "bar   one    -1.385926  1.133564\n",
       "      two     0.129725  0.763149\n",
       "baz   one     0.659805  0.051334\n",
       "      two     0.548517 -0.289576"
      ]
     },
     "execution_count": 98,
     "metadata": {},
     "output_type": "execute_result"
    }
   ],
   "source": [
    "stacked.unstack()"
   ]
  },
  {
   "cell_type": "code",
   "execution_count": 99,
   "metadata": {
    "collapsed": false
   },
   "outputs": [
    {
     "data": {
      "text/html": [
       "<div>\n",
       "<table border=\"1\" class=\"dataframe\">\n",
       "  <thead>\n",
       "    <tr style=\"text-align: right;\">\n",
       "      <th></th>\n",
       "      <th>second</th>\n",
       "      <th>one</th>\n",
       "      <th>two</th>\n",
       "    </tr>\n",
       "    <tr>\n",
       "      <th>first</th>\n",
       "      <th></th>\n",
       "      <th></th>\n",
       "      <th></th>\n",
       "    </tr>\n",
       "  </thead>\n",
       "  <tbody>\n",
       "    <tr>\n",
       "      <th rowspan=\"2\" valign=\"top\">bar</th>\n",
       "      <th>A</th>\n",
       "      <td>-1.385926</td>\n",
       "      <td>0.129725</td>\n",
       "    </tr>\n",
       "    <tr>\n",
       "      <th>B</th>\n",
       "      <td>1.133564</td>\n",
       "      <td>0.763149</td>\n",
       "    </tr>\n",
       "    <tr>\n",
       "      <th rowspan=\"2\" valign=\"top\">baz</th>\n",
       "      <th>A</th>\n",
       "      <td>0.659805</td>\n",
       "      <td>0.548517</td>\n",
       "    </tr>\n",
       "    <tr>\n",
       "      <th>B</th>\n",
       "      <td>0.051334</td>\n",
       "      <td>-0.289576</td>\n",
       "    </tr>\n",
       "  </tbody>\n",
       "</table>\n",
       "</div>"
      ],
      "text/plain": [
       "second        one       two\n",
       "first                      \n",
       "bar   A -1.385926  0.129725\n",
       "      B  1.133564  0.763149\n",
       "baz   A  0.659805  0.548517\n",
       "      B  0.051334 -0.289576"
      ]
     },
     "execution_count": 99,
     "metadata": {},
     "output_type": "execute_result"
    }
   ],
   "source": [
    "stacked.unstack(1)#默认 last level最后一层"
   ]
  },
  {
   "cell_type": "code",
   "execution_count": 100,
   "metadata": {
    "collapsed": false
   },
   "outputs": [
    {
     "data": {
      "text/html": [
       "<div>\n",
       "<table border=\"1\" class=\"dataframe\">\n",
       "  <thead>\n",
       "    <tr style=\"text-align: right;\">\n",
       "      <th></th>\n",
       "      <th>first</th>\n",
       "      <th>bar</th>\n",
       "      <th>baz</th>\n",
       "    </tr>\n",
       "    <tr>\n",
       "      <th>second</th>\n",
       "      <th></th>\n",
       "      <th></th>\n",
       "      <th></th>\n",
       "    </tr>\n",
       "  </thead>\n",
       "  <tbody>\n",
       "    <tr>\n",
       "      <th rowspan=\"2\" valign=\"top\">one</th>\n",
       "      <th>A</th>\n",
       "      <td>-1.385926</td>\n",
       "      <td>0.659805</td>\n",
       "    </tr>\n",
       "    <tr>\n",
       "      <th>B</th>\n",
       "      <td>1.133564</td>\n",
       "      <td>0.051334</td>\n",
       "    </tr>\n",
       "    <tr>\n",
       "      <th rowspan=\"2\" valign=\"top\">two</th>\n",
       "      <th>A</th>\n",
       "      <td>0.129725</td>\n",
       "      <td>0.548517</td>\n",
       "    </tr>\n",
       "    <tr>\n",
       "      <th>B</th>\n",
       "      <td>0.763149</td>\n",
       "      <td>-0.289576</td>\n",
       "    </tr>\n",
       "  </tbody>\n",
       "</table>\n",
       "</div>"
      ],
      "text/plain": [
       "first          bar       baz\n",
       "second                      \n",
       "one    A -1.385926  0.659805\n",
       "       B  1.133564  0.051334\n",
       "two    A  0.129725  0.548517\n",
       "       B  0.763149 -0.289576"
      ]
     },
     "execution_count": 100,
     "metadata": {},
     "output_type": "execute_result"
    }
   ],
   "source": [
    "stacked.unstack(0)"
   ]
  },
  {
   "cell_type": "code",
   "execution_count": 101,
   "metadata": {
    "collapsed": false
   },
   "outputs": [
    {
     "data": {
      "text/html": [
       "<div>\n",
       "<table border=\"1\" class=\"dataframe\">\n",
       "  <thead>\n",
       "    <tr style=\"text-align: right;\">\n",
       "      <th></th>\n",
       "      <th></th>\n",
       "      <th>A</th>\n",
       "      <th>B</th>\n",
       "    </tr>\n",
       "    <tr>\n",
       "      <th>first</th>\n",
       "      <th>second</th>\n",
       "      <th></th>\n",
       "      <th></th>\n",
       "    </tr>\n",
       "  </thead>\n",
       "  <tbody>\n",
       "    <tr>\n",
       "      <th rowspan=\"2\" valign=\"top\">bar</th>\n",
       "      <th>one</th>\n",
       "      <td>-1.385926</td>\n",
       "      <td>1.133564</td>\n",
       "    </tr>\n",
       "    <tr>\n",
       "      <th>two</th>\n",
       "      <td>0.129725</td>\n",
       "      <td>0.763149</td>\n",
       "    </tr>\n",
       "    <tr>\n",
       "      <th rowspan=\"2\" valign=\"top\">baz</th>\n",
       "      <th>one</th>\n",
       "      <td>0.659805</td>\n",
       "      <td>0.051334</td>\n",
       "    </tr>\n",
       "    <tr>\n",
       "      <th>two</th>\n",
       "      <td>0.548517</td>\n",
       "      <td>-0.289576</td>\n",
       "    </tr>\n",
       "  </tbody>\n",
       "</table>\n",
       "</div>"
      ],
      "text/plain": [
       "                     A         B\n",
       "first second                    \n",
       "bar   one    -1.385926  1.133564\n",
       "      two     0.129725  0.763149\n",
       "baz   one     0.659805  0.051334\n",
       "      two     0.548517 -0.289576"
      ]
     },
     "execution_count": 101,
     "metadata": {},
     "output_type": "execute_result"
    }
   ],
   "source": [
    "stacked.unstack(2)"
   ]
  },
  {
   "cell_type": "markdown",
   "metadata": {},
   "source": [
    "### Pivot Tables"
   ]
  },
  {
   "cell_type": "code",
   "execution_count": 103,
   "metadata": {
    "collapsed": false
   },
   "outputs": [
    {
     "data": {
      "text/html": [
       "<div>\n",
       "<table border=\"1\" class=\"dataframe\">\n",
       "  <thead>\n",
       "    <tr style=\"text-align: right;\">\n",
       "      <th></th>\n",
       "      <th>A</th>\n",
       "      <th>B</th>\n",
       "      <th>C</th>\n",
       "      <th>D</th>\n",
       "      <th>E</th>\n",
       "    </tr>\n",
       "  </thead>\n",
       "  <tbody>\n",
       "    <tr>\n",
       "      <th>0</th>\n",
       "      <td>one</td>\n",
       "      <td>A</td>\n",
       "      <td>foo</td>\n",
       "      <td>-0.692101</td>\n",
       "      <td>3.116228</td>\n",
       "    </tr>\n",
       "    <tr>\n",
       "      <th>1</th>\n",
       "      <td>one</td>\n",
       "      <td>B</td>\n",
       "      <td>foo</td>\n",
       "      <td>0.522442</td>\n",
       "      <td>0.793411</td>\n",
       "    </tr>\n",
       "    <tr>\n",
       "      <th>2</th>\n",
       "      <td>two</td>\n",
       "      <td>C</td>\n",
       "      <td>foo</td>\n",
       "      <td>-0.010115</td>\n",
       "      <td>0.646898</td>\n",
       "    </tr>\n",
       "    <tr>\n",
       "      <th>3</th>\n",
       "      <td>three</td>\n",
       "      <td>A</td>\n",
       "      <td>bar</td>\n",
       "      <td>-0.234154</td>\n",
       "      <td>0.840045</td>\n",
       "    </tr>\n",
       "    <tr>\n",
       "      <th>4</th>\n",
       "      <td>one</td>\n",
       "      <td>B</td>\n",
       "      <td>bar</td>\n",
       "      <td>1.399747</td>\n",
       "      <td>0.935003</td>\n",
       "    </tr>\n",
       "    <tr>\n",
       "      <th>5</th>\n",
       "      <td>one</td>\n",
       "      <td>C</td>\n",
       "      <td>bar</td>\n",
       "      <td>2.274388</td>\n",
       "      <td>-1.720243</td>\n",
       "    </tr>\n",
       "    <tr>\n",
       "      <th>6</th>\n",
       "      <td>two</td>\n",
       "      <td>A</td>\n",
       "      <td>foo</td>\n",
       "      <td>-0.676459</td>\n",
       "      <td>-0.218054</td>\n",
       "    </tr>\n",
       "    <tr>\n",
       "      <th>7</th>\n",
       "      <td>three</td>\n",
       "      <td>B</td>\n",
       "      <td>foo</td>\n",
       "      <td>-0.285357</td>\n",
       "      <td>0.431224</td>\n",
       "    </tr>\n",
       "    <tr>\n",
       "      <th>8</th>\n",
       "      <td>one</td>\n",
       "      <td>C</td>\n",
       "      <td>foo</td>\n",
       "      <td>-0.049628</td>\n",
       "      <td>-0.638344</td>\n",
       "    </tr>\n",
       "    <tr>\n",
       "      <th>9</th>\n",
       "      <td>one</td>\n",
       "      <td>A</td>\n",
       "      <td>bar</td>\n",
       "      <td>-0.679162</td>\n",
       "      <td>0.688089</td>\n",
       "    </tr>\n",
       "    <tr>\n",
       "      <th>10</th>\n",
       "      <td>two</td>\n",
       "      <td>B</td>\n",
       "      <td>bar</td>\n",
       "      <td>-0.303621</td>\n",
       "      <td>0.829610</td>\n",
       "    </tr>\n",
       "    <tr>\n",
       "      <th>11</th>\n",
       "      <td>three</td>\n",
       "      <td>C</td>\n",
       "      <td>bar</td>\n",
       "      <td>-1.383368</td>\n",
       "      <td>-2.235058</td>\n",
       "    </tr>\n",
       "  </tbody>\n",
       "</table>\n",
       "</div>"
      ],
      "text/plain": [
       "        A  B    C         D         E\n",
       "0     one  A  foo -0.692101  3.116228\n",
       "1     one  B  foo  0.522442  0.793411\n",
       "2     two  C  foo -0.010115  0.646898\n",
       "3   three  A  bar -0.234154  0.840045\n",
       "4     one  B  bar  1.399747  0.935003\n",
       "5     one  C  bar  2.274388 -1.720243\n",
       "6     two  A  foo -0.676459 -0.218054\n",
       "7   three  B  foo -0.285357  0.431224\n",
       "8     one  C  foo -0.049628 -0.638344\n",
       "9     one  A  bar -0.679162  0.688089\n",
       "10    two  B  bar -0.303621  0.829610\n",
       "11  three  C  bar -1.383368 -2.235058"
      ]
     },
     "execution_count": 103,
     "metadata": {},
     "output_type": "execute_result"
    }
   ],
   "source": [
    "df = pd.DataFrame({'A' : ['one', 'one', 'two', 'three'] * 3,\n",
    "                   'B' : ['A', 'B', 'C'] * 4,\n",
    "                   'C' : ['foo', 'foo', 'foo', 'bar', 'bar', 'bar'] * 2,\n",
    "                   'D' : np.random.randn(12),\n",
    "                   'E' : np.random.randn(12)})\n",
    "df"
   ]
  },
  {
   "cell_type": "code",
   "execution_count": 104,
   "metadata": {
    "collapsed": false
   },
   "outputs": [
    {
     "data": {
      "text/html": [
       "<div>\n",
       "<table border=\"1\" class=\"dataframe\">\n",
       "  <thead>\n",
       "    <tr style=\"text-align: right;\">\n",
       "      <th></th>\n",
       "      <th>C</th>\n",
       "      <th>bar</th>\n",
       "      <th>foo</th>\n",
       "    </tr>\n",
       "    <tr>\n",
       "      <th>A</th>\n",
       "      <th>B</th>\n",
       "      <th></th>\n",
       "      <th></th>\n",
       "    </tr>\n",
       "  </thead>\n",
       "  <tbody>\n",
       "    <tr>\n",
       "      <th rowspan=\"3\" valign=\"top\">one</th>\n",
       "      <th>A</th>\n",
       "      <td>-0.679162</td>\n",
       "      <td>-0.692101</td>\n",
       "    </tr>\n",
       "    <tr>\n",
       "      <th>B</th>\n",
       "      <td>1.399747</td>\n",
       "      <td>0.522442</td>\n",
       "    </tr>\n",
       "    <tr>\n",
       "      <th>C</th>\n",
       "      <td>2.274388</td>\n",
       "      <td>-0.049628</td>\n",
       "    </tr>\n",
       "    <tr>\n",
       "      <th rowspan=\"3\" valign=\"top\">three</th>\n",
       "      <th>A</th>\n",
       "      <td>-0.234154</td>\n",
       "      <td>NaN</td>\n",
       "    </tr>\n",
       "    <tr>\n",
       "      <th>B</th>\n",
       "      <td>NaN</td>\n",
       "      <td>-0.285357</td>\n",
       "    </tr>\n",
       "    <tr>\n",
       "      <th>C</th>\n",
       "      <td>-1.383368</td>\n",
       "      <td>NaN</td>\n",
       "    </tr>\n",
       "    <tr>\n",
       "      <th rowspan=\"3\" valign=\"top\">two</th>\n",
       "      <th>A</th>\n",
       "      <td>NaN</td>\n",
       "      <td>-0.676459</td>\n",
       "    </tr>\n",
       "    <tr>\n",
       "      <th>B</th>\n",
       "      <td>-0.303621</td>\n",
       "      <td>NaN</td>\n",
       "    </tr>\n",
       "    <tr>\n",
       "      <th>C</th>\n",
       "      <td>NaN</td>\n",
       "      <td>-0.010115</td>\n",
       "    </tr>\n",
       "  </tbody>\n",
       "</table>\n",
       "</div>"
      ],
      "text/plain": [
       "C             bar       foo\n",
       "A     B                    \n",
       "one   A -0.679162 -0.692101\n",
       "      B  1.399747  0.522442\n",
       "      C  2.274388 -0.049628\n",
       "three A -0.234154       NaN\n",
       "      B       NaN -0.285357\n",
       "      C -1.383368       NaN\n",
       "two   A       NaN -0.676459\n",
       "      B -0.303621       NaN\n",
       "      C       NaN -0.010115"
      ]
     },
     "execution_count": 104,
     "metadata": {},
     "output_type": "execute_result"
    }
   ],
   "source": [
    "pd.pivot_table(df, values='D', index=['A', 'B'], columns=['C'])"
   ]
  },
  {
   "cell_type": "markdown",
   "metadata": {},
   "source": [
    "## 时间序列"
   ]
  },
  {
   "cell_type": "code",
   "execution_count": 105,
   "metadata": {
    "collapsed": true
   },
   "outputs": [
    {
     "data": {
      "text/plain": [
       "DatetimeIndex(['2016-01-01 00:00:00', '2016-01-01 00:00:01',\n",
       "               '2016-01-01 00:00:02', '2016-01-01 00:00:03',\n",
       "               '2016-01-01 00:00:04', '2016-01-01 00:00:05',\n",
       "               '2016-01-01 00:00:06', '2016-01-01 00:00:07',\n",
       "               '2016-01-01 00:00:08', '2016-01-01 00:00:09',\n",
       "               '2016-01-01 00:00:10', '2016-01-01 00:00:11',\n",
       "               '2016-01-01 00:00:12', '2016-01-01 00:00:13',\n",
       "               '2016-01-01 00:00:14', '2016-01-01 00:00:15',\n",
       "               '2016-01-01 00:00:16', '2016-01-01 00:00:17',\n",
       "               '2016-01-01 00:00:18', '2016-01-01 00:00:19',\n",
       "               '2016-01-01 00:00:20', '2016-01-01 00:00:21',\n",
       "               '2016-01-01 00:00:22', '2016-01-01 00:00:23',\n",
       "               '2016-01-01 00:00:24', '2016-01-01 00:00:25',\n",
       "               '2016-01-01 00:00:26', '2016-01-01 00:00:27',\n",
       "               '2016-01-01 00:00:28', '2016-01-01 00:00:29',\n",
       "               '2016-01-01 00:00:30', '2016-01-01 00:00:31',\n",
       "               '2016-01-01 00:00:32', '2016-01-01 00:00:33',\n",
       "               '2016-01-01 00:00:34', '2016-01-01 00:00:35',\n",
       "               '2016-01-01 00:00:36', '2016-01-01 00:00:37',\n",
       "               '2016-01-01 00:00:38', '2016-01-01 00:00:39',\n",
       "               '2016-01-01 00:00:40', '2016-01-01 00:00:41',\n",
       "               '2016-01-01 00:00:42', '2016-01-01 00:00:43',\n",
       "               '2016-01-01 00:00:44', '2016-01-01 00:00:45',\n",
       "               '2016-01-01 00:00:46', '2016-01-01 00:00:47',\n",
       "               '2016-01-01 00:00:48', '2016-01-01 00:00:49',\n",
       "               '2016-01-01 00:00:50', '2016-01-01 00:00:51',\n",
       "               '2016-01-01 00:00:52', '2016-01-01 00:00:53',\n",
       "               '2016-01-01 00:00:54', '2016-01-01 00:00:55',\n",
       "               '2016-01-01 00:00:56', '2016-01-01 00:00:57',\n",
       "               '2016-01-01 00:00:58', '2016-01-01 00:00:59',\n",
       "               '2016-01-01 00:01:00', '2016-01-01 00:01:01',\n",
       "               '2016-01-01 00:01:02', '2016-01-01 00:01:03',\n",
       "               '2016-01-01 00:01:04', '2016-01-01 00:01:05',\n",
       "               '2016-01-01 00:01:06', '2016-01-01 00:01:07',\n",
       "               '2016-01-01 00:01:08', '2016-01-01 00:01:09',\n",
       "               '2016-01-01 00:01:10', '2016-01-01 00:01:11',\n",
       "               '2016-01-01 00:01:12', '2016-01-01 00:01:13',\n",
       "               '2016-01-01 00:01:14', '2016-01-01 00:01:15',\n",
       "               '2016-01-01 00:01:16', '2016-01-01 00:01:17',\n",
       "               '2016-01-01 00:01:18', '2016-01-01 00:01:19',\n",
       "               '2016-01-01 00:01:20', '2016-01-01 00:01:21',\n",
       "               '2016-01-01 00:01:22', '2016-01-01 00:01:23',\n",
       "               '2016-01-01 00:01:24', '2016-01-01 00:01:25',\n",
       "               '2016-01-01 00:01:26', '2016-01-01 00:01:27',\n",
       "               '2016-01-01 00:01:28', '2016-01-01 00:01:29',\n",
       "               '2016-01-01 00:01:30', '2016-01-01 00:01:31',\n",
       "               '2016-01-01 00:01:32', '2016-01-01 00:01:33',\n",
       "               '2016-01-01 00:01:34', '2016-01-01 00:01:35',\n",
       "               '2016-01-01 00:01:36', '2016-01-01 00:01:37',\n",
       "               '2016-01-01 00:01:38', '2016-01-01 00:01:39'],\n",
       "              dtype='datetime64[ns]', freq='S')"
      ]
     },
     "execution_count": 105,
     "metadata": {},
     "output_type": "execute_result"
    }
   ],
   "source": [
    "rng = pd.date_range('20160101', periods=100, freq='S')#以1s为步长，取100个时间\n",
    "rng"
   ]
  },
  {
   "cell_type": "code",
   "execution_count": 107,
   "metadata": {
    "collapsed": true
   },
   "outputs": [
    {
     "data": {
      "text/plain": [
       "2016-01-01 00:00:00    494\n",
       "2016-01-01 00:00:01    101\n",
       "2016-01-01 00:00:02    416\n",
       "2016-01-01 00:00:03    450\n",
       "2016-01-01 00:00:04    318\n",
       "2016-01-01 00:00:05    362\n",
       "2016-01-01 00:00:06    256\n",
       "2016-01-01 00:00:07      0\n",
       "2016-01-01 00:00:08    157\n",
       "2016-01-01 00:00:09    245\n",
       "2016-01-01 00:00:10    231\n",
       "2016-01-01 00:00:11    353\n",
       "2016-01-01 00:00:12    128\n",
       "2016-01-01 00:00:13    233\n",
       "2016-01-01 00:00:14    245\n",
       "2016-01-01 00:00:15    326\n",
       "2016-01-01 00:00:16    351\n",
       "2016-01-01 00:00:17    445\n",
       "2016-01-01 00:00:18    324\n",
       "2016-01-01 00:00:19    404\n",
       "2016-01-01 00:00:20     92\n",
       "2016-01-01 00:00:21    205\n",
       "2016-01-01 00:00:22    229\n",
       "2016-01-01 00:00:23    134\n",
       "2016-01-01 00:00:24    485\n",
       "2016-01-01 00:00:25    119\n",
       "2016-01-01 00:00:26    379\n",
       "2016-01-01 00:00:27    151\n",
       "2016-01-01 00:00:28    160\n",
       "2016-01-01 00:00:29    379\n",
       "                      ... \n",
       "2016-01-01 00:01:10    424\n",
       "2016-01-01 00:01:11    223\n",
       "2016-01-01 00:01:12    170\n",
       "2016-01-01 00:01:13    119\n",
       "2016-01-01 00:01:14    283\n",
       "2016-01-01 00:01:15    252\n",
       "2016-01-01 00:01:16    192\n",
       "2016-01-01 00:01:17    448\n",
       "2016-01-01 00:01:18    363\n",
       "2016-01-01 00:01:19    362\n",
       "2016-01-01 00:01:20    417\n",
       "2016-01-01 00:01:21     28\n",
       "2016-01-01 00:01:22    205\n",
       "2016-01-01 00:01:23    431\n",
       "2016-01-01 00:01:24    473\n",
       "2016-01-01 00:01:25    319\n",
       "2016-01-01 00:01:26     87\n",
       "2016-01-01 00:01:27    157\n",
       "2016-01-01 00:01:28    393\n",
       "2016-01-01 00:01:29     40\n",
       "2016-01-01 00:01:30    415\n",
       "2016-01-01 00:01:31    127\n",
       "2016-01-01 00:01:32     28\n",
       "2016-01-01 00:01:33     45\n",
       "2016-01-01 00:01:34     88\n",
       "2016-01-01 00:01:35    134\n",
       "2016-01-01 00:01:36    368\n",
       "2016-01-01 00:01:37      1\n",
       "2016-01-01 00:01:38    110\n",
       "2016-01-01 00:01:39    436\n",
       "Freq: S, dtype: int32"
      ]
     },
     "execution_count": 107,
     "metadata": {},
     "output_type": "execute_result"
    }
   ],
   "source": [
    "ts = pd.Series(np.random.randint(0,500,len(rng)), index=rng)\n",
    "ts"
   ]
  },
  {
   "cell_type": "code",
   "execution_count": 112,
   "metadata": {
    "collapsed": false
   },
   "outputs": [],
   "source": [
    "ts.resample?"
   ]
  },
  {
   "cell_type": "code",
   "execution_count": 108,
   "metadata": {
    "collapsed": false
   },
   "outputs": [
    {
     "data": {
      "text/plain": [
       "2016-01-01    24342\n",
       "Freq: 5T, dtype: int32"
      ]
     },
     "execution_count": 108,
     "metadata": {},
     "output_type": "execute_result"
    }
   ],
   "source": [
    "ts.resample('5Min').sum()"
   ]
  },
  {
   "cell_type": "code",
   "execution_count": 113,
   "metadata": {
    "collapsed": false
   },
   "outputs": [
    {
     "data": {
      "text/plain": [
       "DatetimeIndex(['2016-12-01', '2016-12-02', '2016-12-03', '2016-12-04',\n",
       "               '2016-12-05'],\n",
       "              dtype='datetime64[ns]', freq='D')"
      ]
     },
     "execution_count": 113,
     "metadata": {},
     "output_type": "execute_result"
    }
   ],
   "source": [
    "rng = pd.date_range('20161201 00:00', periods=5, freq='D')\n",
    "rng"
   ]
  },
  {
   "cell_type": "code",
   "execution_count": 114,
   "metadata": {
    "collapsed": false
   },
   "outputs": [
    {
     "data": {
      "text/plain": [
       "2016-12-01   -1.445692\n",
       "2016-12-02   -2.282532\n",
       "2016-12-03    0.411475\n",
       "2016-12-04   -0.902594\n",
       "2016-12-05   -0.609815\n",
       "Freq: D, dtype: float64"
      ]
     },
     "execution_count": 114,
     "metadata": {},
     "output_type": "execute_result"
    }
   ],
   "source": [
    "ts = pd.Series(np.random.randn(len(rng)), rng)\n",
    "ts"
   ]
  },
  {
   "cell_type": "code",
   "execution_count": 115,
   "metadata": {
    "collapsed": false
   },
   "outputs": [
    {
     "data": {
      "text/plain": [
       "2016-12-01 00:00:00+00:00   -1.445692\n",
       "2016-12-02 00:00:00+00:00   -2.282532\n",
       "2016-12-03 00:00:00+00:00    0.411475\n",
       "2016-12-04 00:00:00+00:00   -0.902594\n",
       "2016-12-05 00:00:00+00:00   -0.609815\n",
       "Freq: D, dtype: float64"
      ]
     },
     "execution_count": 115,
     "metadata": {},
     "output_type": "execute_result"
    }
   ],
   "source": [
    "ts_utc = ts.tz_localize('UTC')\n",
    "ts_utc"
   ]
  },
  {
   "cell_type": "code",
   "execution_count": 116,
   "metadata": {
    "collapsed": false
   },
   "outputs": [
    {
     "data": {
      "text/plain": [
       "2016-11-30 19:00:00-05:00   -1.445692\n",
       "2016-12-01 19:00:00-05:00   -2.282532\n",
       "2016-12-02 19:00:00-05:00    0.411475\n",
       "2016-12-03 19:00:00-05:00   -0.902594\n",
       "2016-12-04 19:00:00-05:00   -0.609815\n",
       "Freq: D, dtype: float64"
      ]
     },
     "execution_count": 116,
     "metadata": {},
     "output_type": "execute_result"
    }
   ],
   "source": [
    "#改变为其他时区\n",
    "ts_utc.tz_convert('US/Eastern')"
   ]
  },
  {
   "cell_type": "code",
   "execution_count": 117,
   "metadata": {
    "collapsed": true
   },
   "outputs": [],
   "source": [
    "ts.to_period?"
   ]
  },
  {
   "cell_type": "code",
   "execution_count": 118,
   "metadata": {
    "collapsed": false
   },
   "outputs": [
    {
     "data": {
      "text/plain": [
       "PeriodIndex(['1990Q1', '1990Q2', '1990Q3', '1990Q4', '1991Q1', '1991Q2',\n",
       "             '1991Q3', '1991Q4', '1992Q1', '1992Q2', '1992Q3', '1992Q4',\n",
       "             '1993Q1', '1993Q2', '1993Q3', '1993Q4', '1994Q1', '1994Q2',\n",
       "             '1994Q3', '1994Q4', '1995Q1', '1995Q2', '1995Q3', '1995Q4',\n",
       "             '1996Q1', '1996Q2', '1996Q3', '1996Q4', '1997Q1', '1997Q2',\n",
       "             '1997Q3', '1997Q4', '1998Q1', '1998Q2', '1998Q3', '1998Q4',\n",
       "             '1999Q1', '1999Q2', '1999Q3', '1999Q4', '2000Q1', '2000Q2',\n",
       "             '2000Q3', '2000Q4'],\n",
       "            dtype='period[Q-NOV]', freq='Q-NOV')"
      ]
     },
     "execution_count": 118,
     "metadata": {},
     "output_type": "execute_result"
    }
   ],
   "source": [
    "png = pd.period_range('1990Q1','2000Q4', freq='Q-NOV')\n",
    "png"
   ]
  },
  {
   "cell_type": "code",
   "execution_count": 119,
   "metadata": {
    "collapsed": true
   },
   "outputs": [],
   "source": [
    "ts = pd.Series(np.random.randn(len(png)), png)\n",
    "ts.index = (png.asfreq('M', 'e')+1).asfreq('H', 's')+9"
   ]
  },
  {
   "cell_type": "code",
   "execution_count": 120,
   "metadata": {
    "collapsed": false
   },
   "outputs": [
    {
     "data": {
      "text/plain": [
       "1990-03-01 09:00   -0.533135\n",
       "1990-06-01 09:00   -1.555253\n",
       "1990-09-01 09:00    0.200784\n",
       "1990-12-01 09:00   -1.076143\n",
       "1991-03-01 09:00    0.871497\n",
       "Freq: H, dtype: float64"
      ]
     },
     "execution_count": 120,
     "metadata": {},
     "output_type": "execute_result"
    }
   ],
   "source": [
    "ts.head()"
   ]
  },
  {
   "cell_type": "markdown",
   "metadata": {},
   "source": [
    "## Categoricals类型"
   ]
  },
  {
   "cell_type": "code",
   "execution_count": null,
   "metadata": {
    "collapsed": true
   },
   "outputs": [],
   "source": []
  },
  {
   "cell_type": "markdown",
   "metadata": {
    "collapsed": true
   },
   "source": [
    "http://pandas.pydata.org/pandas-docs/stable/overview.html"
   ]
  }
 ],
 "metadata": {
  "kernelspec": {
   "display_name": "Python 2",
   "language": "python",
   "name": "python2"
  },
  "language_info": {
   "codemirror_mode": {
    "name": "ipython",
    "version": 2
   },
   "file_extension": ".py",
   "mimetype": "text/x-python",
   "name": "python",
   "nbconvert_exporter": "python",
   "pygments_lexer": "ipython2",
   "version": "2.7.12"
  }
 },
 "nbformat": 4,
 "nbformat_minor": 0
}
